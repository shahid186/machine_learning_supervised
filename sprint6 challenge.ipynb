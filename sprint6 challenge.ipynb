{
 "cells": [
  {
   "cell_type": "code",
   "execution_count": 1,
   "id": "e6452d19",
   "metadata": {},
   "outputs": [],
   "source": [
    "import pandas as pd\n",
    "import numpy as np\n",
    "import matplotlib.pyplot as plt\n",
    "import seaborn as sb\n",
    "\n",
    "from sklearn.model_selection import train_test_split\n",
    "from sklearn.model_selection import cross_val_score,RepeatedStratifiedKFold\n",
    "\n",
    "from sklearn.preprocessing import MinMaxScaler,StandardScaler\n",
    "from sklearn.preprocessing import LabelEncoder"
   ]
  },
  {
   "cell_type": "markdown",
   "id": "d0ae09da",
   "metadata": {},
   "source": [
    "# Data Loading"
   ]
  },
  {
   "cell_type": "code",
   "execution_count": 2,
   "id": "36bafd33",
   "metadata": {},
   "outputs": [
    {
     "data": {
      "text/html": [
       "<div>\n",
       "<style scoped>\n",
       "    .dataframe tbody tr th:only-of-type {\n",
       "        vertical-align: middle;\n",
       "    }\n",
       "\n",
       "    .dataframe tbody tr th {\n",
       "        vertical-align: top;\n",
       "    }\n",
       "\n",
       "    .dataframe thead th {\n",
       "        text-align: right;\n",
       "    }\n",
       "</style>\n",
       "<table border=\"1\" class=\"dataframe\">\n",
       "  <thead>\n",
       "    <tr style=\"text-align: right;\">\n",
       "      <th></th>\n",
       "      <th>Unnamed: 0</th>\n",
       "      <th>bathrooms</th>\n",
       "      <th>bedrooms</th>\n",
       "      <th>building_id</th>\n",
       "      <th>created</th>\n",
       "      <th>description</th>\n",
       "      <th>display_address</th>\n",
       "      <th>features</th>\n",
       "      <th>latitude</th>\n",
       "      <th>listing_id</th>\n",
       "      <th>longitude</th>\n",
       "      <th>manager_id</th>\n",
       "      <th>photos</th>\n",
       "      <th>price</th>\n",
       "      <th>street_address</th>\n",
       "      <th>interest_level</th>\n",
       "    </tr>\n",
       "  </thead>\n",
       "  <tbody>\n",
       "    <tr>\n",
       "      <th>0</th>\n",
       "      <td>105408</td>\n",
       "      <td>1.0</td>\n",
       "      <td>0</td>\n",
       "      <td>0f9d07991ba14c82d3d368b72d90270a</td>\n",
       "      <td>04-04-2016 03:34</td>\n",
       "      <td>Gorgeous unit in one of the most genuinely cov...</td>\n",
       "      <td>230 Central Park South</td>\n",
       "      <td>['Cats Allowed', 'Dogs Allowed', 'Doorman', 'E...</td>\n",
       "      <td>40.7672</td>\n",
       "      <td>6827153</td>\n",
       "      <td>-73.9802</td>\n",
       "      <td>932589de9230b697808216774fa26bd4</td>\n",
       "      <td>['https://photos.renthop.com/2/6821519_0a14cc2...</td>\n",
       "      <td>2800</td>\n",
       "      <td>230 Central Park South</td>\n",
       "      <td>high</td>\n",
       "    </tr>\n",
       "    <tr>\n",
       "      <th>1</th>\n",
       "      <td>110219</td>\n",
       "      <td>1.0</td>\n",
       "      <td>1</td>\n",
       "      <td>564d6f608f41e8d4a5e181c4e068e3d9</td>\n",
       "      <td>21-04-2016 20:40</td>\n",
       "      <td>Enormous 1 bedroom apartment in Murray Hill. F...</td>\n",
       "      <td>E 39th St</td>\n",
       "      <td>['Cats Allowed', 'Dogs Allowed', 'Reduced Fee'...</td>\n",
       "      <td>40.7483</td>\n",
       "      <td>6908998</td>\n",
       "      <td>-73.9741</td>\n",
       "      <td>489ad933197469ae66acd1f7ce18f908</td>\n",
       "      <td>['https://photos.renthop.com/2/6908998_6b00895...</td>\n",
       "      <td>2100</td>\n",
       "      <td>243 E 39th St</td>\n",
       "      <td>high</td>\n",
       "    </tr>\n",
       "    <tr>\n",
       "      <th>2</th>\n",
       "      <td>56113</td>\n",
       "      <td>1.0</td>\n",
       "      <td>1</td>\n",
       "      <td>69790fbf0bf7e22b1d0ebc721cf0f633</td>\n",
       "      <td>14-05-2016 05:44</td>\n",
       "      <td>This 1 bedroom, 1 bathroom spacious apartment ...</td>\n",
       "      <td>E 25th St.</td>\n",
       "      <td>['Elevator', 'Furnished', 'Hardwood Floors']</td>\n",
       "      <td>40.7399</td>\n",
       "      <td>7013774</td>\n",
       "      <td>-73.9812</td>\n",
       "      <td>792c0f1ad1431397c65db3e69b770928</td>\n",
       "      <td>['https://photos.renthop.com/2/7013774_e7ead5d...</td>\n",
       "      <td>3000</td>\n",
       "      <td>217 E 25th St.</td>\n",
       "      <td>high</td>\n",
       "    </tr>\n",
       "    <tr>\n",
       "      <th>3</th>\n",
       "      <td>37765</td>\n",
       "      <td>1.0</td>\n",
       "      <td>2</td>\n",
       "      <td>d0234abbc01a982d54e8d446acc03405</td>\n",
       "      <td>05-06-2016 03:37</td>\n",
       "      <td>SPECTACULAR2 BEDROOM APARTMENT IN LUXURY 24HR ...</td>\n",
       "      <td>West 34th Street</td>\n",
       "      <td>['Doorman', 'Elevator', 'Dishwasher', 'Hardwoo...</td>\n",
       "      <td>40.7530</td>\n",
       "      <td>7113518</td>\n",
       "      <td>-73.9958</td>\n",
       "      <td>eb5a6c4c2eb6f3e2a085c477afd5a815</td>\n",
       "      <td>['https://photos.renthop.com/2/7113518_d234153...</td>\n",
       "      <td>3000</td>\n",
       "      <td>360 West 34th Street</td>\n",
       "      <td>high</td>\n",
       "    </tr>\n",
       "    <tr>\n",
       "      <th>4</th>\n",
       "      <td>67397</td>\n",
       "      <td>1.0</td>\n",
       "      <td>2</td>\n",
       "      <td>a36895b9975c6991ca0fa1d9a99023a1</td>\n",
       "      <td>26-05-2016 05:36</td>\n",
       "      <td>NO FEE.. Newly Reno XL Convertible 2 Br .. Pri...</td>\n",
       "      <td>East 72nd Street</td>\n",
       "      <td>['Dining Room', 'Doorman', 'Elevator', 'Fitnes...</td>\n",
       "      <td>40.7695</td>\n",
       "      <td>7071666</td>\n",
       "      <td>-73.9603</td>\n",
       "      <td>0a6ba20b892ed61df751420934d1ab51</td>\n",
       "      <td>['https://photos.renthop.com/2/7071666_4f81618...</td>\n",
       "      <td>3300</td>\n",
       "      <td>200 East 72nd Street</td>\n",
       "      <td>high</td>\n",
       "    </tr>\n",
       "  </tbody>\n",
       "</table>\n",
       "</div>"
      ],
      "text/plain": [
       "   Unnamed: 0  bathrooms  bedrooms                       building_id  \\\n",
       "0      105408        1.0         0  0f9d07991ba14c82d3d368b72d90270a   \n",
       "1      110219        1.0         1  564d6f608f41e8d4a5e181c4e068e3d9   \n",
       "2       56113        1.0         1  69790fbf0bf7e22b1d0ebc721cf0f633   \n",
       "3       37765        1.0         2  d0234abbc01a982d54e8d446acc03405   \n",
       "4       67397        1.0         2  a36895b9975c6991ca0fa1d9a99023a1   \n",
       "\n",
       "            created                                        description  \\\n",
       "0  04-04-2016 03:34  Gorgeous unit in one of the most genuinely cov...   \n",
       "1  21-04-2016 20:40  Enormous 1 bedroom apartment in Murray Hill. F...   \n",
       "2  14-05-2016 05:44  This 1 bedroom, 1 bathroom spacious apartment ...   \n",
       "3  05-06-2016 03:37  SPECTACULAR2 BEDROOM APARTMENT IN LUXURY 24HR ...   \n",
       "4  26-05-2016 05:36  NO FEE.. Newly Reno XL Convertible 2 Br .. Pri...   \n",
       "\n",
       "          display_address                                           features  \\\n",
       "0  230 Central Park South  ['Cats Allowed', 'Dogs Allowed', 'Doorman', 'E...   \n",
       "1               E 39th St  ['Cats Allowed', 'Dogs Allowed', 'Reduced Fee'...   \n",
       "2              E 25th St.       ['Elevator', 'Furnished', 'Hardwood Floors']   \n",
       "3        West 34th Street  ['Doorman', 'Elevator', 'Dishwasher', 'Hardwoo...   \n",
       "4        East 72nd Street  ['Dining Room', 'Doorman', 'Elevator', 'Fitnes...   \n",
       "\n",
       "   latitude  listing_id  longitude                        manager_id  \\\n",
       "0   40.7672     6827153   -73.9802  932589de9230b697808216774fa26bd4   \n",
       "1   40.7483     6908998   -73.9741  489ad933197469ae66acd1f7ce18f908   \n",
       "2   40.7399     7013774   -73.9812  792c0f1ad1431397c65db3e69b770928   \n",
       "3   40.7530     7113518   -73.9958  eb5a6c4c2eb6f3e2a085c477afd5a815   \n",
       "4   40.7695     7071666   -73.9603  0a6ba20b892ed61df751420934d1ab51   \n",
       "\n",
       "                                              photos  price  \\\n",
       "0  ['https://photos.renthop.com/2/6821519_0a14cc2...   2800   \n",
       "1  ['https://photos.renthop.com/2/6908998_6b00895...   2100   \n",
       "2  ['https://photos.renthop.com/2/7013774_e7ead5d...   3000   \n",
       "3  ['https://photos.renthop.com/2/7113518_d234153...   3000   \n",
       "4  ['https://photos.renthop.com/2/7071666_4f81618...   3300   \n",
       "\n",
       "           street_address interest_level  \n",
       "0  230 Central Park South           high  \n",
       "1           243 E 39th St           high  \n",
       "2          217 E 25th St.           high  \n",
       "3    360 West 34th Street           high  \n",
       "4    200 East 72nd Street           high  "
      ]
     },
     "execution_count": 2,
     "metadata": {},
     "output_type": "execute_result"
    }
   ],
   "source": [
    "df=pd.read_csv('DS2_C5_S7_AllRent_Data_Challenge.csv')\n",
    "df.head()"
   ]
  },
  {
   "cell_type": "code",
   "execution_count": 3,
   "id": "7d0ef435",
   "metadata": {},
   "outputs": [
    {
     "data": {
      "text/plain": [
       "Unnamed: 0         9871\n",
       "bathrooms            12\n",
       "bedrooms              8\n",
       "building_id        3275\n",
       "created            7892\n",
       "description        8680\n",
       "display_address    3233\n",
       "features           3548\n",
       "latitude           1632\n",
       "listing_id         9871\n",
       "longitude          1169\n",
       "manager_id         2074\n",
       "photos             9186\n",
       "price              1318\n",
       "street_address     5509\n",
       "interest_level        3\n",
       "dtype: int64"
      ]
     },
     "execution_count": 3,
     "metadata": {},
     "output_type": "execute_result"
    }
   ],
   "source": [
    "df.nunique()"
   ]
  },
  {
   "cell_type": "code",
   "execution_count": 4,
   "id": "f04ed628",
   "metadata": {},
   "outputs": [],
   "source": [
    "df['created']=pd.to_datetime(df['created'])"
   ]
  },
  {
   "cell_type": "code",
   "execution_count": 6,
   "id": "b2ebed60",
   "metadata": {},
   "outputs": [],
   "source": [
    "df['created']=pd.to_datetime(df['created'])"
   ]
  },
  {
   "cell_type": "code",
   "execution_count": 5,
   "id": "7e98c63c",
   "metadata": {
    "collapsed": true
   },
   "outputs": [
    {
     "data": {
      "text/html": [
       "<div>\n",
       "<style scoped>\n",
       "    .dataframe tbody tr th:only-of-type {\n",
       "        vertical-align: middle;\n",
       "    }\n",
       "\n",
       "    .dataframe tbody tr th {\n",
       "        vertical-align: top;\n",
       "    }\n",
       "\n",
       "    .dataframe thead th {\n",
       "        text-align: right;\n",
       "    }\n",
       "</style>\n",
       "<table border=\"1\" class=\"dataframe\">\n",
       "  <thead>\n",
       "    <tr style=\"text-align: right;\">\n",
       "      <th></th>\n",
       "      <th>Unnamed: 0</th>\n",
       "      <th>bathrooms</th>\n",
       "      <th>bedrooms</th>\n",
       "      <th>building_id</th>\n",
       "      <th>created</th>\n",
       "      <th>description</th>\n",
       "      <th>display_address</th>\n",
       "      <th>features</th>\n",
       "      <th>latitude</th>\n",
       "      <th>listing_id</th>\n",
       "      <th>longitude</th>\n",
       "      <th>manager_id</th>\n",
       "      <th>photos</th>\n",
       "      <th>price</th>\n",
       "      <th>street_address</th>\n",
       "      <th>interest_level</th>\n",
       "    </tr>\n",
       "  </thead>\n",
       "  <tbody>\n",
       "    <tr>\n",
       "      <th>0</th>\n",
       "      <td>105408</td>\n",
       "      <td>1.0</td>\n",
       "      <td>0</td>\n",
       "      <td>0f9d07991ba14c82d3d368b72d90270a</td>\n",
       "      <td>2016-04-04 03:34:00</td>\n",
       "      <td>Gorgeous unit in one of the most genuinely cov...</td>\n",
       "      <td>230 Central Park South</td>\n",
       "      <td>['Cats Allowed', 'Dogs Allowed', 'Doorman', 'E...</td>\n",
       "      <td>40.7672</td>\n",
       "      <td>6827153</td>\n",
       "      <td>-73.9802</td>\n",
       "      <td>932589de9230b697808216774fa26bd4</td>\n",
       "      <td>['https://photos.renthop.com/2/6821519_0a14cc2...</td>\n",
       "      <td>2800</td>\n",
       "      <td>230 Central Park South</td>\n",
       "      <td>high</td>\n",
       "    </tr>\n",
       "    <tr>\n",
       "      <th>1</th>\n",
       "      <td>110219</td>\n",
       "      <td>1.0</td>\n",
       "      <td>1</td>\n",
       "      <td>564d6f608f41e8d4a5e181c4e068e3d9</td>\n",
       "      <td>2016-04-21 20:40:00</td>\n",
       "      <td>Enormous 1 bedroom apartment in Murray Hill. F...</td>\n",
       "      <td>E 39th St</td>\n",
       "      <td>['Cats Allowed', 'Dogs Allowed', 'Reduced Fee'...</td>\n",
       "      <td>40.7483</td>\n",
       "      <td>6908998</td>\n",
       "      <td>-73.9741</td>\n",
       "      <td>489ad933197469ae66acd1f7ce18f908</td>\n",
       "      <td>['https://photos.renthop.com/2/6908998_6b00895...</td>\n",
       "      <td>2100</td>\n",
       "      <td>243 E 39th St</td>\n",
       "      <td>high</td>\n",
       "    </tr>\n",
       "    <tr>\n",
       "      <th>2</th>\n",
       "      <td>56113</td>\n",
       "      <td>1.0</td>\n",
       "      <td>1</td>\n",
       "      <td>69790fbf0bf7e22b1d0ebc721cf0f633</td>\n",
       "      <td>2016-05-14 05:44:00</td>\n",
       "      <td>This 1 bedroom, 1 bathroom spacious apartment ...</td>\n",
       "      <td>E 25th St.</td>\n",
       "      <td>['Elevator', 'Furnished', 'Hardwood Floors']</td>\n",
       "      <td>40.7399</td>\n",
       "      <td>7013774</td>\n",
       "      <td>-73.9812</td>\n",
       "      <td>792c0f1ad1431397c65db3e69b770928</td>\n",
       "      <td>['https://photos.renthop.com/2/7013774_e7ead5d...</td>\n",
       "      <td>3000</td>\n",
       "      <td>217 E 25th St.</td>\n",
       "      <td>high</td>\n",
       "    </tr>\n",
       "    <tr>\n",
       "      <th>3</th>\n",
       "      <td>37765</td>\n",
       "      <td>1.0</td>\n",
       "      <td>2</td>\n",
       "      <td>d0234abbc01a982d54e8d446acc03405</td>\n",
       "      <td>2016-05-06 03:37:00</td>\n",
       "      <td>SPECTACULAR2 BEDROOM APARTMENT IN LUXURY 24HR ...</td>\n",
       "      <td>West 34th Street</td>\n",
       "      <td>['Doorman', 'Elevator', 'Dishwasher', 'Hardwoo...</td>\n",
       "      <td>40.7530</td>\n",
       "      <td>7113518</td>\n",
       "      <td>-73.9958</td>\n",
       "      <td>eb5a6c4c2eb6f3e2a085c477afd5a815</td>\n",
       "      <td>['https://photos.renthop.com/2/7113518_d234153...</td>\n",
       "      <td>3000</td>\n",
       "      <td>360 West 34th Street</td>\n",
       "      <td>high</td>\n",
       "    </tr>\n",
       "    <tr>\n",
       "      <th>4</th>\n",
       "      <td>67397</td>\n",
       "      <td>1.0</td>\n",
       "      <td>2</td>\n",
       "      <td>a36895b9975c6991ca0fa1d9a99023a1</td>\n",
       "      <td>2016-05-26 05:36:00</td>\n",
       "      <td>NO FEE.. Newly Reno XL Convertible 2 Br .. Pri...</td>\n",
       "      <td>East 72nd Street</td>\n",
       "      <td>['Dining Room', 'Doorman', 'Elevator', 'Fitnes...</td>\n",
       "      <td>40.7695</td>\n",
       "      <td>7071666</td>\n",
       "      <td>-73.9603</td>\n",
       "      <td>0a6ba20b892ed61df751420934d1ab51</td>\n",
       "      <td>['https://photos.renthop.com/2/7071666_4f81618...</td>\n",
       "      <td>3300</td>\n",
       "      <td>200 East 72nd Street</td>\n",
       "      <td>high</td>\n",
       "    </tr>\n",
       "  </tbody>\n",
       "</table>\n",
       "</div>"
      ],
      "text/plain": [
       "   Unnamed: 0  bathrooms  bedrooms                       building_id  \\\n",
       "0      105408        1.0         0  0f9d07991ba14c82d3d368b72d90270a   \n",
       "1      110219        1.0         1  564d6f608f41e8d4a5e181c4e068e3d9   \n",
       "2       56113        1.0         1  69790fbf0bf7e22b1d0ebc721cf0f633   \n",
       "3       37765        1.0         2  d0234abbc01a982d54e8d446acc03405   \n",
       "4       67397        1.0         2  a36895b9975c6991ca0fa1d9a99023a1   \n",
       "\n",
       "              created                                        description  \\\n",
       "0 2016-04-04 03:34:00  Gorgeous unit in one of the most genuinely cov...   \n",
       "1 2016-04-21 20:40:00  Enormous 1 bedroom apartment in Murray Hill. F...   \n",
       "2 2016-05-14 05:44:00  This 1 bedroom, 1 bathroom spacious apartment ...   \n",
       "3 2016-05-06 03:37:00  SPECTACULAR2 BEDROOM APARTMENT IN LUXURY 24HR ...   \n",
       "4 2016-05-26 05:36:00  NO FEE.. Newly Reno XL Convertible 2 Br .. Pri...   \n",
       "\n",
       "          display_address                                           features  \\\n",
       "0  230 Central Park South  ['Cats Allowed', 'Dogs Allowed', 'Doorman', 'E...   \n",
       "1               E 39th St  ['Cats Allowed', 'Dogs Allowed', 'Reduced Fee'...   \n",
       "2              E 25th St.       ['Elevator', 'Furnished', 'Hardwood Floors']   \n",
       "3        West 34th Street  ['Doorman', 'Elevator', 'Dishwasher', 'Hardwoo...   \n",
       "4        East 72nd Street  ['Dining Room', 'Doorman', 'Elevator', 'Fitnes...   \n",
       "\n",
       "   latitude  listing_id  longitude                        manager_id  \\\n",
       "0   40.7672     6827153   -73.9802  932589de9230b697808216774fa26bd4   \n",
       "1   40.7483     6908998   -73.9741  489ad933197469ae66acd1f7ce18f908   \n",
       "2   40.7399     7013774   -73.9812  792c0f1ad1431397c65db3e69b770928   \n",
       "3   40.7530     7113518   -73.9958  eb5a6c4c2eb6f3e2a085c477afd5a815   \n",
       "4   40.7695     7071666   -73.9603  0a6ba20b892ed61df751420934d1ab51   \n",
       "\n",
       "                                              photos  price  \\\n",
       "0  ['https://photos.renthop.com/2/6821519_0a14cc2...   2800   \n",
       "1  ['https://photos.renthop.com/2/6908998_6b00895...   2100   \n",
       "2  ['https://photos.renthop.com/2/7013774_e7ead5d...   3000   \n",
       "3  ['https://photos.renthop.com/2/7113518_d234153...   3000   \n",
       "4  ['https://photos.renthop.com/2/7071666_4f81618...   3300   \n",
       "\n",
       "           street_address interest_level  \n",
       "0  230 Central Park South           high  \n",
       "1           243 E 39th St           high  \n",
       "2          217 E 25th St.           high  \n",
       "3    360 West 34th Street           high  \n",
       "4    200 East 72nd Street           high  "
      ]
     },
     "execution_count": 5,
     "metadata": {},
     "output_type": "execute_result"
    }
   ],
   "source": [
    "df.head()"
   ]
  },
  {
   "cell_type": "markdown",
   "id": "997b2aa2",
   "metadata": {},
   "source": [
    "# Data Exploring"
   ]
  },
  {
   "cell_type": "code",
   "execution_count": 6,
   "id": "fd3382f4",
   "metadata": {},
   "outputs": [
    {
     "data": {
      "text/plain": [
       "(9871, 16)"
      ]
     },
     "execution_count": 6,
     "metadata": {},
     "output_type": "execute_result"
    }
   ],
   "source": [
    "df.shape"
   ]
  },
  {
   "cell_type": "code",
   "execution_count": 7,
   "id": "63e67028",
   "metadata": {},
   "outputs": [
    {
     "name": "stdout",
     "output_type": "stream",
     "text": [
      "<class 'pandas.core.frame.DataFrame'>\n",
      "RangeIndex: 9871 entries, 0 to 9870\n",
      "Data columns (total 16 columns):\n",
      " #   Column           Non-Null Count  Dtype         \n",
      "---  ------           --------------  -----         \n",
      " 0   Unnamed: 0       9871 non-null   int64         \n",
      " 1   bathrooms        9871 non-null   float64       \n",
      " 2   bedrooms         9871 non-null   int64         \n",
      " 3   building_id      9871 non-null   object        \n",
      " 4   created          9871 non-null   datetime64[ns]\n",
      " 5   description      9585 non-null   object        \n",
      " 6   display_address  9837 non-null   object        \n",
      " 7   features         9871 non-null   object        \n",
      " 8   latitude         9871 non-null   float64       \n",
      " 9   listing_id       9871 non-null   int64         \n",
      " 10  longitude        9871 non-null   float64       \n",
      " 11  manager_id       9871 non-null   object        \n",
      " 12  photos           9871 non-null   object        \n",
      " 13  price            9871 non-null   int64         \n",
      " 14  street_address   9866 non-null   object        \n",
      " 15  interest_level   9871 non-null   object        \n",
      "dtypes: datetime64[ns](1), float64(3), int64(4), object(8)\n",
      "memory usage: 1.2+ MB\n"
     ]
    }
   ],
   "source": [
    "df.info()"
   ]
  },
  {
   "cell_type": "code",
   "execution_count": 8,
   "id": "30516d12",
   "metadata": {},
   "outputs": [
    {
     "data": {
      "text/html": [
       "<div>\n",
       "<style scoped>\n",
       "    .dataframe tbody tr th:only-of-type {\n",
       "        vertical-align: middle;\n",
       "    }\n",
       "\n",
       "    .dataframe tbody tr th {\n",
       "        vertical-align: top;\n",
       "    }\n",
       "\n",
       "    .dataframe thead th {\n",
       "        text-align: right;\n",
       "    }\n",
       "</style>\n",
       "<table border=\"1\" class=\"dataframe\">\n",
       "  <thead>\n",
       "    <tr style=\"text-align: right;\">\n",
       "      <th></th>\n",
       "      <th>Unnamed: 0</th>\n",
       "      <th>bathrooms</th>\n",
       "      <th>bedrooms</th>\n",
       "      <th>latitude</th>\n",
       "      <th>listing_id</th>\n",
       "      <th>longitude</th>\n",
       "      <th>price</th>\n",
       "    </tr>\n",
       "  </thead>\n",
       "  <tbody>\n",
       "    <tr>\n",
       "      <th>count</th>\n",
       "      <td>9871.000000</td>\n",
       "      <td>9871.000000</td>\n",
       "      <td>9871.000000</td>\n",
       "      <td>9871.000000</td>\n",
       "      <td>9.871000e+03</td>\n",
       "      <td>9871.000000</td>\n",
       "      <td>9871.000000</td>\n",
       "    </tr>\n",
       "    <tr>\n",
       "      <th>mean</th>\n",
       "      <td>61828.973154</td>\n",
       "      <td>1.210617</td>\n",
       "      <td>1.533685</td>\n",
       "      <td>40.747167</td>\n",
       "      <td>7.024062e+06</td>\n",
       "      <td>-73.965549</td>\n",
       "      <td>3662.860804</td>\n",
       "    </tr>\n",
       "    <tr>\n",
       "      <th>std</th>\n",
       "      <td>35901.607107</td>\n",
       "      <td>0.501985</td>\n",
       "      <td>1.106696</td>\n",
       "      <td>0.414548</td>\n",
       "      <td>1.269108e+05</td>\n",
       "      <td>0.760686</td>\n",
       "      <td>2559.911997</td>\n",
       "    </tr>\n",
       "    <tr>\n",
       "      <th>min</th>\n",
       "      <td>9.000000</td>\n",
       "      <td>0.000000</td>\n",
       "      <td>0.000000</td>\n",
       "      <td>0.000000</td>\n",
       "      <td>6.812005e+06</td>\n",
       "      <td>-87.613400</td>\n",
       "      <td>43.000000</td>\n",
       "    </tr>\n",
       "    <tr>\n",
       "      <th>25%</th>\n",
       "      <td>30968.000000</td>\n",
       "      <td>1.000000</td>\n",
       "      <td>1.000000</td>\n",
       "      <td>40.727500</td>\n",
       "      <td>6.914494e+06</td>\n",
       "      <td>-73.992200</td>\n",
       "      <td>2499.000000</td>\n",
       "    </tr>\n",
       "    <tr>\n",
       "      <th>50%</th>\n",
       "      <td>61354.000000</td>\n",
       "      <td>1.000000</td>\n",
       "      <td>1.000000</td>\n",
       "      <td>40.750600</td>\n",
       "      <td>7.022816e+06</td>\n",
       "      <td>-73.978300</td>\n",
       "      <td>3125.000000</td>\n",
       "    </tr>\n",
       "    <tr>\n",
       "      <th>75%</th>\n",
       "      <td>93229.500000</td>\n",
       "      <td>1.000000</td>\n",
       "      <td>2.000000</td>\n",
       "      <td>40.773900</td>\n",
       "      <td>7.130978e+06</td>\n",
       "      <td>-73.955100</td>\n",
       "      <td>4047.500000</td>\n",
       "    </tr>\n",
       "    <tr>\n",
       "      <th>max</th>\n",
       "      <td>123995.000000</td>\n",
       "      <td>10.000000</td>\n",
       "      <td>8.000000</td>\n",
       "      <td>43.034600</td>\n",
       "      <td>7.742631e+06</td>\n",
       "      <td>0.000000</td>\n",
       "      <td>90000.000000</td>\n",
       "    </tr>\n",
       "  </tbody>\n",
       "</table>\n",
       "</div>"
      ],
      "text/plain": [
       "          Unnamed: 0    bathrooms     bedrooms     latitude    listing_id  \\\n",
       "count    9871.000000  9871.000000  9871.000000  9871.000000  9.871000e+03   \n",
       "mean    61828.973154     1.210617     1.533685    40.747167  7.024062e+06   \n",
       "std     35901.607107     0.501985     1.106696     0.414548  1.269108e+05   \n",
       "min         9.000000     0.000000     0.000000     0.000000  6.812005e+06   \n",
       "25%     30968.000000     1.000000     1.000000    40.727500  6.914494e+06   \n",
       "50%     61354.000000     1.000000     1.000000    40.750600  7.022816e+06   \n",
       "75%     93229.500000     1.000000     2.000000    40.773900  7.130978e+06   \n",
       "max    123995.000000    10.000000     8.000000    43.034600  7.742631e+06   \n",
       "\n",
       "         longitude         price  \n",
       "count  9871.000000   9871.000000  \n",
       "mean    -73.965549   3662.860804  \n",
       "std       0.760686   2559.911997  \n",
       "min     -87.613400     43.000000  \n",
       "25%     -73.992200   2499.000000  \n",
       "50%     -73.978300   3125.000000  \n",
       "75%     -73.955100   4047.500000  \n",
       "max       0.000000  90000.000000  "
      ]
     },
     "execution_count": 8,
     "metadata": {},
     "output_type": "execute_result"
    }
   ],
   "source": [
    "df.describe()"
   ]
  },
  {
   "cell_type": "code",
   "execution_count": 9,
   "id": "e3018d99",
   "metadata": {},
   "outputs": [
    {
     "data": {
      "text/plain": [
       "Unnamed: 0                  int64\n",
       "bathrooms                 float64\n",
       "bedrooms                    int64\n",
       "building_id                object\n",
       "created            datetime64[ns]\n",
       "description                object\n",
       "display_address            object\n",
       "features                   object\n",
       "latitude                  float64\n",
       "listing_id                  int64\n",
       "longitude                 float64\n",
       "manager_id                 object\n",
       "photos                     object\n",
       "price                       int64\n",
       "street_address             object\n",
       "interest_level             object\n",
       "dtype: object"
      ]
     },
     "execution_count": 9,
     "metadata": {},
     "output_type": "execute_result"
    }
   ],
   "source": [
    "df.dtypes"
   ]
  },
  {
   "cell_type": "code",
   "execution_count": 10,
   "id": "ba904f57",
   "metadata": {},
   "outputs": [
    {
     "data": {
      "text/plain": [
       "Unnamed: 0           0\n",
       "bathrooms            0\n",
       "bedrooms             0\n",
       "building_id          0\n",
       "created              0\n",
       "description        286\n",
       "display_address     34\n",
       "features             0\n",
       "latitude             0\n",
       "listing_id           0\n",
       "longitude            0\n",
       "manager_id           0\n",
       "photos               0\n",
       "price                0\n",
       "street_address       5\n",
       "interest_level       0\n",
       "dtype: int64"
      ]
     },
     "execution_count": 10,
     "metadata": {},
     "output_type": "execute_result"
    }
   ],
   "source": [
    "df.isnull().sum()\n",
    "# there is some null value so we need to treat them before builing ml model"
   ]
  },
  {
   "cell_type": "code",
   "execution_count": 11,
   "id": "334fca28",
   "metadata": {},
   "outputs": [],
   "source": [
    "df.drop(columns=['Unnamed: 0','building_id','created','description','display_address','listing_id','manager_id','photos','street_address'],axis=1,inplace=True)"
   ]
  },
  {
   "cell_type": "markdown",
   "id": "d50d5806",
   "metadata": {},
   "source": [
    "# Data Preprocessing"
   ]
  },
  {
   "cell_type": "markdown",
   "id": "007bf3ed",
   "metadata": {},
   "source": [
    "# Label encoding"
   ]
  },
  {
   "cell_type": "code",
   "execution_count": 11,
   "id": "e87894b5",
   "metadata": {},
   "outputs": [],
   "source": [
    "lbl=LabelEncoder()"
   ]
  },
  {
   "cell_type": "code",
   "execution_count": 8,
   "id": "d53c5bfa",
   "metadata": {},
   "outputs": [],
   "source": [
    "m=LabelEncoder()"
   ]
  },
  {
   "cell_type": "code",
   "execution_count": 9,
   "id": "9c2ada99",
   "metadata": {},
   "outputs": [],
   "source": [
    "df['features']=m.fit_transform(df['features'])"
   ]
  },
  {
   "cell_type": "code",
   "execution_count": 12,
   "id": "118f0de6",
   "metadata": {},
   "outputs": [],
   "source": [
    "df['features']=lbl.fit_transform(df['features'])\n",
    "df['interest_level']=lbl.fit_transform(df['interest_level'])"
   ]
  },
  {
   "cell_type": "code",
   "execution_count": 13,
   "id": "52181ba1",
   "metadata": {},
   "outputs": [],
   "source": [
    "x=df.drop(columns='interest_level')\n",
    "y=df['interest_level']"
   ]
  },
  {
   "cell_type": "code",
   "execution_count": 15,
   "id": "21e826e6",
   "metadata": {},
   "outputs": [
    {
     "data": {
      "text/plain": [
       "bathrooms      12\n",
       "bedrooms        8\n",
       "features     3548\n",
       "latitude     1632\n",
       "longitude    1169\n",
       "price        1318\n",
       "dtype: int64"
      ]
     },
     "execution_count": 15,
     "metadata": {},
     "output_type": "execute_result"
    }
   ],
   "source": [
    "x.nunique()"
   ]
  },
  {
   "cell_type": "code",
   "execution_count": 16,
   "id": "27487433",
   "metadata": {},
   "outputs": [
    {
     "name": "stdout",
     "output_type": "stream",
     "text": [
      "<class 'pandas.core.frame.DataFrame'>\n",
      "RangeIndex: 9871 entries, 0 to 9870\n",
      "Data columns (total 6 columns):\n",
      " #   Column     Non-Null Count  Dtype  \n",
      "---  ------     --------------  -----  \n",
      " 0   bathrooms  9871 non-null   float64\n",
      " 1   bedrooms   9871 non-null   int64  \n",
      " 2   features   9871 non-null   int32  \n",
      " 3   latitude   9871 non-null   float64\n",
      " 4   longitude  9871 non-null   float64\n",
      " 5   price      9871 non-null   int64  \n",
      "dtypes: float64(3), int32(1), int64(2)\n",
      "memory usage: 424.3 KB\n"
     ]
    }
   ],
   "source": [
    "x.info()"
   ]
  },
  {
   "cell_type": "code",
   "execution_count": 17,
   "id": "8f183cda",
   "metadata": {},
   "outputs": [
    {
     "data": {
      "text/html": [
       "<div>\n",
       "<style scoped>\n",
       "    .dataframe tbody tr th:only-of-type {\n",
       "        vertical-align: middle;\n",
       "    }\n",
       "\n",
       "    .dataframe tbody tr th {\n",
       "        vertical-align: top;\n",
       "    }\n",
       "\n",
       "    .dataframe thead th {\n",
       "        text-align: right;\n",
       "    }\n",
       "</style>\n",
       "<table border=\"1\" class=\"dataframe\">\n",
       "  <thead>\n",
       "    <tr style=\"text-align: right;\">\n",
       "      <th></th>\n",
       "      <th>bathrooms</th>\n",
       "      <th>bedrooms</th>\n",
       "      <th>features</th>\n",
       "      <th>latitude</th>\n",
       "      <th>longitude</th>\n",
       "      <th>price</th>\n",
       "    </tr>\n",
       "  </thead>\n",
       "  <tbody>\n",
       "    <tr>\n",
       "      <th>0</th>\n",
       "      <td>1.0</td>\n",
       "      <td>0</td>\n",
       "      <td>169</td>\n",
       "      <td>40.7672</td>\n",
       "      <td>-73.9802</td>\n",
       "      <td>2800</td>\n",
       "    </tr>\n",
       "    <tr>\n",
       "      <th>1</th>\n",
       "      <td>1.0</td>\n",
       "      <td>1</td>\n",
       "      <td>320</td>\n",
       "      <td>40.7483</td>\n",
       "      <td>-73.9741</td>\n",
       "      <td>2100</td>\n",
       "    </tr>\n",
       "    <tr>\n",
       "      <th>2</th>\n",
       "      <td>1.0</td>\n",
       "      <td>1</td>\n",
       "      <td>1599</td>\n",
       "      <td>40.7399</td>\n",
       "      <td>-73.9812</td>\n",
       "      <td>3000</td>\n",
       "    </tr>\n",
       "    <tr>\n",
       "      <th>3</th>\n",
       "      <td>1.0</td>\n",
       "      <td>2</td>\n",
       "      <td>959</td>\n",
       "      <td>40.7530</td>\n",
       "      <td>-73.9958</td>\n",
       "      <td>3000</td>\n",
       "    </tr>\n",
       "    <tr>\n",
       "      <th>4</th>\n",
       "      <td>1.0</td>\n",
       "      <td>2</td>\n",
       "      <td>656</td>\n",
       "      <td>40.7695</td>\n",
       "      <td>-73.9603</td>\n",
       "      <td>3300</td>\n",
       "    </tr>\n",
       "  </tbody>\n",
       "</table>\n",
       "</div>"
      ],
      "text/plain": [
       "   bathrooms  bedrooms  features  latitude  longitude  price\n",
       "0        1.0         0       169   40.7672   -73.9802   2800\n",
       "1        1.0         1       320   40.7483   -73.9741   2100\n",
       "2        1.0         1      1599   40.7399   -73.9812   3000\n",
       "3        1.0         2       959   40.7530   -73.9958   3000\n",
       "4        1.0         2       656   40.7695   -73.9603   3300"
      ]
     },
     "execution_count": 17,
     "metadata": {},
     "output_type": "execute_result"
    }
   ],
   "source": [
    "x.head()"
   ]
  },
  {
   "cell_type": "code",
   "execution_count": 18,
   "id": "b5b74682",
   "metadata": {},
   "outputs": [
    {
     "data": {
      "text/plain": [
       "bathrooms    0\n",
       "bedrooms     0\n",
       "features     0\n",
       "latitude     0\n",
       "longitude    0\n",
       "price        0\n",
       "dtype: int64"
      ]
     },
     "execution_count": 18,
     "metadata": {},
     "output_type": "execute_result"
    }
   ],
   "source": [
    "x.isnull().sum()"
   ]
  },
  {
   "cell_type": "markdown",
   "id": "63d10018",
   "metadata": {},
   "source": [
    "# Data Visualization"
   ]
  },
  {
   "cell_type": "code",
   "execution_count": 14,
   "id": "f221542c",
   "metadata": {},
   "outputs": [],
   "source": [
    "from tabulate import tabulate"
   ]
  },
  {
   "cell_type": "code",
   "execution_count": 16,
   "id": "7cc1e529",
   "metadata": {},
   "outputs": [
    {
     "name": "stdout",
     "output_type": "stream",
     "text": [
      "  category  continous\n",
      "----------  ---------------\n",
      "         1  Unnamed: 0\n",
      "         1  building_id\n",
      "         1  created\n",
      "            description\n",
      "            display_address\n",
      "            features\n",
      "            latitude\n",
      "            listing_id\n",
      "            longitude\n",
      "            manager_id\n",
      "            photos\n",
      "            price\n",
      "            street_address\n"
     ]
    }
   ],
   "source": [
    "cat=[]\n",
    "con=[]\n",
    "for i in df.columns:\n",
    "    if df[i].nunique()>100:\n",
    "        con.append(i)\n",
    "    else:\n",
    "        cat.append(1)\n",
    "print(tabulate({'category':cat,'contionous':con},headers=['category','continous']))      "
   ]
  },
  {
   "cell_type": "code",
   "execution_count": 15,
   "id": "46e4b2f1",
   "metadata": {},
   "outputs": [
    {
     "name": "stdout",
     "output_type": "stream",
     "text": [
      "category        continous\n",
      "--------------  ---------------\n",
      "bathrooms       Unnamed: 0\n",
      "bedrooms        building_id\n",
      "interest_level  created\n",
      "                description\n",
      "                display_address\n",
      "                features\n",
      "                latitude\n",
      "                listing_id\n",
      "                longitude\n",
      "                manager_id\n",
      "                photos\n",
      "                price\n",
      "                street_address\n"
     ]
    }
   ],
   "source": [
    "cat=[]\n",
    "con=[]\n",
    "for i in df.columns:\n",
    "    if df[i].nunique()>100:\n",
    "        con.append(i)\n",
    "    else:\n",
    "        cat.append(i)\n",
    "        \n",
    "print(tabulate({'category':cat,'contionus':con},headers=['category','continous']))        "
   ]
  },
  {
   "cell_type": "code",
   "execution_count": null,
   "id": "316b5681",
   "metadata": {},
   "outputs": [],
   "source": []
  },
  {
   "cell_type": "code",
   "execution_count": 19,
   "id": "db59796e",
   "metadata": {},
   "outputs": [
    {
     "name": "stdout",
     "output_type": "stream",
     "text": [
      "Categorical     Continuous\n",
      "--------------  ------------\n",
      "bathrooms       features\n",
      "bedrooms        latitude\n",
      "interest_level  longitude\n",
      "                price\n"
     ]
    }
   ],
   "source": [
    "from tabulate import tabulate\n",
    "cat=[]\n",
    "con=[]\n",
    "for i in df.columns:\n",
    "    if df[i].nunique()>100:\n",
    "        con.append(i)\n",
    "    else:\n",
    "        cat.append(i)\n",
    "        \n",
    "print(tabulate({'Categorical': cat,\"Continuous\": con},headers=['Categorical','Continuous']))"
   ]
  },
  {
   "cell_type": "markdown",
   "id": "2cb5f314",
   "metadata": {},
   "source": [
    "## x_train.dtypes"
   ]
  },
  {
   "cell_type": "code",
   "execution_count": 20,
   "id": "d42357d8",
   "metadata": {},
   "outputs": [],
   "source": [
    "sc=StandardScaler()"
   ]
  },
  {
   "cell_type": "code",
   "execution_count": 21,
   "id": "bb0aa1c8",
   "metadata": {},
   "outputs": [
    {
     "data": {
      "text/html": [
       "<div>\n",
       "<style scoped>\n",
       "    .dataframe tbody tr th:only-of-type {\n",
       "        vertical-align: middle;\n",
       "    }\n",
       "\n",
       "    .dataframe tbody tr th {\n",
       "        vertical-align: top;\n",
       "    }\n",
       "\n",
       "    .dataframe thead th {\n",
       "        text-align: right;\n",
       "    }\n",
       "</style>\n",
       "<table border=\"1\" class=\"dataframe\">\n",
       "  <thead>\n",
       "    <tr style=\"text-align: right;\">\n",
       "      <th></th>\n",
       "      <th>bathrooms</th>\n",
       "      <th>bedrooms</th>\n",
       "      <th>features</th>\n",
       "      <th>latitude</th>\n",
       "      <th>longitude</th>\n",
       "      <th>price</th>\n",
       "    </tr>\n",
       "  </thead>\n",
       "  <tbody>\n",
       "    <tr>\n",
       "      <th>0</th>\n",
       "      <td>-0.41959</td>\n",
       "      <td>-1.385892</td>\n",
       "      <td>-1.684711</td>\n",
       "      <td>0.048326</td>\n",
       "      <td>-0.019261</td>\n",
       "      <td>-0.337084</td>\n",
       "    </tr>\n",
       "    <tr>\n",
       "      <th>1</th>\n",
       "      <td>-0.41959</td>\n",
       "      <td>-0.482256</td>\n",
       "      <td>-1.530574</td>\n",
       "      <td>0.002732</td>\n",
       "      <td>-0.011242</td>\n",
       "      <td>-0.610544</td>\n",
       "    </tr>\n",
       "    <tr>\n",
       "      <th>2</th>\n",
       "      <td>-0.41959</td>\n",
       "      <td>-0.482256</td>\n",
       "      <td>-0.225001</td>\n",
       "      <td>-0.017532</td>\n",
       "      <td>-0.020576</td>\n",
       "      <td>-0.258952</td>\n",
       "    </tr>\n",
       "    <tr>\n",
       "      <th>3</th>\n",
       "      <td>-0.41959</td>\n",
       "      <td>0.421379</td>\n",
       "      <td>-0.878298</td>\n",
       "      <td>0.014071</td>\n",
       "      <td>-0.039770</td>\n",
       "      <td>-0.258952</td>\n",
       "    </tr>\n",
       "    <tr>\n",
       "      <th>4</th>\n",
       "      <td>-0.41959</td>\n",
       "      <td>0.421379</td>\n",
       "      <td>-1.187593</td>\n",
       "      <td>0.053875</td>\n",
       "      <td>0.006901</td>\n",
       "      <td>-0.141755</td>\n",
       "    </tr>\n",
       "  </tbody>\n",
       "</table>\n",
       "</div>"
      ],
      "text/plain": [
       "   bathrooms  bedrooms  features  latitude  longitude     price\n",
       "0   -0.41959 -1.385892 -1.684711  0.048326  -0.019261 -0.337084\n",
       "1   -0.41959 -0.482256 -1.530574  0.002732  -0.011242 -0.610544\n",
       "2   -0.41959 -0.482256 -0.225001 -0.017532  -0.020576 -0.258952\n",
       "3   -0.41959  0.421379 -0.878298  0.014071  -0.039770 -0.258952\n",
       "4   -0.41959  0.421379 -1.187593  0.053875   0.006901 -0.141755"
      ]
     },
     "execution_count": 21,
     "metadata": {},
     "output_type": "execute_result"
    }
   ],
   "source": [
    "#data scaling\n",
    "x1=x.copy()\n",
    "\n",
    "x2=sc.fit_transform(x1)\n",
    "x=pd.DataFrame(x2,columns=x1.columns)\n",
    "x.head()"
   ]
  },
  {
   "cell_type": "code",
   "execution_count": 22,
   "id": "cc6eed5d",
   "metadata": {},
   "outputs": [
    {
     "name": "stdout",
     "output_type": "stream",
     "text": [
      "<class 'pandas.core.series.Series'>\n",
      "RangeIndex: 9871 entries, 0 to 9870\n",
      "Series name: interest_level\n",
      "Non-Null Count  Dtype\n",
      "--------------  -----\n",
      "9871 non-null   int32\n",
      "dtypes: int32(1)\n",
      "memory usage: 38.7 KB\n"
     ]
    }
   ],
   "source": [
    "y.info()"
   ]
  },
  {
   "cell_type": "markdown",
   "id": "d408e37f",
   "metadata": {},
   "source": [
    "# Correlation"
   ]
  },
  {
   "cell_type": "code",
   "execution_count": 23,
   "id": "ed78b47e",
   "metadata": {},
   "outputs": [
    {
     "data": {
      "text/html": [
       "<div>\n",
       "<style scoped>\n",
       "    .dataframe tbody tr th:only-of-type {\n",
       "        vertical-align: middle;\n",
       "    }\n",
       "\n",
       "    .dataframe tbody tr th {\n",
       "        vertical-align: top;\n",
       "    }\n",
       "\n",
       "    .dataframe thead th {\n",
       "        text-align: right;\n",
       "    }\n",
       "</style>\n",
       "<table border=\"1\" class=\"dataframe\">\n",
       "  <thead>\n",
       "    <tr style=\"text-align: right;\">\n",
       "      <th></th>\n",
       "      <th>bathrooms</th>\n",
       "      <th>bedrooms</th>\n",
       "      <th>features</th>\n",
       "      <th>latitude</th>\n",
       "      <th>longitude</th>\n",
       "      <th>price</th>\n",
       "      <th>interest_level</th>\n",
       "    </tr>\n",
       "  </thead>\n",
       "  <tbody>\n",
       "    <tr>\n",
       "      <th>bathrooms</th>\n",
       "      <td>1.000000</td>\n",
       "      <td>0.528971</td>\n",
       "      <td>-0.023881</td>\n",
       "      <td>0.007422</td>\n",
       "      <td>-0.000629</td>\n",
       "      <td>0.617426</td>\n",
       "      <td>-0.016047</td>\n",
       "    </tr>\n",
       "    <tr>\n",
       "      <th>bedrooms</th>\n",
       "      <td>0.528971</td>\n",
       "      <td>1.000000</td>\n",
       "      <td>0.008743</td>\n",
       "      <td>0.015035</td>\n",
       "      <td>-0.008100</td>\n",
       "      <td>0.431208</td>\n",
       "      <td>0.025165</td>\n",
       "    </tr>\n",
       "    <tr>\n",
       "      <th>features</th>\n",
       "      <td>-0.023881</td>\n",
       "      <td>0.008743</td>\n",
       "      <td>1.000000</td>\n",
       "      <td>-0.008677</td>\n",
       "      <td>0.016854</td>\n",
       "      <td>-0.042215</td>\n",
       "      <td>-0.004720</td>\n",
       "    </tr>\n",
       "    <tr>\n",
       "      <th>latitude</th>\n",
       "      <td>0.007422</td>\n",
       "      <td>0.015035</td>\n",
       "      <td>-0.008677</td>\n",
       "      <td>1.000000</td>\n",
       "      <td>-0.967374</td>\n",
       "      <td>0.005881</td>\n",
       "      <td>0.001149</td>\n",
       "    </tr>\n",
       "    <tr>\n",
       "      <th>longitude</th>\n",
       "      <td>-0.000629</td>\n",
       "      <td>-0.008100</td>\n",
       "      <td>0.016854</td>\n",
       "      <td>-0.967374</td>\n",
       "      <td>1.000000</td>\n",
       "      <td>-0.009305</td>\n",
       "      <td>-0.003506</td>\n",
       "    </tr>\n",
       "    <tr>\n",
       "      <th>price</th>\n",
       "      <td>0.617426</td>\n",
       "      <td>0.431208</td>\n",
       "      <td>-0.042215</td>\n",
       "      <td>0.005881</td>\n",
       "      <td>-0.009305</td>\n",
       "      <td>1.000000</td>\n",
       "      <td>-0.033093</td>\n",
       "    </tr>\n",
       "    <tr>\n",
       "      <th>interest_level</th>\n",
       "      <td>-0.016047</td>\n",
       "      <td>0.025165</td>\n",
       "      <td>-0.004720</td>\n",
       "      <td>0.001149</td>\n",
       "      <td>-0.003506</td>\n",
       "      <td>-0.033093</td>\n",
       "      <td>1.000000</td>\n",
       "    </tr>\n",
       "  </tbody>\n",
       "</table>\n",
       "</div>"
      ],
      "text/plain": [
       "                bathrooms  bedrooms  features  latitude  longitude     price  \\\n",
       "bathrooms        1.000000  0.528971 -0.023881  0.007422  -0.000629  0.617426   \n",
       "bedrooms         0.528971  1.000000  0.008743  0.015035  -0.008100  0.431208   \n",
       "features        -0.023881  0.008743  1.000000 -0.008677   0.016854 -0.042215   \n",
       "latitude         0.007422  0.015035 -0.008677  1.000000  -0.967374  0.005881   \n",
       "longitude       -0.000629 -0.008100  0.016854 -0.967374   1.000000 -0.009305   \n",
       "price            0.617426  0.431208 -0.042215  0.005881  -0.009305  1.000000   \n",
       "interest_level  -0.016047  0.025165 -0.004720  0.001149  -0.003506 -0.033093   \n",
       "\n",
       "                interest_level  \n",
       "bathrooms            -0.016047  \n",
       "bedrooms              0.025165  \n",
       "features             -0.004720  \n",
       "latitude              0.001149  \n",
       "longitude            -0.003506  \n",
       "price                -0.033093  \n",
       "interest_level        1.000000  "
      ]
     },
     "execution_count": 23,
     "metadata": {},
     "output_type": "execute_result"
    }
   ],
   "source": [
    "corr=df.corr()\n",
    "corr"
   ]
  },
  {
   "cell_type": "code",
   "execution_count": 24,
   "id": "a8a58e7a",
   "metadata": {},
   "outputs": [
    {
     "data": {
      "text/html": [
       "<style type=\"text/css\">\n",
       "#T_44693_row0_col0, #T_44693_row1_col1, #T_44693_row2_col2, #T_44693_row3_col3, #T_44693_row4_col4, #T_44693_row5_col5, #T_44693_row6_col6 {\n",
       "  background-color: #fde725;\n",
       "  color: #000000;\n",
       "}\n",
       "#T_44693_row0_col1 {\n",
       "  background-color: #1f988b;\n",
       "  color: #f1f1f1;\n",
       "}\n",
       "#T_44693_row0_col2, #T_44693_row0_col6, #T_44693_row2_col1 {\n",
       "  background-color: #46075a;\n",
       "  color: #f1f1f1;\n",
       "}\n",
       "#T_44693_row0_col3, #T_44693_row5_col3, #T_44693_row6_col3 {\n",
       "  background-color: #218f8d;\n",
       "  color: #f1f1f1;\n",
       "}\n",
       "#T_44693_row0_col4, #T_44693_row6_col4 {\n",
       "  background-color: #218e8d;\n",
       "  color: #f1f1f1;\n",
       "}\n",
       "#T_44693_row0_col5 {\n",
       "  background-color: #2ab07f;\n",
       "  color: #f1f1f1;\n",
       "}\n",
       "#T_44693_row1_col0 {\n",
       "  background-color: #1f9a8a;\n",
       "  color: #f1f1f1;\n",
       "}\n",
       "#T_44693_row1_col2 {\n",
       "  background-color: #471365;\n",
       "  color: #f1f1f1;\n",
       "}\n",
       "#T_44693_row1_col3 {\n",
       "  background-color: #21908d;\n",
       "  color: #f1f1f1;\n",
       "}\n",
       "#T_44693_row1_col4, #T_44693_row2_col3, #T_44693_row5_col4 {\n",
       "  background-color: #228d8d;\n",
       "  color: #f1f1f1;\n",
       "}\n",
       "#T_44693_row1_col5 {\n",
       "  background-color: #25858e;\n",
       "  color: #f1f1f1;\n",
       "}\n",
       "#T_44693_row1_col6, #T_44693_row4_col2 {\n",
       "  background-color: #481668;\n",
       "  color: #f1f1f1;\n",
       "}\n",
       "#T_44693_row2_col0, #T_44693_row2_col5, #T_44693_row3_col4, #T_44693_row4_col1, #T_44693_row4_col3, #T_44693_row5_col2, #T_44693_row5_col6 {\n",
       "  background-color: #440154;\n",
       "  color: #f1f1f1;\n",
       "}\n",
       "#T_44693_row2_col4 {\n",
       "  background-color: #21918c;\n",
       "  color: #f1f1f1;\n",
       "}\n",
       "#T_44693_row2_col6, #T_44693_row3_col0, #T_44693_row4_col6 {\n",
       "  background-color: #460b5e;\n",
       "  color: #f1f1f1;\n",
       "}\n",
       "#T_44693_row3_col1, #T_44693_row4_col0 {\n",
       "  background-color: #46085c;\n",
       "  color: #f1f1f1;\n",
       "}\n",
       "#T_44693_row3_col2, #T_44693_row3_col6, #T_44693_row4_col5, #T_44693_row6_col1 {\n",
       "  background-color: #470d60;\n",
       "  color: #f1f1f1;\n",
       "}\n",
       "#T_44693_row3_col5 {\n",
       "  background-color: #471164;\n",
       "  color: #f1f1f1;\n",
       "}\n",
       "#T_44693_row5_col0 {\n",
       "  background-color: #28ae80;\n",
       "  color: #f1f1f1;\n",
       "}\n",
       "#T_44693_row5_col1 {\n",
       "  background-color: #26818e;\n",
       "  color: #f1f1f1;\n",
       "}\n",
       "#T_44693_row6_col0 {\n",
       "  background-color: #440256;\n",
       "  color: #f1f1f1;\n",
       "}\n",
       "#T_44693_row6_col2 {\n",
       "  background-color: #470e61;\n",
       "  color: #f1f1f1;\n",
       "}\n",
       "#T_44693_row6_col5 {\n",
       "  background-color: #450457;\n",
       "  color: #f1f1f1;\n",
       "}\n",
       "</style>\n",
       "<table id=\"T_44693\">\n",
       "  <thead>\n",
       "    <tr>\n",
       "      <th class=\"blank level0\" >&nbsp;</th>\n",
       "      <th id=\"T_44693_level0_col0\" class=\"col_heading level0 col0\" >bathrooms</th>\n",
       "      <th id=\"T_44693_level0_col1\" class=\"col_heading level0 col1\" >bedrooms</th>\n",
       "      <th id=\"T_44693_level0_col2\" class=\"col_heading level0 col2\" >features</th>\n",
       "      <th id=\"T_44693_level0_col3\" class=\"col_heading level0 col3\" >latitude</th>\n",
       "      <th id=\"T_44693_level0_col4\" class=\"col_heading level0 col4\" >longitude</th>\n",
       "      <th id=\"T_44693_level0_col5\" class=\"col_heading level0 col5\" >price</th>\n",
       "      <th id=\"T_44693_level0_col6\" class=\"col_heading level0 col6\" >interest_level</th>\n",
       "    </tr>\n",
       "  </thead>\n",
       "  <tbody>\n",
       "    <tr>\n",
       "      <th id=\"T_44693_level0_row0\" class=\"row_heading level0 row0\" >bathrooms</th>\n",
       "      <td id=\"T_44693_row0_col0\" class=\"data row0 col0\" >1.000000</td>\n",
       "      <td id=\"T_44693_row0_col1\" class=\"data row0 col1\" >0.528971</td>\n",
       "      <td id=\"T_44693_row0_col2\" class=\"data row0 col2\" >-0.023881</td>\n",
       "      <td id=\"T_44693_row0_col3\" class=\"data row0 col3\" >0.007422</td>\n",
       "      <td id=\"T_44693_row0_col4\" class=\"data row0 col4\" >-0.000629</td>\n",
       "      <td id=\"T_44693_row0_col5\" class=\"data row0 col5\" >0.617426</td>\n",
       "      <td id=\"T_44693_row0_col6\" class=\"data row0 col6\" >-0.016047</td>\n",
       "    </tr>\n",
       "    <tr>\n",
       "      <th id=\"T_44693_level0_row1\" class=\"row_heading level0 row1\" >bedrooms</th>\n",
       "      <td id=\"T_44693_row1_col0\" class=\"data row1 col0\" >0.528971</td>\n",
       "      <td id=\"T_44693_row1_col1\" class=\"data row1 col1\" >1.000000</td>\n",
       "      <td id=\"T_44693_row1_col2\" class=\"data row1 col2\" >0.008743</td>\n",
       "      <td id=\"T_44693_row1_col3\" class=\"data row1 col3\" >0.015035</td>\n",
       "      <td id=\"T_44693_row1_col4\" class=\"data row1 col4\" >-0.008100</td>\n",
       "      <td id=\"T_44693_row1_col5\" class=\"data row1 col5\" >0.431208</td>\n",
       "      <td id=\"T_44693_row1_col6\" class=\"data row1 col6\" >0.025165</td>\n",
       "    </tr>\n",
       "    <tr>\n",
       "      <th id=\"T_44693_level0_row2\" class=\"row_heading level0 row2\" >features</th>\n",
       "      <td id=\"T_44693_row2_col0\" class=\"data row2 col0\" >-0.023881</td>\n",
       "      <td id=\"T_44693_row2_col1\" class=\"data row2 col1\" >0.008743</td>\n",
       "      <td id=\"T_44693_row2_col2\" class=\"data row2 col2\" >1.000000</td>\n",
       "      <td id=\"T_44693_row2_col3\" class=\"data row2 col3\" >-0.008677</td>\n",
       "      <td id=\"T_44693_row2_col4\" class=\"data row2 col4\" >0.016854</td>\n",
       "      <td id=\"T_44693_row2_col5\" class=\"data row2 col5\" >-0.042215</td>\n",
       "      <td id=\"T_44693_row2_col6\" class=\"data row2 col6\" >-0.004720</td>\n",
       "    </tr>\n",
       "    <tr>\n",
       "      <th id=\"T_44693_level0_row3\" class=\"row_heading level0 row3\" >latitude</th>\n",
       "      <td id=\"T_44693_row3_col0\" class=\"data row3 col0\" >0.007422</td>\n",
       "      <td id=\"T_44693_row3_col1\" class=\"data row3 col1\" >0.015035</td>\n",
       "      <td id=\"T_44693_row3_col2\" class=\"data row3 col2\" >-0.008677</td>\n",
       "      <td id=\"T_44693_row3_col3\" class=\"data row3 col3\" >1.000000</td>\n",
       "      <td id=\"T_44693_row3_col4\" class=\"data row3 col4\" >-0.967374</td>\n",
       "      <td id=\"T_44693_row3_col5\" class=\"data row3 col5\" >0.005881</td>\n",
       "      <td id=\"T_44693_row3_col6\" class=\"data row3 col6\" >0.001149</td>\n",
       "    </tr>\n",
       "    <tr>\n",
       "      <th id=\"T_44693_level0_row4\" class=\"row_heading level0 row4\" >longitude</th>\n",
       "      <td id=\"T_44693_row4_col0\" class=\"data row4 col0\" >-0.000629</td>\n",
       "      <td id=\"T_44693_row4_col1\" class=\"data row4 col1\" >-0.008100</td>\n",
       "      <td id=\"T_44693_row4_col2\" class=\"data row4 col2\" >0.016854</td>\n",
       "      <td id=\"T_44693_row4_col3\" class=\"data row4 col3\" >-0.967374</td>\n",
       "      <td id=\"T_44693_row4_col4\" class=\"data row4 col4\" >1.000000</td>\n",
       "      <td id=\"T_44693_row4_col5\" class=\"data row4 col5\" >-0.009305</td>\n",
       "      <td id=\"T_44693_row4_col6\" class=\"data row4 col6\" >-0.003506</td>\n",
       "    </tr>\n",
       "    <tr>\n",
       "      <th id=\"T_44693_level0_row5\" class=\"row_heading level0 row5\" >price</th>\n",
       "      <td id=\"T_44693_row5_col0\" class=\"data row5 col0\" >0.617426</td>\n",
       "      <td id=\"T_44693_row5_col1\" class=\"data row5 col1\" >0.431208</td>\n",
       "      <td id=\"T_44693_row5_col2\" class=\"data row5 col2\" >-0.042215</td>\n",
       "      <td id=\"T_44693_row5_col3\" class=\"data row5 col3\" >0.005881</td>\n",
       "      <td id=\"T_44693_row5_col4\" class=\"data row5 col4\" >-0.009305</td>\n",
       "      <td id=\"T_44693_row5_col5\" class=\"data row5 col5\" >1.000000</td>\n",
       "      <td id=\"T_44693_row5_col6\" class=\"data row5 col6\" >-0.033093</td>\n",
       "    </tr>\n",
       "    <tr>\n",
       "      <th id=\"T_44693_level0_row6\" class=\"row_heading level0 row6\" >interest_level</th>\n",
       "      <td id=\"T_44693_row6_col0\" class=\"data row6 col0\" >-0.016047</td>\n",
       "      <td id=\"T_44693_row6_col1\" class=\"data row6 col1\" >0.025165</td>\n",
       "      <td id=\"T_44693_row6_col2\" class=\"data row6 col2\" >-0.004720</td>\n",
       "      <td id=\"T_44693_row6_col3\" class=\"data row6 col3\" >0.001149</td>\n",
       "      <td id=\"T_44693_row6_col4\" class=\"data row6 col4\" >-0.003506</td>\n",
       "      <td id=\"T_44693_row6_col5\" class=\"data row6 col5\" >-0.033093</td>\n",
       "      <td id=\"T_44693_row6_col6\" class=\"data row6 col6\" >1.000000</td>\n",
       "    </tr>\n",
       "  </tbody>\n",
       "</table>\n"
      ],
      "text/plain": [
       "<pandas.io.formats.style.Styler at 0x195d5f0e640>"
      ]
     },
     "execution_count": 24,
     "metadata": {},
     "output_type": "execute_result"
    }
   ],
   "source": [
    "corr.style.background_gradient(cmap='viridis')"
   ]
  },
  {
   "cell_type": "code",
   "execution_count": 17,
   "id": "8bca56ed",
   "metadata": {},
   "outputs": [],
   "source": [
    "x_train,x_test,y_train,y_test=train_test_split(x,y,test_size=.30)"
   ]
  },
  {
   "cell_type": "markdown",
   "id": "dc88c5da",
   "metadata": {},
   "source": [
    "bedroom bathroom is highly correlated"
   ]
  },
  {
   "cell_type": "markdown",
   "id": "a60cae13",
   "metadata": {},
   "source": [
    "# Model Building"
   ]
  },
  {
   "cell_type": "code",
   "execution_count": 18,
   "id": "16df17b8",
   "metadata": {},
   "outputs": [],
   "source": [
    "from sklearn.linear_model import LogisticRegression"
   ]
  },
  {
   "cell_type": "code",
   "execution_count": 19,
   "id": "317c77b2",
   "metadata": {},
   "outputs": [],
   "source": [
    "model_log=LogisticRegression()"
   ]
  },
  {
   "cell_type": "markdown",
   "id": "bec5c811",
   "metadata": {},
   "source": [
    "# CV"
   ]
  },
  {
   "cell_type": "code",
   "execution_count": 20,
   "id": "cf56bf6d",
   "metadata": {},
   "outputs": [],
   "source": [
    "from sklearn.model_selection import cross_val_score,RepeatedStratifiedKFold,KFold"
   ]
  },
  {
   "cell_type": "code",
   "execution_count": 29,
   "id": "76e6ede5",
   "metadata": {},
   "outputs": [
    {
     "data": {
      "text/plain": [
       "array([0.68927126, 0.6899696 , 0.6899696 , 0.69908815, 0.68591692,\n",
       "       0.69300912, 0.68287741, 0.70010132, 0.68287741, 0.70212766,\n",
       "       0.68522267, 0.68895643, 0.68490375, 0.6970618 , 0.6899696 ,\n",
       "       0.69604863, 0.69199595, 0.69402229, 0.69199595, 0.69098278,\n",
       "       0.68927126, 0.69604863, 0.69098278, 0.69908815, 0.69908815,\n",
       "       0.6970618 , 0.69199595, 0.67882472, 0.68490375, 0.68591692])"
      ]
     },
     "execution_count": 29,
     "metadata": {},
     "output_type": "execute_result"
    }
   ],
   "source": [
    "cv=RepeatedStratifiedKFold(n_splits=10,n_repeats=3)\n",
    "n_score=cross_val_score(model_log,x,y,scoring='accuracy',cv=cv,n_jobs=-1)\n",
    "n_score"
   ]
  },
  {
   "cell_type": "code",
   "execution_count": 30,
   "id": "a8e7f7d1",
   "metadata": {},
   "outputs": [
    {
     "name": "stdout",
     "output_type": "stream",
     "text": [
      "RMSE: 0.6913183463295447\n"
     ]
    }
   ],
   "source": [
    "print('RMSE:',n_score.mean())"
   ]
  },
  {
   "cell_type": "markdown",
   "id": "76a262ad",
   "metadata": {},
   "source": [
    "# Model fit"
   ]
  },
  {
   "cell_type": "code",
   "execution_count": 31,
   "id": "0b83a07a",
   "metadata": {},
   "outputs": [
    {
     "data": {
      "text/plain": [
       "LogisticRegression()"
      ]
     },
     "execution_count": 31,
     "metadata": {},
     "output_type": "execute_result"
    }
   ],
   "source": [
    "model_log.fit(x_train,y_train)"
   ]
  },
  {
   "cell_type": "code",
   "execution_count": 32,
   "id": "656d0d6e",
   "metadata": {},
   "outputs": [],
   "source": [
    "y_predict=model_log.predict(x_test)"
   ]
  },
  {
   "cell_type": "markdown",
   "id": "9a2a2741",
   "metadata": {},
   "source": [
    "# Accuracy"
   ]
  },
  {
   "cell_type": "code",
   "execution_count": 33,
   "id": "a2d98b03",
   "metadata": {},
   "outputs": [
    {
     "data": {
      "text/plain": [
       "0.6934503713706954"
      ]
     },
     "execution_count": 33,
     "metadata": {},
     "output_type": "execute_result"
    }
   ],
   "source": [
    "model_log.score(x_test,y_test)"
   ]
  },
  {
   "cell_type": "code",
   "execution_count": 34,
   "id": "119fb10c",
   "metadata": {},
   "outputs": [
    {
     "data": {
      "text/plain": [
       "0.6924301635547836"
      ]
     },
     "execution_count": 34,
     "metadata": {},
     "output_type": "execute_result"
    }
   ],
   "source": [
    "model_log.score(x_train,y_train)"
   ]
  },
  {
   "cell_type": "markdown",
   "id": "189476c6",
   "metadata": {},
   "source": [
    "# Model Evaluation"
   ]
  },
  {
   "cell_type": "code",
   "execution_count": 35,
   "id": "72ea8486",
   "metadata": {},
   "outputs": [],
   "source": [
    "from sklearn.metrics import mean_absolute_error,mean_squared_error"
   ]
  },
  {
   "cell_type": "code",
   "execution_count": null,
   "id": "ea18f256",
   "metadata": {},
   "outputs": [],
   "source": []
  },
  {
   "cell_type": "markdown",
   "id": "5d3dcad9",
   "metadata": {},
   "source": [
    "# Grid CV"
   ]
  },
  {
   "cell_type": "code",
   "execution_count": 36,
   "id": "39db6af8",
   "metadata": {},
   "outputs": [],
   "source": [
    "from sklearn.model_selection import GridSearchCV"
   ]
  },
  {
   "cell_type": "code",
   "execution_count": 37,
   "id": "e3fa0937",
   "metadata": {},
   "outputs": [
    {
     "data": {
      "text/plain": [
       "array([1.00000000e+00, 2.78255940e+00, 7.74263683e+00, 2.15443469e+01,\n",
       "       5.99484250e+01, 1.66810054e+02, 4.64158883e+02, 1.29154967e+03,\n",
       "       3.59381366e+03, 1.00000000e+04])"
      ]
     },
     "execution_count": 37,
     "metadata": {},
     "output_type": "execute_result"
    }
   ],
   "source": [
    "# penalty Type\n",
    "penalty=['l1','l2'] # l1=Lasso And L2= Ridge (Refularization) l1=0 ,l2= 0.01 (which is near to zero)\n",
    "\n",
    "c=np.logspace(0,4,10)\n",
    "c # solution for overfitting"
   ]
  },
  {
   "cell_type": "code",
   "execution_count": 38,
   "id": "cdd94b0b",
   "metadata": {},
   "outputs": [],
   "source": [
    "grid_model=GridSearchCV(model_log,param_grid={'C':c,'penalty':penalty})"
   ]
  },
  {
   "cell_type": "code",
   "execution_count": 39,
   "id": "5ece1a90",
   "metadata": {},
   "outputs": [
    {
     "name": "stderr",
     "output_type": "stream",
     "text": [
      "C:\\Users\\prabh\\anaconda3\\lib\\site-packages\\sklearn\\model_selection\\_validation.py:372: FitFailedWarning: \n",
      "50 fits failed out of a total of 100.\n",
      "The score on these train-test partitions for these parameters will be set to nan.\n",
      "If these failures are not expected, you can try to debug them by setting error_score='raise'.\n",
      "\n",
      "Below are more details about the failures:\n",
      "--------------------------------------------------------------------------------\n",
      "50 fits failed with the following error:\n",
      "Traceback (most recent call last):\n",
      "  File \"C:\\Users\\prabh\\anaconda3\\lib\\site-packages\\sklearn\\model_selection\\_validation.py\", line 680, in _fit_and_score\n",
      "    estimator.fit(X_train, y_train, **fit_params)\n",
      "  File \"C:\\Users\\prabh\\anaconda3\\lib\\site-packages\\sklearn\\linear_model\\_logistic.py\", line 1461, in fit\n",
      "    solver = _check_solver(self.solver, self.penalty, self.dual)\n",
      "  File \"C:\\Users\\prabh\\anaconda3\\lib\\site-packages\\sklearn\\linear_model\\_logistic.py\", line 447, in _check_solver\n",
      "    raise ValueError(\n",
      "ValueError: Solver lbfgs supports only 'l2' or 'none' penalties, got l1 penalty.\n",
      "\n",
      "  warnings.warn(some_fits_failed_message, FitFailedWarning)\n",
      "C:\\Users\\prabh\\anaconda3\\lib\\site-packages\\sklearn\\model_selection\\_search.py:969: UserWarning: One or more of the test scores are non-finite: [       nan 0.6924294         nan 0.69213965        nan 0.69228437\n",
      "        nan 0.69228437        nan 0.69213976        nan 0.69213976\n",
      "        nan 0.69213976        nan 0.69213976        nan 0.69213976\n",
      "        nan 0.69213976]\n",
      "  warnings.warn(\n"
     ]
    },
    {
     "data": {
      "text/plain": [
       "GridSearchCV(estimator=LogisticRegression(),\n",
       "             param_grid={'C': array([1.00000000e+00, 2.78255940e+00, 7.74263683e+00, 2.15443469e+01,\n",
       "       5.99484250e+01, 1.66810054e+02, 4.64158883e+02, 1.29154967e+03,\n",
       "       3.59381366e+03, 1.00000000e+04]),\n",
       "                         'penalty': ['l1', 'l2']})"
      ]
     },
     "execution_count": 39,
     "metadata": {},
     "output_type": "execute_result"
    }
   ],
   "source": [
    "grid_model.fit(x_train,y_train)"
   ]
  },
  {
   "cell_type": "code",
   "execution_count": 40,
   "id": "0efaed7e",
   "metadata": {},
   "outputs": [
    {
     "data": {
      "text/plain": [
       "LogisticRegression()"
      ]
     },
     "execution_count": 40,
     "metadata": {},
     "output_type": "execute_result"
    }
   ],
   "source": [
    "best=grid_model.best_estimator_\n",
    "best"
   ]
  },
  {
   "cell_type": "code",
   "execution_count": 41,
   "id": "0d200f95",
   "metadata": {},
   "outputs": [
    {
     "data": {
      "text/plain": [
       "{'C': 1.0, 'penalty': 'l2'}"
      ]
     },
     "execution_count": 41,
     "metadata": {},
     "output_type": "execute_result"
    }
   ],
   "source": [
    "grid_model.best_params_"
   ]
  },
  {
   "cell_type": "code",
   "execution_count": 42,
   "id": "11ab7a21",
   "metadata": {},
   "outputs": [
    {
     "data": {
      "text/plain": [
       "LogisticRegression()"
      ]
     },
     "execution_count": 42,
     "metadata": {},
     "output_type": "execute_result"
    }
   ],
   "source": [
    "best.fit(x_train,y_train)"
   ]
  },
  {
   "cell_type": "code",
   "execution_count": 43,
   "id": "73663de1",
   "metadata": {},
   "outputs": [],
   "source": [
    "yy_prd=best.predict(x_test)"
   ]
  },
  {
   "cell_type": "markdown",
   "id": "00d43d18",
   "metadata": {},
   "source": [
    "# Accuracy"
   ]
  },
  {
   "cell_type": "code",
   "execution_count": 44,
   "id": "c8efd51a",
   "metadata": {},
   "outputs": [
    {
     "data": {
      "text/plain": [
       "0.6934503713706954"
      ]
     },
     "execution_count": 44,
     "metadata": {},
     "output_type": "execute_result"
    }
   ],
   "source": [
    "best.score(x_test,y_test)"
   ]
  },
  {
   "cell_type": "code",
   "execution_count": 45,
   "id": "ee4f819e",
   "metadata": {},
   "outputs": [
    {
     "data": {
      "text/plain": [
       "0.6924301635547836"
      ]
     },
     "execution_count": 45,
     "metadata": {},
     "output_type": "execute_result"
    }
   ],
   "source": [
    "best.score(x_train,y_train)"
   ]
  },
  {
   "cell_type": "markdown",
   "id": "8c1d3932",
   "metadata": {},
   "source": [
    "# Best Model Evaluation"
   ]
  },
  {
   "cell_type": "code",
   "execution_count": 21,
   "id": "7b229f34",
   "metadata": {},
   "outputs": [],
   "source": [
    "from sklearn.metrics import classification_report"
   ]
  },
  {
   "cell_type": "code",
   "execution_count": 47,
   "id": "0f2b787e",
   "metadata": {},
   "outputs": [
    {
     "name": "stdout",
     "output_type": "stream",
     "text": [
      "              precision    recall  f1-score   support\n",
      "\n",
      "           0       0.43      0.01      0.03       218\n",
      "           1       0.70      0.98      0.82      2065\n",
      "           2       0.30      0.04      0.06       679\n",
      "\n",
      "    accuracy                           0.69      2962\n",
      "   macro avg       0.48      0.34      0.30      2962\n",
      "weighted avg       0.59      0.69      0.59      2962\n",
      "\n"
     ]
    }
   ],
   "source": [
    "print(classification_report(y_test,yy_prd))"
   ]
  },
  {
   "cell_type": "code",
   "execution_count": 48,
   "id": "2bcf1f43",
   "metadata": {},
   "outputs": [],
   "source": [
    "prob=best.predict_proba(x_test)"
   ]
  },
  {
   "cell_type": "code",
   "execution_count": 49,
   "id": "2f76d2f7",
   "metadata": {},
   "outputs": [
    {
     "data": {
      "image/png": "[encoded data removed]",
      "text/plain": [
       "<Figure size 640x480 with 1 Axes>"
      ]
     },
     "metadata": {},
     "output_type": "display_data"
    }
   ],
   "source": [
    "sb.histplot(prob);"
   ]
  },
  {
   "cell_type": "code",
   "execution_count": 50,
   "id": "11f0e516",
   "metadata": {},
   "outputs": [
    {
     "name": "stdout",
     "output_type": "stream",
     "text": [
      "mean score using DT 0.6232930640323832\n"
     ]
    }
   ],
   "source": [
    "from sklearn.tree import DecisionTreeClassifier\n",
    "DT=DecisionTreeClassifier()\n",
    "cv=RepeatedStratifiedKFold(n_splits=10,n_repeats=3,random_state=42)\n",
    "score=cross_val_score(DT,x_train,y_train,scoring='accuracy',cv=cv,n_jobs=-1)\n",
    "print('mean score using DT',score.mean())"
   ]
  },
  {
   "cell_type": "code",
   "execution_count": 51,
   "id": "d0e65b3d",
   "metadata": {},
   "outputs": [
    {
     "data": {
      "text/plain": [
       "dict_keys(['explained_variance', 'r2', 'max_error', 'neg_median_absolute_error', 'neg_mean_absolute_error', 'neg_mean_absolute_percentage_error', 'neg_mean_squared_error', 'neg_mean_squared_log_error', 'neg_root_mean_squared_error', 'neg_mean_poisson_deviance', 'neg_mean_gamma_deviance', 'accuracy', 'top_k_accuracy', 'roc_auc', 'roc_auc_ovr', 'roc_auc_ovo', 'roc_auc_ovr_weighted', 'roc_auc_ovo_weighted', 'balanced_accuracy', 'average_precision', 'neg_log_loss', 'neg_brier_score', 'adjusted_rand_score', 'rand_score', 'homogeneity_score', 'completeness_score', 'v_measure_score', 'mutual_info_score', 'adjusted_mutual_info_score', 'normalized_mutual_info_score', 'fowlkes_mallows_score', 'precision', 'precision_macro', 'precision_micro', 'precision_samples', 'precision_weighted', 'recall', 'recall_macro', 'recall_micro', 'recall_samples', 'recall_weighted', 'f1', 'f1_macro', 'f1_micro', 'f1_samples', 'f1_weighted', 'jaccard', 'jaccard_macro', 'jaccard_micro', 'jaccard_samples', 'jaccard_weighted'])"
      ]
     },
     "execution_count": 51,
     "metadata": {},
     "output_type": "execute_result"
    }
   ],
   "source": [
    "import sklearn\n",
    "sklearn.metrics.SCORERS.keys()"
   ]
  }
 ],
 "metadata": {
  "kernelspec": {
   "display_name": "Python 3 (ipykernel)",
   "language": "python",
   "name": "python3"
  },
  "language_info": {
   "codemirror_mode": {
    "name": "ipython",
    "version": 3
   },
   "file_extension": ".py",
   "mimetype": "text/x-python",
   "name": "python",
   "nbconvert_exporter": "python",
   "pygments_lexer": "ipython3",
   "version": "3.10.9"
  }
 },
 "nbformat": 4,
 "nbformat_minor": 5
}
