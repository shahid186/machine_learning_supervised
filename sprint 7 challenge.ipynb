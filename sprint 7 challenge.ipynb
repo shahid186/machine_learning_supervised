{
 "cells": [
  {
   "cell_type": "markdown",
   "id": "1e556112",
   "metadata": {},
   "source": [
    "# L2_C3_S7_Challenge"
   ]
  },
  {
   "cell_type": "code",
   "execution_count": 1,
   "id": "a645d53f",
   "metadata": {},
   "outputs": [],
   "source": []
  },
  {
   "cell_type": "markdown",
   "id": "91b2163a",
   "metadata": {},
   "source": [
    "# 1.Data Loading"
   ]
  },
  {
   "cell_type": "code",
   "execution_count": 2,
   "id": "65d077e0",
   "metadata": {},
   "outputs": [
    {
     "data": {
      "text/html": [
       "<div>\n",
       "<style scoped>\n",
       "    .dataframe tbody tr th:only-of-type {\n",
       "        vertical-align: middle;\n",
       "    }\n",
       "\n",
       "    .dataframe tbody tr th {\n",
       "        vertical-align: top;\n",
       "    }\n",
       "\n",
       "    .dataframe thead th {\n",
       "        text-align: right;\n",
       "    }\n",
       "</style>\n",
       "<table border=\"1\" class=\"dataframe\">\n",
       "  <thead>\n",
       "    <tr style=\"text-align: right;\">\n",
       "      <th></th>\n",
       "      <th>Unnamed: 0</th>\n",
       "      <th>bathrooms</th>\n",
       "      <th>bedrooms</th>\n",
       "      <th>building_id</th>\n",
       "      <th>created</th>\n",
       "      <th>description</th>\n",
       "      <th>display_address</th>\n",
       "      <th>features</th>\n",
       "      <th>latitude</th>\n",
       "      <th>listing_id</th>\n",
       "      <th>longitude</th>\n",
       "      <th>manager_id</th>\n",
       "      <th>photos</th>\n",
       "      <th>price</th>\n",
       "      <th>street_address</th>\n",
       "      <th>interest_level</th>\n",
       "    </tr>\n",
       "  </thead>\n",
       "  <tbody>\n",
       "    <tr>\n",
       "      <th>0</th>\n",
       "      <td>105408</td>\n",
       "      <td>1.0</td>\n",
       "      <td>0</td>\n",
       "      <td>0f9d07991ba14c82d3d368b72d90270a</td>\n",
       "      <td>04-04-2016 03:34</td>\n",
       "      <td>Gorgeous unit in one of the most genuinely cov...</td>\n",
       "      <td>230 Central Park South</td>\n",
       "      <td>['Cats Allowed', 'Dogs Allowed', 'Doorman', 'E...</td>\n",
       "      <td>40.7672</td>\n",
       "      <td>6827153</td>\n",
       "      <td>-73.9802</td>\n",
       "      <td>932589de9230b697808216774fa26bd4</td>\n",
       "      <td>['https://photos.renthop.com/2/6821519_0a14cc2...</td>\n",
       "      <td>2800</td>\n",
       "      <td>230 Central Park South</td>\n",
       "      <td>high</td>\n",
       "    </tr>\n",
       "    <tr>\n",
       "      <th>1</th>\n",
       "      <td>110219</td>\n",
       "      <td>1.0</td>\n",
       "      <td>1</td>\n",
       "      <td>564d6f608f41e8d4a5e181c4e068e3d9</td>\n",
       "      <td>21-04-2016 20:40</td>\n",
       "      <td>Enormous 1 bedroom apartment in Murray Hill. F...</td>\n",
       "      <td>E 39th St</td>\n",
       "      <td>['Cats Allowed', 'Dogs Allowed', 'Reduced Fee'...</td>\n",
       "      <td>40.7483</td>\n",
       "      <td>6908998</td>\n",
       "      <td>-73.9741</td>\n",
       "      <td>489ad933197469ae66acd1f7ce18f908</td>\n",
       "      <td>['https://photos.renthop.com/2/6908998_6b00895...</td>\n",
       "      <td>2100</td>\n",
       "      <td>243 E 39th St</td>\n",
       "      <td>high</td>\n",
       "    </tr>\n",
       "    <tr>\n",
       "      <th>2</th>\n",
       "      <td>56113</td>\n",
       "      <td>1.0</td>\n",
       "      <td>1</td>\n",
       "      <td>69790fbf0bf7e22b1d0ebc721cf0f633</td>\n",
       "      <td>14-05-2016 05:44</td>\n",
       "      <td>This 1 bedroom, 1 bathroom spacious apartment ...</td>\n",
       "      <td>E 25th St.</td>\n",
       "      <td>['Elevator', 'Furnished', 'Hardwood Floors']</td>\n",
       "      <td>40.7399</td>\n",
       "      <td>7013774</td>\n",
       "      <td>-73.9812</td>\n",
       "      <td>792c0f1ad1431397c65db3e69b770928</td>\n",
       "      <td>['https://photos.renthop.com/2/7013774_e7ead5d...</td>\n",
       "      <td>3000</td>\n",
       "      <td>217 E 25th St.</td>\n",
       "      <td>high</td>\n",
       "    </tr>\n",
       "    <tr>\n",
       "      <th>3</th>\n",
       "      <td>37765</td>\n",
       "      <td>1.0</td>\n",
       "      <td>2</td>\n",
       "      <td>d0234abbc01a982d54e8d446acc03405</td>\n",
       "      <td>05-06-2016 03:37</td>\n",
       "      <td>SPECTACULAR2 BEDROOM APARTMENT IN LUXURY 24HR ...</td>\n",
       "      <td>West 34th Street</td>\n",
       "      <td>['Doorman', 'Elevator', 'Dishwasher', 'Hardwoo...</td>\n",
       "      <td>40.7530</td>\n",
       "      <td>7113518</td>\n",
       "      <td>-73.9958</td>\n",
       "      <td>eb5a6c4c2eb6f3e2a085c477afd5a815</td>\n",
       "      <td>['https://photos.renthop.com/2/7113518_d234153...</td>\n",
       "      <td>3000</td>\n",
       "      <td>360 West 34th Street</td>\n",
       "      <td>high</td>\n",
       "    </tr>\n",
       "    <tr>\n",
       "      <th>4</th>\n",
       "      <td>67397</td>\n",
       "      <td>1.0</td>\n",
       "      <td>2</td>\n",
       "      <td>a36895b9975c6991ca0fa1d9a99023a1</td>\n",
       "      <td>26-05-2016 05:36</td>\n",
       "      <td>NO FEE.. Newly Reno XL Convertible 2 Br .. Pri...</td>\n",
       "      <td>East 72nd Street</td>\n",
       "      <td>['Dining Room', 'Doorman', 'Elevator', 'Fitnes...</td>\n",
       "      <td>40.7695</td>\n",
       "      <td>7071666</td>\n",
       "      <td>-73.9603</td>\n",
       "      <td>0a6ba20b892ed61df751420934d1ab51</td>\n",
       "      <td>['https://photos.renthop.com/2/7071666_4f81618...</td>\n",
       "      <td>3300</td>\n",
       "      <td>200 East 72nd Street</td>\n",
       "      <td>high</td>\n",
       "    </tr>\n",
       "  </tbody>\n",
       "</table>\n",
       "</div>"
      ],
      "text/plain": [
       "   Unnamed: 0  bathrooms  bedrooms                       building_id  \\\n",
       "0      105408        1.0         0  0f9d07991ba14c82d3d368b72d90270a   \n",
       "1      110219        1.0         1  564d6f608f41e8d4a5e181c4e068e3d9   \n",
       "2       56113        1.0         1  69790fbf0bf7e22b1d0ebc721cf0f633   \n",
       "3       37765        1.0         2  d0234abbc01a982d54e8d446acc03405   \n",
       "4       67397        1.0         2  a36895b9975c6991ca0fa1d9a99023a1   \n",
       "\n",
       "            created                                        description  \\\n",
       "0  04-04-2016 03:34  Gorgeous unit in one of the most genuinely cov...   \n",
       "1  21-04-2016 20:40  Enormous 1 bedroom apartment in Murray Hill. F...   \n",
       "2  14-05-2016 05:44  This 1 bedroom, 1 bathroom spacious apartment ...   \n",
       "3  05-06-2016 03:37  SPECTACULAR2 BEDROOM APARTMENT IN LUXURY 24HR ...   \n",
       "4  26-05-2016 05:36  NO FEE.. Newly Reno XL Convertible 2 Br .. Pri...   \n",
       "\n",
       "          display_address                                           features  \\\n",
       "0  230 Central Park South  ['Cats Allowed', 'Dogs Allowed', 'Doorman', 'E...   \n",
       "1               E 39th St  ['Cats Allowed', 'Dogs Allowed', 'Reduced Fee'...   \n",
       "2              E 25th St.       ['Elevator', 'Furnished', 'Hardwood Floors']   \n",
       "3        West 34th Street  ['Doorman', 'Elevator', 'Dishwasher', 'Hardwoo...   \n",
       "4        East 72nd Street  ['Dining Room', 'Doorman', 'Elevator', 'Fitnes...   \n",
       "\n",
       "   latitude  listing_id  longitude                        manager_id  \\\n",
       "0   40.7672     6827153   -73.9802  932589de9230b697808216774fa26bd4   \n",
       "1   40.7483     6908998   -73.9741  489ad933197469ae66acd1f7ce18f908   \n",
       "2   40.7399     7013774   -73.9812  792c0f1ad1431397c65db3e69b770928   \n",
       "3   40.7530     7113518   -73.9958  eb5a6c4c2eb6f3e2a085c477afd5a815   \n",
       "4   40.7695     7071666   -73.9603  0a6ba20b892ed61df751420934d1ab51   \n",
       "\n",
       "                                              photos  price  \\\n",
       "0  ['https://photos.renthop.com/2/6821519_0a14cc2...   2800   \n",
       "1  ['https://photos.renthop.com/2/6908998_6b00895...   2100   \n",
       "2  ['https://photos.renthop.com/2/7013774_e7ead5d...   3000   \n",
       "3  ['https://photos.renthop.com/2/7113518_d234153...   3000   \n",
       "4  ['https://photos.renthop.com/2/7071666_4f81618...   3300   \n",
       "\n",
       "           street_address interest_level  \n",
       "0  230 Central Park South           high  \n",
       "1           243 E 39th St           high  \n",
       "2          217 E 25th St.           high  \n",
       "3    360 West 34th Street           high  \n",
       "4    200 East 72nd Street           high  "
      ]
     },
     "execution_count": 2,
     "metadata": {},
     "output_type": "execute_result"
    }
   ],
   "source": [
    "df=pd.read_csv('DS2_C5_S7_AllRent_Data_Challenge.csv')\n",
    "df.head()"
   ]
  },
  {
   "cell_type": "markdown",
   "id": "e24546e6",
   "metadata": {},
   "source": [
    "# 2.Data Exploration"
   ]
  },
  {
   "cell_type": "code",
   "execution_count": 3,
   "id": "fabe5cb4",
   "metadata": {},
   "outputs": [
    {
     "data": {
      "text/plain": [
       "(9871, 16)"
      ]
     },
     "execution_count": 3,
     "metadata": {},
     "output_type": "execute_result"
    }
   ],
   "source": [
    "df.shape"
   ]
  },
  {
   "cell_type": "code",
   "execution_count": 4,
   "id": "0a00a6c7",
   "metadata": {},
   "outputs": [
    {
     "name": "stdout",
     "output_type": "stream",
     "text": [
      "<class 'pandas.core.frame.DataFrame'>\n",
      "RangeIndex: 9871 entries, 0 to 9870\n",
      "Data columns (total 16 columns):\n",
      " #   Column           Non-Null Count  Dtype  \n",
      "---  ------           --------------  -----  \n",
      " 0   Unnamed: 0       9871 non-null   int64  \n",
      " 1   bathrooms        9871 non-null   float64\n",
      " 2   bedrooms         9871 non-null   int64  \n",
      " 3   building_id      9871 non-null   object \n",
      " 4   created          9871 non-null   object \n",
      " 5   description      9585 non-null   object \n",
      " 6   display_address  9837 non-null   object \n",
      " 7   features         9871 non-null   object \n",
      " 8   latitude         9871 non-null   float64\n",
      " 9   listing_id       9871 non-null   int64  \n",
      " 10  longitude        9871 non-null   float64\n",
      " 11  manager_id       9871 non-null   object \n",
      " 12  photos           9871 non-null   object \n",
      " 13  price            9871 non-null   int64  \n",
      " 14  street_address   9866 non-null   object \n",
      " 15  interest_level   9871 non-null   object \n",
      "dtypes: float64(3), int64(4), object(9)\n",
      "memory usage: 1.2+ MB\n"
     ]
    }
   ],
   "source": [
    "df.info()"
   ]
  },
  {
   "cell_type": "code",
   "execution_count": 6,
   "id": "67ae2335",
   "metadata": {},
   "outputs": [
    {
     "data": {
      "text/html": [
       "<div>\n",
       "<style scoped>\n",
       "    .dataframe tbody tr th:only-of-type {\n",
       "        vertical-align: middle;\n",
       "    }\n",
       "\n",
       "    .dataframe tbody tr th {\n",
       "        vertical-align: top;\n",
       "    }\n",
       "\n",
       "    .dataframe thead th {\n",
       "        text-align: right;\n",
       "    }\n",
       "</style>\n",
       "<table border=\"1\" class=\"dataframe\">\n",
       "  <thead>\n",
       "    <tr style=\"text-align: right;\">\n",
       "      <th></th>\n",
       "      <th>Unnamed: 0</th>\n",
       "      <th>bathrooms</th>\n",
       "      <th>bedrooms</th>\n",
       "      <th>latitude</th>\n",
       "      <th>listing_id</th>\n",
       "      <th>longitude</th>\n",
       "      <th>price</th>\n",
       "    </tr>\n",
       "  </thead>\n",
       "  <tbody>\n",
       "    <tr>\n",
       "      <th>count</th>\n",
       "      <td>9871.000000</td>\n",
       "      <td>9871.000000</td>\n",
       "      <td>9871.000000</td>\n",
       "      <td>9871.000000</td>\n",
       "      <td>9.871000e+03</td>\n",
       "      <td>9871.000000</td>\n",
       "      <td>9871.000000</td>\n",
       "    </tr>\n",
       "    <tr>\n",
       "      <th>mean</th>\n",
       "      <td>61828.973154</td>\n",
       "      <td>1.210617</td>\n",
       "      <td>1.533685</td>\n",
       "      <td>40.747167</td>\n",
       "      <td>7.024062e+06</td>\n",
       "      <td>-73.965549</td>\n",
       "      <td>3662.860804</td>\n",
       "    </tr>\n",
       "    <tr>\n",
       "      <th>std</th>\n",
       "      <td>35901.607107</td>\n",
       "      <td>0.501985</td>\n",
       "      <td>1.106696</td>\n",
       "      <td>0.414548</td>\n",
       "      <td>1.269108e+05</td>\n",
       "      <td>0.760686</td>\n",
       "      <td>2559.911997</td>\n",
       "    </tr>\n",
       "    <tr>\n",
       "      <th>min</th>\n",
       "      <td>9.000000</td>\n",
       "      <td>0.000000</td>\n",
       "      <td>0.000000</td>\n",
       "      <td>0.000000</td>\n",
       "      <td>6.812005e+06</td>\n",
       "      <td>-87.613400</td>\n",
       "      <td>43.000000</td>\n",
       "    </tr>\n",
       "    <tr>\n",
       "      <th>25%</th>\n",
       "      <td>30968.000000</td>\n",
       "      <td>1.000000</td>\n",
       "      <td>1.000000</td>\n",
       "      <td>40.727500</td>\n",
       "      <td>6.914494e+06</td>\n",
       "      <td>-73.992200</td>\n",
       "      <td>2499.000000</td>\n",
       "    </tr>\n",
       "    <tr>\n",
       "      <th>50%</th>\n",
       "      <td>61354.000000</td>\n",
       "      <td>1.000000</td>\n",
       "      <td>1.000000</td>\n",
       "      <td>40.750600</td>\n",
       "      <td>7.022816e+06</td>\n",
       "      <td>-73.978300</td>\n",
       "      <td>3125.000000</td>\n",
       "    </tr>\n",
       "    <tr>\n",
       "      <th>75%</th>\n",
       "      <td>93229.500000</td>\n",
       "      <td>1.000000</td>\n",
       "      <td>2.000000</td>\n",
       "      <td>40.773900</td>\n",
       "      <td>7.130978e+06</td>\n",
       "      <td>-73.955100</td>\n",
       "      <td>4047.500000</td>\n",
       "    </tr>\n",
       "    <tr>\n",
       "      <th>max</th>\n",
       "      <td>123995.000000</td>\n",
       "      <td>10.000000</td>\n",
       "      <td>8.000000</td>\n",
       "      <td>43.034600</td>\n",
       "      <td>7.742631e+06</td>\n",
       "      <td>0.000000</td>\n",
       "      <td>90000.000000</td>\n",
       "    </tr>\n",
       "  </tbody>\n",
       "</table>\n",
       "</div>"
      ],
      "text/plain": [
       "          Unnamed: 0    bathrooms     bedrooms     latitude    listing_id  \\\n",
       "count    9871.000000  9871.000000  9871.000000  9871.000000  9.871000e+03   \n",
       "mean    61828.973154     1.210617     1.533685    40.747167  7.024062e+06   \n",
       "std     35901.607107     0.501985     1.106696     0.414548  1.269108e+05   \n",
       "min         9.000000     0.000000     0.000000     0.000000  6.812005e+06   \n",
       "25%     30968.000000     1.000000     1.000000    40.727500  6.914494e+06   \n",
       "50%     61354.000000     1.000000     1.000000    40.750600  7.022816e+06   \n",
       "75%     93229.500000     1.000000     2.000000    40.773900  7.130978e+06   \n",
       "max    123995.000000    10.000000     8.000000    43.034600  7.742631e+06   \n",
       "\n",
       "         longitude         price  \n",
       "count  9871.000000   9871.000000  \n",
       "mean    -73.965549   3662.860804  \n",
       "std       0.760686   2559.911997  \n",
       "min     -87.613400     43.000000  \n",
       "25%     -73.992200   2499.000000  \n",
       "50%     -73.978300   3125.000000  \n",
       "75%     -73.955100   4047.500000  \n",
       "max       0.000000  90000.000000  "
      ]
     },
     "execution_count": 6,
     "metadata": {},
     "output_type": "execute_result"
    }
   ],
   "source": [
    "df.describe()"
   ]
  },
  {
   "cell_type": "code",
   "execution_count": 7,
   "id": "27459e1c",
   "metadata": {},
   "outputs": [
    {
     "data": {
      "text/plain": [
       "Unnamed: 0           0\n",
       "bathrooms            0\n",
       "bedrooms             0\n",
       "building_id          0\n",
       "created              0\n",
       "description        286\n",
       "display_address     34\n",
       "features             0\n",
       "latitude             0\n",
       "listing_id           0\n",
       "longitude            0\n",
       "manager_id           0\n",
       "photos               0\n",
       "price                0\n",
       "street_address       5\n",
       "interest_level       0\n",
       "dtype: int64"
      ]
     },
     "execution_count": 7,
     "metadata": {},
     "output_type": "execute_result"
    }
   ],
   "source": [
    "df.isnull().sum()"
   ]
  },
  {
   "cell_type": "code",
   "execution_count": 8,
   "id": "b5b66924",
   "metadata": {},
   "outputs": [],
   "source": [
    "df.drop(columns=['Unnamed: 0','building_id','created','description','display_address','listing_id','manager_id','photos','street_address'],axis=1,inplace=True)"
   ]
  },
  {
   "cell_type": "code",
   "execution_count": 11,
   "id": "08cc89f5",
   "metadata": {},
   "outputs": [
    {
     "data": {
      "text/html": [
       "<div>\n",
       "<style scoped>\n",
       "    .dataframe tbody tr th:only-of-type {\n",
       "        vertical-align: middle;\n",
       "    }\n",
       "\n",
       "    .dataframe tbody tr th {\n",
       "        vertical-align: top;\n",
       "    }\n",
       "\n",
       "    .dataframe thead th {\n",
       "        text-align: right;\n",
       "    }\n",
       "</style>\n",
       "<table border=\"1\" class=\"dataframe\">\n",
       "  <thead>\n",
       "    <tr style=\"text-align: right;\">\n",
       "      <th></th>\n",
       "      <th>bathrooms</th>\n",
       "      <th>bedrooms</th>\n",
       "      <th>features</th>\n",
       "      <th>latitude</th>\n",
       "      <th>longitude</th>\n",
       "      <th>price</th>\n",
       "      <th>interest_level</th>\n",
       "    </tr>\n",
       "  </thead>\n",
       "  <tbody>\n",
       "    <tr>\n",
       "      <th>0</th>\n",
       "      <td>1.0</td>\n",
       "      <td>0</td>\n",
       "      <td>['Cats Allowed', 'Dogs Allowed', 'Doorman', 'E...</td>\n",
       "      <td>40.7672</td>\n",
       "      <td>-73.9802</td>\n",
       "      <td>2800</td>\n",
       "      <td>high</td>\n",
       "    </tr>\n",
       "    <tr>\n",
       "      <th>1</th>\n",
       "      <td>1.0</td>\n",
       "      <td>1</td>\n",
       "      <td>['Cats Allowed', 'Dogs Allowed', 'Reduced Fee'...</td>\n",
       "      <td>40.7483</td>\n",
       "      <td>-73.9741</td>\n",
       "      <td>2100</td>\n",
       "      <td>high</td>\n",
       "    </tr>\n",
       "    <tr>\n",
       "      <th>2</th>\n",
       "      <td>1.0</td>\n",
       "      <td>1</td>\n",
       "      <td>['Elevator', 'Furnished', 'Hardwood Floors']</td>\n",
       "      <td>40.7399</td>\n",
       "      <td>-73.9812</td>\n",
       "      <td>3000</td>\n",
       "      <td>high</td>\n",
       "    </tr>\n",
       "    <tr>\n",
       "      <th>3</th>\n",
       "      <td>1.0</td>\n",
       "      <td>2</td>\n",
       "      <td>['Doorman', 'Elevator', 'Dishwasher', 'Hardwoo...</td>\n",
       "      <td>40.7530</td>\n",
       "      <td>-73.9958</td>\n",
       "      <td>3000</td>\n",
       "      <td>high</td>\n",
       "    </tr>\n",
       "    <tr>\n",
       "      <th>4</th>\n",
       "      <td>1.0</td>\n",
       "      <td>2</td>\n",
       "      <td>['Dining Room', 'Doorman', 'Elevator', 'Fitnes...</td>\n",
       "      <td>40.7695</td>\n",
       "      <td>-73.9603</td>\n",
       "      <td>3300</td>\n",
       "      <td>high</td>\n",
       "    </tr>\n",
       "  </tbody>\n",
       "</table>\n",
       "</div>"
      ],
      "text/plain": [
       "   bathrooms  bedrooms                                           features  \\\n",
       "0        1.0         0  ['Cats Allowed', 'Dogs Allowed', 'Doorman', 'E...   \n",
       "1        1.0         1  ['Cats Allowed', 'Dogs Allowed', 'Reduced Fee'...   \n",
       "2        1.0         1       ['Elevator', 'Furnished', 'Hardwood Floors']   \n",
       "3        1.0         2  ['Doorman', 'Elevator', 'Dishwasher', 'Hardwoo...   \n",
       "4        1.0         2  ['Dining Room', 'Doorman', 'Elevator', 'Fitnes...   \n",
       "\n",
       "   latitude  longitude  price interest_level  \n",
       "0   40.7672   -73.9802   2800           high  \n",
       "1   40.7483   -73.9741   2100           high  \n",
       "2   40.7399   -73.9812   3000           high  \n",
       "3   40.7530   -73.9958   3000           high  \n",
       "4   40.7695   -73.9603   3300           high  "
      ]
     },
     "execution_count": 11,
     "metadata": {},
     "output_type": "execute_result"
    }
   ],
   "source": [
    "df.head()"
   ]
  },
  {
   "cell_type": "markdown",
   "id": "2d18aa68",
   "metadata": {},
   "source": [
    "# 3. Data Preprocessing"
   ]
  },
  {
   "cell_type": "code",
   "execution_count": 9,
   "id": "748c3d74",
   "metadata": {},
   "outputs": [],
   "source": [
    "from sklearn.preprocessing import LabelEncoder\n",
    "lbl=LabelEncoder()"
   ]
  },
  {
   "cell_type": "code",
   "execution_count": 27,
   "id": "070a8138",
   "metadata": {},
   "outputs": [],
   "source": [
    "df['features']=lbl.fit_transform(df['features'])\n",
    "df['interest_level']=lbl.fit_transform(df['interest_level'])"
   ]
  },
  {
   "cell_type": "code",
   "execution_count": 28,
   "id": "e9e59fea",
   "metadata": {},
   "outputs": [],
   "source": [
    "x=df.drop(columns='interest_level')\n",
    "y=df['interest_level']"
   ]
  },
  {
   "cell_type": "code",
   "execution_count": 29,
   "id": "4b8fce51",
   "metadata": {},
   "outputs": [
    {
     "name": "stdout",
     "output_type": "stream",
     "text": [
      "<class 'pandas.core.frame.DataFrame'>\n",
      "RangeIndex: 9871 entries, 0 to 9870\n",
      "Data columns (total 6 columns):\n",
      " #   Column     Non-Null Count  Dtype  \n",
      "---  ------     --------------  -----  \n",
      " 0   bathrooms  9871 non-null   float64\n",
      " 1   bedrooms   9871 non-null   int64  \n",
      " 2   features   9871 non-null   int32  \n",
      " 3   latitude   9871 non-null   float64\n",
      " 4   longitude  9871 non-null   float64\n",
      " 5   price      9871 non-null   int64  \n",
      "dtypes: float64(3), int32(1), int64(2)\n",
      "memory usage: 424.3 KB\n"
     ]
    }
   ],
   "source": [
    "x.info()"
   ]
  },
  {
   "cell_type": "code",
   "execution_count": 30,
   "id": "0e8257ba",
   "metadata": {},
   "outputs": [
    {
     "name": "stdout",
     "output_type": "stream",
     "text": [
      "<class 'pandas.core.series.Series'>\n",
      "RangeIndex: 9871 entries, 0 to 9870\n",
      "Series name: interest_level\n",
      "Non-Null Count  Dtype\n",
      "--------------  -----\n",
      "9871 non-null   int32\n",
      "dtypes: int32(1)\n",
      "memory usage: 38.7 KB\n"
     ]
    }
   ],
   "source": [
    "y.info()"
   ]
  },
  {
   "cell_type": "code",
   "execution_count": 31,
   "id": "2b6b4bc9",
   "metadata": {},
   "outputs": [
    {
     "data": {
      "text/plain": [
       "bathrooms    0\n",
       "bedrooms     0\n",
       "features     0\n",
       "latitude     0\n",
       "longitude    0\n",
       "price        0\n",
       "dtype: int64"
      ]
     },
     "execution_count": 31,
     "metadata": {},
     "output_type": "execute_result"
    }
   ],
   "source": [
    "x.isnull().sum()"
   ]
  },
  {
   "cell_type": "markdown",
   "id": "216883c1",
   "metadata": {},
   "source": [
    "# 4.Data Visualization"
   ]
  },
  {
   "cell_type": "code",
   "execution_count": 32,
   "id": "5b51f2d7",
   "metadata": {},
   "outputs": [
    {
     "name": "stdout",
     "output_type": "stream",
     "text": [
      "Categorical     Continuous\n",
      "--------------  ------------\n",
      "bathrooms       features\n",
      "bedrooms        latitude\n",
      "interest_level  longitude\n",
      "                price\n"
     ]
    }
   ],
   "source": [
    "from tabulate import tabulate\n",
    "cat=[]\n",
    "con=[]\n",
    "for i in df.columns:\n",
    "    if df[i].nunique()>100:\n",
    "        con.append(i)\n",
    "    else:\n",
    "        cat.append(i)\n",
    "        \n",
    "print(tabulate({'Categorical': cat,\"Continuous\": con},headers=['Categorical','Continuous']))"
   ]
  },
  {
   "cell_type": "markdown",
   "id": "59a487b3",
   "metadata": {},
   "source": [
    "# Scaling"
   ]
  },
  {
   "cell_type": "code",
   "execution_count": 33,
   "id": "b1bd826a",
   "metadata": {},
   "outputs": [],
   "source": [
    "from sklearn.preprocessing import MinMaxScaler,StandardScaler\n"
   ]
  },
  {
   "cell_type": "code",
   "execution_count": 34,
   "id": "72459013",
   "metadata": {},
   "outputs": [],
   "source": [
    "sc=StandardScaler()"
   ]
  },
  {
   "cell_type": "code",
   "execution_count": 35,
   "id": "b4337e8b",
   "metadata": {},
   "outputs": [
    {
     "data": {
      "text/html": [
       "<div>\n",
       "<style scoped>\n",
       "    .dataframe tbody tr th:only-of-type {\n",
       "        vertical-align: middle;\n",
       "    }\n",
       "\n",
       "    .dataframe tbody tr th {\n",
       "        vertical-align: top;\n",
       "    }\n",
       "\n",
       "    .dataframe thead th {\n",
       "        text-align: right;\n",
       "    }\n",
       "</style>\n",
       "<table border=\"1\" class=\"dataframe\">\n",
       "  <thead>\n",
       "    <tr style=\"text-align: right;\">\n",
       "      <th></th>\n",
       "      <th>bathrooms</th>\n",
       "      <th>bedrooms</th>\n",
       "      <th>features</th>\n",
       "      <th>latitude</th>\n",
       "      <th>longitude</th>\n",
       "      <th>price</th>\n",
       "    </tr>\n",
       "  </thead>\n",
       "  <tbody>\n",
       "    <tr>\n",
       "      <th>0</th>\n",
       "      <td>-0.41959</td>\n",
       "      <td>-1.385892</td>\n",
       "      <td>-1.684711</td>\n",
       "      <td>0.048326</td>\n",
       "      <td>-0.019261</td>\n",
       "      <td>-0.337084</td>\n",
       "    </tr>\n",
       "    <tr>\n",
       "      <th>1</th>\n",
       "      <td>-0.41959</td>\n",
       "      <td>-0.482256</td>\n",
       "      <td>-1.530574</td>\n",
       "      <td>0.002732</td>\n",
       "      <td>-0.011242</td>\n",
       "      <td>-0.610544</td>\n",
       "    </tr>\n",
       "    <tr>\n",
       "      <th>2</th>\n",
       "      <td>-0.41959</td>\n",
       "      <td>-0.482256</td>\n",
       "      <td>-0.225001</td>\n",
       "      <td>-0.017532</td>\n",
       "      <td>-0.020576</td>\n",
       "      <td>-0.258952</td>\n",
       "    </tr>\n",
       "    <tr>\n",
       "      <th>3</th>\n",
       "      <td>-0.41959</td>\n",
       "      <td>0.421379</td>\n",
       "      <td>-0.878298</td>\n",
       "      <td>0.014071</td>\n",
       "      <td>-0.039770</td>\n",
       "      <td>-0.258952</td>\n",
       "    </tr>\n",
       "    <tr>\n",
       "      <th>4</th>\n",
       "      <td>-0.41959</td>\n",
       "      <td>0.421379</td>\n",
       "      <td>-1.187593</td>\n",
       "      <td>0.053875</td>\n",
       "      <td>0.006901</td>\n",
       "      <td>-0.141755</td>\n",
       "    </tr>\n",
       "  </tbody>\n",
       "</table>\n",
       "</div>"
      ],
      "text/plain": [
       "   bathrooms  bedrooms  features  latitude  longitude     price\n",
       "0   -0.41959 -1.385892 -1.684711  0.048326  -0.019261 -0.337084\n",
       "1   -0.41959 -0.482256 -1.530574  0.002732  -0.011242 -0.610544\n",
       "2   -0.41959 -0.482256 -0.225001 -0.017532  -0.020576 -0.258952\n",
       "3   -0.41959  0.421379 -0.878298  0.014071  -0.039770 -0.258952\n",
       "4   -0.41959  0.421379 -1.187593  0.053875   0.006901 -0.141755"
      ]
     },
     "execution_count": 35,
     "metadata": {},
     "output_type": "execute_result"
    }
   ],
   "source": [
    "x1=x.copy()\n",
    "x2=sc.fit_transform(x1)\n",
    "x=pd.DataFrame(x2,columns=x1.columns)\n",
    "x.head()"
   ]
  },
  {
   "cell_type": "markdown",
   "id": "a7a86815",
   "metadata": {},
   "source": [
    "# Correlation"
   ]
  },
  {
   "cell_type": "code",
   "execution_count": 36,
   "id": "54e3281d",
   "metadata": {},
   "outputs": [
    {
     "data": {
      "text/html": [
       "<div>\n",
       "<style scoped>\n",
       "    .dataframe tbody tr th:only-of-type {\n",
       "        vertical-align: middle;\n",
       "    }\n",
       "\n",
       "    .dataframe tbody tr th {\n",
       "        vertical-align: top;\n",
       "    }\n",
       "\n",
       "    .dataframe thead th {\n",
       "        text-align: right;\n",
       "    }\n",
       "</style>\n",
       "<table border=\"1\" class=\"dataframe\">\n",
       "  <thead>\n",
       "    <tr style=\"text-align: right;\">\n",
       "      <th></th>\n",
       "      <th>bathrooms</th>\n",
       "      <th>bedrooms</th>\n",
       "      <th>features</th>\n",
       "      <th>latitude</th>\n",
       "      <th>longitude</th>\n",
       "      <th>price</th>\n",
       "      <th>interest_level</th>\n",
       "    </tr>\n",
       "  </thead>\n",
       "  <tbody>\n",
       "    <tr>\n",
       "      <th>bathrooms</th>\n",
       "      <td>1.00</td>\n",
       "      <td>0.53</td>\n",
       "      <td>-0.02</td>\n",
       "      <td>0.01</td>\n",
       "      <td>-0.00</td>\n",
       "      <td>0.62</td>\n",
       "      <td>-0.02</td>\n",
       "    </tr>\n",
       "    <tr>\n",
       "      <th>bedrooms</th>\n",
       "      <td>0.53</td>\n",
       "      <td>1.00</td>\n",
       "      <td>0.01</td>\n",
       "      <td>0.02</td>\n",
       "      <td>-0.01</td>\n",
       "      <td>0.43</td>\n",
       "      <td>0.03</td>\n",
       "    </tr>\n",
       "    <tr>\n",
       "      <th>features</th>\n",
       "      <td>-0.02</td>\n",
       "      <td>0.01</td>\n",
       "      <td>1.00</td>\n",
       "      <td>-0.01</td>\n",
       "      <td>0.02</td>\n",
       "      <td>-0.04</td>\n",
       "      <td>-0.00</td>\n",
       "    </tr>\n",
       "    <tr>\n",
       "      <th>latitude</th>\n",
       "      <td>0.01</td>\n",
       "      <td>0.02</td>\n",
       "      <td>-0.01</td>\n",
       "      <td>1.00</td>\n",
       "      <td>-0.97</td>\n",
       "      <td>0.01</td>\n",
       "      <td>0.00</td>\n",
       "    </tr>\n",
       "    <tr>\n",
       "      <th>longitude</th>\n",
       "      <td>-0.00</td>\n",
       "      <td>-0.01</td>\n",
       "      <td>0.02</td>\n",
       "      <td>-0.97</td>\n",
       "      <td>1.00</td>\n",
       "      <td>-0.01</td>\n",
       "      <td>-0.00</td>\n",
       "    </tr>\n",
       "    <tr>\n",
       "      <th>price</th>\n",
       "      <td>0.62</td>\n",
       "      <td>0.43</td>\n",
       "      <td>-0.04</td>\n",
       "      <td>0.01</td>\n",
       "      <td>-0.01</td>\n",
       "      <td>1.00</td>\n",
       "      <td>-0.03</td>\n",
       "    </tr>\n",
       "    <tr>\n",
       "      <th>interest_level</th>\n",
       "      <td>-0.02</td>\n",
       "      <td>0.03</td>\n",
       "      <td>-0.00</td>\n",
       "      <td>0.00</td>\n",
       "      <td>-0.00</td>\n",
       "      <td>-0.03</td>\n",
       "      <td>1.00</td>\n",
       "    </tr>\n",
       "  </tbody>\n",
       "</table>\n",
       "</div>"
      ],
      "text/plain": [
       "                bathrooms  bedrooms  features  latitude  longitude  price  \\\n",
       "bathrooms            1.00      0.53     -0.02      0.01      -0.00   0.62   \n",
       "bedrooms             0.53      1.00      0.01      0.02      -0.01   0.43   \n",
       "features            -0.02      0.01      1.00     -0.01       0.02  -0.04   \n",
       "latitude             0.01      0.02     -0.01      1.00      -0.97   0.01   \n",
       "longitude           -0.00     -0.01      0.02     -0.97       1.00  -0.01   \n",
       "price                0.62      0.43     -0.04      0.01      -0.01   1.00   \n",
       "interest_level      -0.02      0.03     -0.00      0.00      -0.00  -0.03   \n",
       "\n",
       "                interest_level  \n",
       "bathrooms                -0.02  \n",
       "bedrooms                  0.03  \n",
       "features                 -0.00  \n",
       "latitude                  0.00  \n",
       "longitude                -0.00  \n",
       "price                    -0.03  \n",
       "interest_level            1.00  "
      ]
     },
     "execution_count": 36,
     "metadata": {},
     "output_type": "execute_result"
    }
   ],
   "source": [
    "corr=round(df.corr(),2)\n",
    "corr"
   ]
  },
  {
   "cell_type": "code",
   "execution_count": 37,
   "id": "069f21e2",
   "metadata": {},
   "outputs": [
    {
     "data": {
      "text/html": [
       "<style type=\"text/css\">\n",
       "#T_0bfde_row0_col0, #T_0bfde_row1_col1, #T_0bfde_row2_col2, #T_0bfde_row3_col3, #T_0bfde_row4_col4, #T_0bfde_row5_col5, #T_0bfde_row6_col6 {\n",
       "  background-color: #fde725;\n",
       "  color: #000000;\n",
       "}\n",
       "#T_0bfde_row0_col1 {\n",
       "  background-color: #1f988b;\n",
       "  color: #f1f1f1;\n",
       "}\n",
       "#T_0bfde_row0_col2 {\n",
       "  background-color: #46075a;\n",
       "  color: #f1f1f1;\n",
       "}\n",
       "#T_0bfde_row0_col3, #T_0bfde_row5_col3 {\n",
       "  background-color: #21908d;\n",
       "  color: #f1f1f1;\n",
       "}\n",
       "#T_0bfde_row0_col4, #T_0bfde_row6_col3, #T_0bfde_row6_col4 {\n",
       "  background-color: #218f8d;\n",
       "  color: #f1f1f1;\n",
       "}\n",
       "#T_0bfde_row0_col5 {\n",
       "  background-color: #2ab07f;\n",
       "  color: #f1f1f1;\n",
       "}\n",
       "#T_0bfde_row0_col6, #T_0bfde_row6_col5 {\n",
       "  background-color: #450457;\n",
       "  color: #f1f1f1;\n",
       "}\n",
       "#T_0bfde_row1_col0 {\n",
       "  background-color: #1f9a8a;\n",
       "  color: #f1f1f1;\n",
       "}\n",
       "#T_0bfde_row1_col2, #T_0bfde_row3_col5 {\n",
       "  background-color: #471365;\n",
       "  color: #f1f1f1;\n",
       "}\n",
       "#T_0bfde_row1_col3, #T_0bfde_row2_col4 {\n",
       "  background-color: #21918c;\n",
       "  color: #f1f1f1;\n",
       "}\n",
       "#T_0bfde_row1_col4, #T_0bfde_row2_col3, #T_0bfde_row5_col4 {\n",
       "  background-color: #228d8d;\n",
       "  color: #f1f1f1;\n",
       "}\n",
       "#T_0bfde_row1_col5 {\n",
       "  background-color: #25848e;\n",
       "  color: #f1f1f1;\n",
       "}\n",
       "#T_0bfde_row1_col6, #T_0bfde_row4_col2 {\n",
       "  background-color: #481668;\n",
       "  color: #f1f1f1;\n",
       "}\n",
       "#T_0bfde_row2_col0, #T_0bfde_row2_col5, #T_0bfde_row3_col4, #T_0bfde_row4_col1, #T_0bfde_row4_col3, #T_0bfde_row5_col2, #T_0bfde_row5_col6, #T_0bfde_row6_col0 {\n",
       "  background-color: #440154;\n",
       "  color: #f1f1f1;\n",
       "}\n",
       "#T_0bfde_row2_col1, #T_0bfde_row4_col0 {\n",
       "  background-color: #46085c;\n",
       "  color: #f1f1f1;\n",
       "}\n",
       "#T_0bfde_row2_col6, #T_0bfde_row3_col0, #T_0bfde_row3_col1, #T_0bfde_row3_col2, #T_0bfde_row3_col6, #T_0bfde_row4_col5, #T_0bfde_row4_col6 {\n",
       "  background-color: #460b5e;\n",
       "  color: #f1f1f1;\n",
       "}\n",
       "#T_0bfde_row5_col0 {\n",
       "  background-color: #28ae80;\n",
       "  color: #f1f1f1;\n",
       "}\n",
       "#T_0bfde_row5_col1 {\n",
       "  background-color: #26818e;\n",
       "  color: #f1f1f1;\n",
       "}\n",
       "#T_0bfde_row6_col1 {\n",
       "  background-color: #471063;\n",
       "  color: #f1f1f1;\n",
       "}\n",
       "#T_0bfde_row6_col2 {\n",
       "  background-color: #470e61;\n",
       "  color: #f1f1f1;\n",
       "}\n",
       "</style>\n",
       "<table id=\"T_0bfde\">\n",
       "  <thead>\n",
       "    <tr>\n",
       "      <th class=\"blank level0\" >&nbsp;</th>\n",
       "      <th id=\"T_0bfde_level0_col0\" class=\"col_heading level0 col0\" >bathrooms</th>\n",
       "      <th id=\"T_0bfde_level0_col1\" class=\"col_heading level0 col1\" >bedrooms</th>\n",
       "      <th id=\"T_0bfde_level0_col2\" class=\"col_heading level0 col2\" >features</th>\n",
       "      <th id=\"T_0bfde_level0_col3\" class=\"col_heading level0 col3\" >latitude</th>\n",
       "      <th id=\"T_0bfde_level0_col4\" class=\"col_heading level0 col4\" >longitude</th>\n",
       "      <th id=\"T_0bfde_level0_col5\" class=\"col_heading level0 col5\" >price</th>\n",
       "      <th id=\"T_0bfde_level0_col6\" class=\"col_heading level0 col6\" >interest_level</th>\n",
       "    </tr>\n",
       "  </thead>\n",
       "  <tbody>\n",
       "    <tr>\n",
       "      <th id=\"T_0bfde_level0_row0\" class=\"row_heading level0 row0\" >bathrooms</th>\n",
       "      <td id=\"T_0bfde_row0_col0\" class=\"data row0 col0\" >1.000000</td>\n",
       "      <td id=\"T_0bfde_row0_col1\" class=\"data row0 col1\" >0.530000</td>\n",
       "      <td id=\"T_0bfde_row0_col2\" class=\"data row0 col2\" >-0.020000</td>\n",
       "      <td id=\"T_0bfde_row0_col3\" class=\"data row0 col3\" >0.010000</td>\n",
       "      <td id=\"T_0bfde_row0_col4\" class=\"data row0 col4\" >-0.000000</td>\n",
       "      <td id=\"T_0bfde_row0_col5\" class=\"data row0 col5\" >0.620000</td>\n",
       "      <td id=\"T_0bfde_row0_col6\" class=\"data row0 col6\" >-0.020000</td>\n",
       "    </tr>\n",
       "    <tr>\n",
       "      <th id=\"T_0bfde_level0_row1\" class=\"row_heading level0 row1\" >bedrooms</th>\n",
       "      <td id=\"T_0bfde_row1_col0\" class=\"data row1 col0\" >0.530000</td>\n",
       "      <td id=\"T_0bfde_row1_col1\" class=\"data row1 col1\" >1.000000</td>\n",
       "      <td id=\"T_0bfde_row1_col2\" class=\"data row1 col2\" >0.010000</td>\n",
       "      <td id=\"T_0bfde_row1_col3\" class=\"data row1 col3\" >0.020000</td>\n",
       "      <td id=\"T_0bfde_row1_col4\" class=\"data row1 col4\" >-0.010000</td>\n",
       "      <td id=\"T_0bfde_row1_col5\" class=\"data row1 col5\" >0.430000</td>\n",
       "      <td id=\"T_0bfde_row1_col6\" class=\"data row1 col6\" >0.030000</td>\n",
       "    </tr>\n",
       "    <tr>\n",
       "      <th id=\"T_0bfde_level0_row2\" class=\"row_heading level0 row2\" >features</th>\n",
       "      <td id=\"T_0bfde_row2_col0\" class=\"data row2 col0\" >-0.020000</td>\n",
       "      <td id=\"T_0bfde_row2_col1\" class=\"data row2 col1\" >0.010000</td>\n",
       "      <td id=\"T_0bfde_row2_col2\" class=\"data row2 col2\" >1.000000</td>\n",
       "      <td id=\"T_0bfde_row2_col3\" class=\"data row2 col3\" >-0.010000</td>\n",
       "      <td id=\"T_0bfde_row2_col4\" class=\"data row2 col4\" >0.020000</td>\n",
       "      <td id=\"T_0bfde_row2_col5\" class=\"data row2 col5\" >-0.040000</td>\n",
       "      <td id=\"T_0bfde_row2_col6\" class=\"data row2 col6\" >-0.000000</td>\n",
       "    </tr>\n",
       "    <tr>\n",
       "      <th id=\"T_0bfde_level0_row3\" class=\"row_heading level0 row3\" >latitude</th>\n",
       "      <td id=\"T_0bfde_row3_col0\" class=\"data row3 col0\" >0.010000</td>\n",
       "      <td id=\"T_0bfde_row3_col1\" class=\"data row3 col1\" >0.020000</td>\n",
       "      <td id=\"T_0bfde_row3_col2\" class=\"data row3 col2\" >-0.010000</td>\n",
       "      <td id=\"T_0bfde_row3_col3\" class=\"data row3 col3\" >1.000000</td>\n",
       "      <td id=\"T_0bfde_row3_col4\" class=\"data row3 col4\" >-0.970000</td>\n",
       "      <td id=\"T_0bfde_row3_col5\" class=\"data row3 col5\" >0.010000</td>\n",
       "      <td id=\"T_0bfde_row3_col6\" class=\"data row3 col6\" >0.000000</td>\n",
       "    </tr>\n",
       "    <tr>\n",
       "      <th id=\"T_0bfde_level0_row4\" class=\"row_heading level0 row4\" >longitude</th>\n",
       "      <td id=\"T_0bfde_row4_col0\" class=\"data row4 col0\" >-0.000000</td>\n",
       "      <td id=\"T_0bfde_row4_col1\" class=\"data row4 col1\" >-0.010000</td>\n",
       "      <td id=\"T_0bfde_row4_col2\" class=\"data row4 col2\" >0.020000</td>\n",
       "      <td id=\"T_0bfde_row4_col3\" class=\"data row4 col3\" >-0.970000</td>\n",
       "      <td id=\"T_0bfde_row4_col4\" class=\"data row4 col4\" >1.000000</td>\n",
       "      <td id=\"T_0bfde_row4_col5\" class=\"data row4 col5\" >-0.010000</td>\n",
       "      <td id=\"T_0bfde_row4_col6\" class=\"data row4 col6\" >-0.000000</td>\n",
       "    </tr>\n",
       "    <tr>\n",
       "      <th id=\"T_0bfde_level0_row5\" class=\"row_heading level0 row5\" >price</th>\n",
       "      <td id=\"T_0bfde_row5_col0\" class=\"data row5 col0\" >0.620000</td>\n",
       "      <td id=\"T_0bfde_row5_col1\" class=\"data row5 col1\" >0.430000</td>\n",
       "      <td id=\"T_0bfde_row5_col2\" class=\"data row5 col2\" >-0.040000</td>\n",
       "      <td id=\"T_0bfde_row5_col3\" class=\"data row5 col3\" >0.010000</td>\n",
       "      <td id=\"T_0bfde_row5_col4\" class=\"data row5 col4\" >-0.010000</td>\n",
       "      <td id=\"T_0bfde_row5_col5\" class=\"data row5 col5\" >1.000000</td>\n",
       "      <td id=\"T_0bfde_row5_col6\" class=\"data row5 col6\" >-0.030000</td>\n",
       "    </tr>\n",
       "    <tr>\n",
       "      <th id=\"T_0bfde_level0_row6\" class=\"row_heading level0 row6\" >interest_level</th>\n",
       "      <td id=\"T_0bfde_row6_col0\" class=\"data row6 col0\" >-0.020000</td>\n",
       "      <td id=\"T_0bfde_row6_col1\" class=\"data row6 col1\" >0.030000</td>\n",
       "      <td id=\"T_0bfde_row6_col2\" class=\"data row6 col2\" >-0.000000</td>\n",
       "      <td id=\"T_0bfde_row6_col3\" class=\"data row6 col3\" >0.000000</td>\n",
       "      <td id=\"T_0bfde_row6_col4\" class=\"data row6 col4\" >-0.000000</td>\n",
       "      <td id=\"T_0bfde_row6_col5\" class=\"data row6 col5\" >-0.030000</td>\n",
       "      <td id=\"T_0bfde_row6_col6\" class=\"data row6 col6\" >1.000000</td>\n",
       "    </tr>\n",
       "  </tbody>\n",
       "</table>\n"
      ],
      "text/plain": [
       "<pandas.io.formats.style.Styler at 0x1c20fe0f970>"
      ]
     },
     "execution_count": 37,
     "metadata": {},
     "output_type": "execute_result"
    }
   ],
   "source": [
    "corr.style.background_gradient(cmap='viridis')"
   ]
  },
  {
   "cell_type": "code",
   "execution_count": 38,
   "id": "20936dd6",
   "metadata": {},
   "outputs": [],
   "source": [
    "from sklearn.model_selection import train_test_split\n",
    "x_train,x_test,y_train,y_test=train_test_split(x,y,test_size=.30)"
   ]
  },
  {
   "cell_type": "markdown",
   "id": "1ca0a073",
   "metadata": {},
   "source": [
    "# 5.Model Building"
   ]
  },
  {
   "cell_type": "code",
   "execution_count": 53,
   "id": "44b27d17",
   "metadata": {},
   "outputs": [],
   "source": [
    "from sklearn.linear_model import LogisticRegression\n",
    "from sklearn.tree import DecisionTreeClassifier\n",
    "from sklearn.ensemble import RandomForestClassifier\n",
    "from sklearn.ensemble import AdaBoostClassifier\n",
    "from sklearn.naive_bayes import GaussianNB\n",
    "from sklearn.ensemble import StackingClassifier\n",
    "\n",
    "from sklearn.model_selection import cross_val_score,KFold,RepeatedStratifiedKFold,StratifiedKFold"
   ]
  },
  {
   "cell_type": "code",
   "execution_count": 54,
   "id": "5cb8eac5",
   "metadata": {},
   "outputs": [],
   "source": [
    "def get_stacking():\n",
    "    lbl=[]\n",
    "    lbl.append(('NB',GaussianNB()))\n",
    "    lbl.append(('DT',DecisionTreeClassifier()))\n",
    "    lbl.append(('RF',RandomForestClassifier()))\n",
    "    lbl.append(('Ada',AdaBoostClassifier()))\n",
    "    \n",
    "    l1=LogisticRegression()\n",
    "        \n",
    "    model=StackingClassifier(estimators=lbl,final_estimator=l1,cv=5)\n",
    "    return model"
   ]
  },
  {
   "cell_type": "code",
   "execution_count": 51,
   "id": "d61e932b",
   "metadata": {},
   "outputs": [],
   "source": [
    "model_log=LogisticRegression()\n",
    "model_tree=DecisionTreeClassifier()\n",
    "model_random=RandomForestClassifier()\n",
    "model_ADA=AdaBoostClassifier()"
   ]
  },
  {
   "cell_type": "code",
   "execution_count": 55,
   "id": "24742b88",
   "metadata": {},
   "outputs": [],
   "source": [
    "model=get_stacking()"
   ]
  },
  {
   "cell_type": "code",
   "execution_count": 56,
   "id": "3cdc1035",
   "metadata": {},
   "outputs": [
    {
     "data": {
      "text/plain": [
       "StackingClassifier(cv=5,\n",
       "                   estimators=[('NB', GaussianNB()),\n",
       "                               ('DT', DecisionTreeClassifier()),\n",
       "                               ('RF', RandomForestClassifier()),\n",
       "                               ('Ada', AdaBoostClassifier())],\n",
       "                   final_estimator=LogisticRegression())"
      ]
     },
     "execution_count": 56,
     "metadata": {},
     "output_type": "execute_result"
    }
   ],
   "source": [
    "model"
   ]
  },
  {
   "cell_type": "markdown",
   "id": "edc94a94",
   "metadata": {},
   "source": [
    "# 6.Compare different ensemble models"
   ]
  },
  {
   "cell_type": "markdown",
   "id": "bea471f9",
   "metadata": {},
   "source": [
    "# Random forest with ensamble"
   ]
  },
  {
   "cell_type": "code",
   "execution_count": 43,
   "id": "92e92345",
   "metadata": {},
   "outputs": [],
   "source": [
    "from sklearn.ensemble import RandomForestClassifier"
   ]
  },
  {
   "cell_type": "code",
   "execution_count": 48,
   "id": "2b2cd4d3",
   "metadata": {},
   "outputs": [
    {
     "data": {
      "text/plain": [
       "array([0.69331984, 0.69503546, 0.70111449, 0.68693009, 0.70212766,\n",
       "       0.71631206, 0.69604863, 0.6970618 , 0.69908815, 0.69604863,\n",
       "       0.70748988, 0.69402229, 0.68794326, 0.69199595, 0.6970618 ,\n",
       "       0.6899696 , 0.70010132, 0.69908815, 0.68895643, 0.70314083,\n",
       "       0.70647773, 0.71225937, 0.69807497, 0.6899696 , 0.67983789,\n",
       "       0.69503546, 0.69098278, 0.70921986, 0.70618034, 0.71225937])"
      ]
     },
     "execution_count": 48,
     "metadata": {},
     "output_type": "execute_result"
    }
   ],
   "source": [
    "rf=RandomForestClassifier()\n",
    "cv=RepeatedStratifiedKFold(n_splits=10,n_repeats=3,random_state=42)\n",
    "score=cross_val_score(rf,x,y,scoring='accuracy',cv=cv,n_jobs=-1)\n",
    "score"
   ]
  },
  {
   "cell_type": "code",
   "execution_count": 49,
   "id": "a62a4e25",
   "metadata": {},
   "outputs": [
    {
     "data": {
      "text/plain": [
       "0.6981051236930296"
      ]
     },
     "execution_count": 49,
     "metadata": {},
     "output_type": "execute_result"
    }
   ],
   "source": [
    "score.mean()"
   ]
  },
  {
   "cell_type": "code",
   "execution_count": 58,
   "id": "4934f511",
   "metadata": {},
   "outputs": [],
   "source": [
    "models=[model_log,model_tree,model_random,model_ADA,model]\n",
    "L,T,R,A,S=[],[],[],[],[]\n",
    "splits=[2,4,5,6,7,8,9,10]\n",
    "for i in splits:\n",
    "    cv=RepeatedStratifiedKFold(n_splits=10,n_repeats=3,random_state=8)\n",
    "    for j in models:\n",
    "        score=cross_val_score(j,x,y,scoring='accuracy',cv=cv,n_jobs=-1)\n",
    "        if j==model_log:\n",
    "            L.append(score.mean())\n",
    "        elif j==model_tree:\n",
    "            T.append(score.mean())\n",
    "        elif j==model_random:\n",
    "            R.append(score.mean())\n",
    "        elif j==model_ADA:\n",
    "            A.append(score.mean())\n",
    "        elif j==model:\n",
    "            S.append(score.mean())\n"
   ]
  },
  {
   "cell_type": "code",
   "execution_count": 1,
   "id": "f13a9305",
   "metadata": {},
   "outputs": [
    {
     "ename": "NameError",
     "evalue": "name 'L' is not defined",
     "output_type": "error",
     "traceback": [
      "\u001b[1;31m---------------------------------------------------------------------------\u001b[0m",
      "\u001b[1;31mNameError\u001b[0m                                 Traceback (most recent call last)",
      "Cell \u001b[1;32mIn[1], line 1\u001b[0m\n\u001b[1;32m----> 1\u001b[0m \u001b[38;5;28mprint\u001b[39m(\u001b[43mL\u001b[49m,T,R,A,S)\n",
      "\u001b[1;31mNameError\u001b[0m: name 'L' is not defined"
     ]
    }
   ],
   "source": [
    "print(L,T,R,A,S)"
   ]
  },
  {
   "cell_type": "code",
   "execution_count": 64,
   "id": "b264823c",
   "metadata": {},
   "outputs": [
    {
     "data": {
      "text/html": [
       "<div>\n",
       "<style scoped>\n",
       "    .dataframe tbody tr th:only-of-type {\n",
       "        vertical-align: middle;\n",
       "    }\n",
       "\n",
       "    .dataframe tbody tr th {\n",
       "        vertical-align: top;\n",
       "    }\n",
       "\n",
       "    .dataframe thead th {\n",
       "        text-align: right;\n",
       "    }\n",
       "</style>\n",
       "<table border=\"1\" class=\"dataframe\">\n",
       "  <thead>\n",
       "    <tr style=\"text-align: right;\">\n",
       "      <th></th>\n",
       "      <th>n_splits</th>\n",
       "      <th>Linear Regression</th>\n",
       "      <th>Random Forest</th>\n",
       "      <th>Ada boost</th>\n",
       "    </tr>\n",
       "  </thead>\n",
       "  <tbody>\n",
       "    <tr>\n",
       "      <th>0</th>\n",
       "      <td>2</td>\n",
       "      <td>0.691858</td>\n",
       "      <td>0.700131</td>\n",
       "      <td>0.706919</td>\n",
       "    </tr>\n",
       "    <tr>\n",
       "      <th>1</th>\n",
       "      <td>4</td>\n",
       "      <td>0.691858</td>\n",
       "      <td>0.698611</td>\n",
       "      <td>0.706919</td>\n",
       "    </tr>\n",
       "    <tr>\n",
       "      <th>2</th>\n",
       "      <td>5</td>\n",
       "      <td>0.691858</td>\n",
       "      <td>0.698882</td>\n",
       "      <td>0.706953</td>\n",
       "    </tr>\n",
       "    <tr>\n",
       "      <th>3</th>\n",
       "      <td>6</td>\n",
       "      <td>0.691858</td>\n",
       "      <td>0.699119</td>\n",
       "      <td>0.706919</td>\n",
       "    </tr>\n",
       "    <tr>\n",
       "      <th>4</th>\n",
       "      <td>7</td>\n",
       "      <td>0.691858</td>\n",
       "      <td>0.698307</td>\n",
       "      <td>0.706919</td>\n",
       "    </tr>\n",
       "    <tr>\n",
       "      <th>5</th>\n",
       "      <td>8</td>\n",
       "      <td>0.691858</td>\n",
       "      <td>0.700503</td>\n",
       "      <td>0.706919</td>\n",
       "    </tr>\n",
       "    <tr>\n",
       "      <th>6</th>\n",
       "      <td>9</td>\n",
       "      <td>0.691858</td>\n",
       "      <td>0.698274</td>\n",
       "      <td>0.706919</td>\n",
       "    </tr>\n",
       "    <tr>\n",
       "      <th>7</th>\n",
       "      <td>10</td>\n",
       "      <td>0.691858</td>\n",
       "      <td>0.698442</td>\n",
       "      <td>0.706953</td>\n",
       "    </tr>\n",
       "  </tbody>\n",
       "</table>\n",
       "</div>"
      ],
      "text/plain": [
       "   n_splits  Linear Regression  Random Forest  Ada boost\n",
       "0         2           0.691858       0.700131   0.706919\n",
       "1         4           0.691858       0.698611   0.706919\n",
       "2         5           0.691858       0.698882   0.706953\n",
       "3         6           0.691858       0.699119   0.706919\n",
       "4         7           0.691858       0.698307   0.706919\n",
       "5         8           0.691858       0.700503   0.706919\n",
       "6         9           0.691858       0.698274   0.706919\n",
       "7        10           0.691858       0.698442   0.706953"
      ]
     },
     "execution_count": 64,
     "metadata": {},
     "output_type": "execute_result"
    }
   ],
   "source": [
    "pd.DataFrame({'n_splits':splits,'Linear Regression':L,'Random Forest':R,'Ada boost':A},index=list(range(len(splits))))"
   ]
  },
  {
   "cell_type": "code",
   "execution_count": null,
   "id": "0b82be5c",
   "metadata": {},
   "outputs": [],
   "source": [
    "plt.boxplot(acc,labels=name,showmeans=True)\n",
    "plt.show()"
   ]
  },
  {
   "cell_type": "code",
   "execution_count": null,
   "id": "34a9144a",
   "metadata": {},
   "outputs": [],
   "source": []
  },
  {
   "cell_type": "code",
   "execution_count": null,
   "id": "1724e269",
   "metadata": {},
   "outputs": [],
   "source": []
  }
 ],
 "metadata": {
  "kernelspec": {
   "display_name": "Python 3 (ipykernel)",
   "language": "python",
   "name": "python3"
  },
  "language_info": {
   "codemirror_mode": {
    "name": "ipython",
    "version": 3
   },
   "file_extension": ".py",
   "mimetype": "text/x-python",
   "name": "python",
   "nbconvert_exporter": "python",
   "pygments_lexer": "ipython3",
   "version": "3.10.9"
  }
 },
 "nbformat": 4,
 "nbformat_minor": 5
}
