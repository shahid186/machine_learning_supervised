{
 "cells": [
  {
   "cell_type": "code",
   "execution_count": 1,
   "id": "b623146e",
   "metadata": {},
   "outputs": [],
   "source": [
    "import pandas as pd\n",
    "import numpy as np\n",
    "import matplotlib.pyplot as plt\n",
    "import seaborn as sb\n",
    "from sklearn import preprocessing\n",
    "from sklearn.preprocessing import MinMaxScaler, StandardScaler\n",
    "from sklearn.model_selection import train_test_split\n",
    "from sklearn.linear_model import LinearRegression\n",
    "from sklearn.metrics import mean_absolute_error,mean_squared_error\n",
    "import sklearn.datasets\n",
    "\n",
    "import warnings\n",
    "warnings.filterwarnings('ignore')"
   ]
  },
  {
   "cell_type": "code",
   "execution_count": 12,
   "id": "b736bab1",
   "metadata": {},
   "outputs": [],
   "source": [
    "import numpy as np\n",
    "import pandas as pd\n",
    "import matplotlib.pyplot as plt\n",
    "from sklearn.preprocessing import MinMaxScaler\n",
    "from sklearn.preprocessing import LabelEncoder\n",
    "from sklearn.model_selection import train_test_split\n",
    "from sklearn.linear_model import LinearRegression\n",
    "from sklearn.linear_model import LogisticRegression\n",
    "from sklearn.metrics import mean_absolute_error,mean_squared_error"
   ]
  },
  {
   "cell_type": "code",
   "execution_count": null,
   "id": "2d3dc1fe",
   "metadata": {},
   "outputs": [],
   "source": []
  },
  {
   "cell_type": "code",
   "execution_count": null,
   "id": "0bdcc6f6",
   "metadata": {},
   "outputs": [],
   "source": []
  },
  {
   "cell_type": "code",
   "execution_count": 13,
   "id": "a4b3a7c2",
   "metadata": {},
   "outputs": [],
   "source": [
    "from sklearn.model_selection import train_test_split\n",
    "from sklearn.preprocessing import MinMaxScaler,StandardScaler\n",
    "from sklearn.linear_model import LinearRegression\n",
    "from sklearn.metrics  import mean_absolute_error,mean_squared_error\n",
    "import sklearn.datasets\n"
   ]
  },
  {
   "cell_type": "code",
   "execution_count": null,
   "id": "5e9496c8",
   "metadata": {},
   "outputs": [],
   "source": []
  },
  {
   "cell_type": "code",
   "execution_count": 24,
   "id": "1755374e",
   "metadata": {},
   "outputs": [],
   "source": [
    "from sklearn.model_selection import train_test_split\n",
    "from sklearn.preprocessing import MinMaxScaler,StandardScaler\n",
    "from sklearn.linear_model import LinearRegression\n",
    "from sklearn.metrics import mean_absolute_error ,mean_squared_error\n",
    "import sklearn.datasets"
   ]
  },
  {
   "cell_type": "code",
   "execution_count": null,
   "id": "eb8cdea7",
   "metadata": {},
   "outputs": [],
   "source": []
  },
  {
   "cell_type": "code",
   "execution_count": null,
   "id": "87ef50e4",
   "metadata": {},
   "outputs": [],
   "source": []
  },
  {
   "cell_type": "code",
   "execution_count": null,
   "id": "7009feb1",
   "metadata": {},
   "outputs": [],
   "source": []
  },
  {
   "cell_type": "code",
   "execution_count": 4,
   "id": "387c6bf8",
   "metadata": {},
   "outputs": [
    {
     "data": {
      "text/plain": [
       "'20:24:42'"
      ]
     },
     "execution_count": 4,
     "metadata": {},
     "output_type": "execute_result"
    }
   ],
   "source": [
    "import time\n",
    "time=time.strftime(\"%H:%M:%S\")\n"
   ]
  },
  {
   "cell_type": "code",
   "execution_count": 8,
   "id": "1dfc6bf8",
   "metadata": {},
   "outputs": [
    {
     "data": {
      "text/plain": [
       "'20:24:42'"
      ]
     },
     "execution_count": 8,
     "metadata": {},
     "output_type": "execute_result"
    }
   ],
   "source": [
    "time"
   ]
  },
  {
   "cell_type": "code",
   "execution_count": 15,
   "id": "ae3c5849",
   "metadata": {},
   "outputs": [],
   "source": [
    "import time"
   ]
  },
  {
   "cell_type": "markdown",
   "id": "438a04eb",
   "metadata": {},
   "source": [
    "# Task 1"
   ]
  },
  {
   "cell_type": "markdown",
   "id": "1d5e20f8",
   "metadata": {},
   "source": [
    "1.1: Generate a random regression problem \n",
    "1.2: Generate a dataset with make_regression using noise=4, bias=100, one input variable and 100 sample point.')"
   ]
  },
  {
   "cell_type": "code",
   "execution_count": 13,
   "id": "3b815cc7",
   "metadata": {},
   "outputs": [
    {
     "data": {
      "text/plain": [
       "array([[ 91.08715448],\n",
       "       [ 48.14179724],\n",
       "       [ 29.54284514],\n",
       "       [139.99312695],\n",
       "       [ 32.00635726],\n",
       "       [100.8485129 ],\n",
       "       [103.74812491],\n",
       "       [157.30302193],\n",
       "       [ 31.71121092],\n",
       "       [ 71.64881378],\n",
       "       [ 93.57709509],\n",
       "       [127.47436602],\n",
       "       [107.47884147],\n",
       "       [112.11113854],\n",
       "       [133.85782286],\n",
       "       [ 96.9419024 ],\n",
       "       [ 80.33927464],\n",
       "       [ 76.50903376],\n",
       "       [120.48319583],\n",
       "       [129.71085134],\n",
       "       [ 43.14152976],\n",
       "       [ 89.42715467],\n",
       "       [137.47239093],\n",
       "       [ 79.09677306],\n",
       "       [ 85.65006488],\n",
       "       [118.58101459],\n",
       "       [ 99.16985232],\n",
       "       [118.84725994],\n",
       "       [ 98.16735342],\n",
       "       [118.59620584],\n",
       "       [105.42509756],\n",
       "       [156.84964863],\n",
       "       [ 34.78934126],\n",
       "       [ 64.45806969],\n",
       "       [ 48.95754599],\n",
       "       [116.68465248],\n",
       "       [ 69.76284994],\n",
       "       [ 76.79565591],\n",
       "       [ 63.48685334],\n",
       "       [119.11122473],\n",
       "       [ 68.73683924],\n",
       "       [157.16273278],\n",
       "       [ 67.02502751],\n",
       "       [ 61.54974104],\n",
       "       [ 78.15417988],\n",
       "       [ 99.10551247],\n",
       "       [ 98.74931449],\n",
       "       [131.14460807],\n",
       "       [158.7587892 ],\n",
       "       [104.92261948],\n",
       "       [ 33.90011113],\n",
       "       [144.95943393],\n",
       "       [136.36052848],\n",
       "       [ 50.3357493 ],\n",
       "       [ 37.43046899],\n",
       "       [ 36.88136626],\n",
       "       [148.22569738],\n",
       "       [ 24.26289108],\n",
       "       [152.01515091],\n",
       "       [ 43.55197851],\n",
       "       [178.64390951],\n",
       "       [114.06368055],\n",
       "       [ 71.14060576],\n",
       "       [ 82.05604124],\n",
       "       [134.26016943],\n",
       "       [148.78190907],\n",
       "       [ 78.14948002],\n",
       "       [ 56.51125731],\n",
       "       [ 62.58661713],\n",
       "       [125.7499525 ],\n",
       "       [100.50331827],\n",
       "       [113.39935516],\n",
       "       [116.49418501],\n",
       "       [119.33707383],\n",
       "       [ 85.18994064],\n",
       "       [ 63.68940824],\n",
       "       [ 99.04976371],\n",
       "       [142.991549  ],\n",
       "       [134.99238885],\n",
       "       [ 97.08674095],\n",
       "       [ 49.52118294],\n",
       "       [125.3417085 ],\n",
       "       [158.61057893],\n",
       "       [126.55724013],\n",
       "       [ 64.65612515],\n",
       "       [ 52.08502955],\n",
       "       [123.80034068],\n",
       "       [ 77.13248387],\n",
       "       [ 67.62410411],\n",
       "       [ 47.95841981],\n",
       "       [ 36.71165356],\n",
       "       [ 77.26419653],\n",
       "       [ 84.4418659 ],\n",
       "       [ 89.36643681],\n",
       "       [178.2292705 ],\n",
       "       [111.39964269],\n",
       "       [178.82840845],\n",
       "       [ -2.07472757],\n",
       "       [130.59728146],\n",
       "       [102.33492697]])"
      ]
     },
     "execution_count": 13,
     "metadata": {},
     "output_type": "execute_result"
    }
   ],
   "source": [
    "x,y=sklearn.datasets.make_regression(n_samples=100, n_features=1, n_targets=1, bias=100, noise=4, shuffle=True, random_state=100)\n",
    "x.reshape(-1,1)\n",
    "y.reshape(-1,1)"
   ]
  },
  {
   "cell_type": "code",
   "execution_count": 26,
   "id": "e1d4e53e",
   "metadata": {},
   "outputs": [],
   "source": [
    "x,y=sklearn.datasets.make_regression(n_samples=100,n_features=1,n_targets=1,bias=100,noise=4,shuffle=True,random_state=100)"
   ]
  },
  {
   "cell_type": "code",
   "execution_count": 4,
   "id": "7f525a84",
   "metadata": {},
   "outputs": [
    {
     "ename": "SyntaxError",
     "evalue": "illegal target for annotation (322643002.py, line 1)",
     "output_type": "error",
     "traceback": [
      "\u001b[1;36m  Cell \u001b[1;32mIn[4], line 1\u001b[1;36m\u001b[0m\n\u001b[1;33m    1.3: Visualise the toy data set as scatter plot.\u001b[0m\n\u001b[1;37m    ^\u001b[0m\n\u001b[1;31mSyntaxError\u001b[0m\u001b[1;31m:\u001b[0m illegal target for annotation\n"
     ]
    }
   ],
   "source": [
    "1.3: Visualise the toy data set as scatter plot."
   ]
  },
  {
   "cell_type": "code",
   "execution_count": 27,
   "id": "6a86cddb",
   "metadata": {},
   "outputs": [
    {
     "data": {
      "text/plain": [
       "<matplotlib.collections.PathCollection at 0x1d03aba9bd0>"
      ]
     },
     "execution_count": 27,
     "metadata": {},
     "output_type": "execute_result"
    },
    {
     "data": {
      "image/png": "[encoded data removed]",
      "text/plain": [
       "<Figure size 640x480 with 1 Axes>"
      ]
     },
     "metadata": {},
     "output_type": "display_data"
    }
   ],
   "source": [
    "plt.scatter(x,y)"
   ]
  },
  {
   "cell_type": "code",
   "execution_count": 95,
   "id": "a94bc171",
   "metadata": {},
   "outputs": [
    {
     "data": {
      "text/plain": [
       "<matplotlib.collections.PathCollection at 0x28aa966b0d0>"
      ]
     },
     "execution_count": 95,
     "metadata": {},
     "output_type": "execute_result"
    },
    {
     "data": {
      "image/png": "[encoded data removed]",
      "text/plain": [
       "<Figure size 640x480 with 1 Axes>"
      ]
     },
     "metadata": {},
     "output_type": "display_data"
    }
   ],
   "source": [
    "plt.scatter(x,y)"
   ]
  },
  {
   "cell_type": "code",
   "execution_count": null,
   "id": "6ca24d9b",
   "metadata": {},
   "outputs": [],
   "source": []
  },
  {
   "cell_type": "code",
   "execution_count": 6,
   "id": "fb620dd4",
   "metadata": {},
   "outputs": [
    {
     "data": {
      "text/plain": [
       "<matplotlib.collections.PathCollection at 0x28a9c5bb940>"
      ]
     },
     "execution_count": 6,
     "metadata": {},
     "output_type": "execute_result"
    },
    {
     "data": {
      "image/png": "[encoded data removed]",
      "text/plain": [
       "<Figure size 640x480 with 1 Axes>"
      ]
     },
     "metadata": {},
     "output_type": "display_data"
    }
   ],
   "source": [
    "plt.scatter(x,y)"
   ]
  },
  {
   "cell_type": "code",
   "execution_count": 9,
   "id": "243c9c34",
   "metadata": {},
   "outputs": [],
   "source": [
    "from sklearn.model_selection import train_test_split"
   ]
  },
  {
   "cell_type": "code",
   "execution_count": 6,
   "id": "8d4cca1b",
   "metadata": {},
   "outputs": [],
   "source": [
    "from sklearn.model_selection import train_test_split"
   ]
  },
  {
   "cell_type": "code",
   "execution_count": null,
   "id": "69702767",
   "metadata": {},
   "outputs": [],
   "source": [
    "from  sklearn.model_selection import train_test_split"
   ]
  },
  {
   "cell_type": "code",
   "execution_count": 3,
   "id": "38c61f8b",
   "metadata": {},
   "outputs": [],
   "source": [
    "from sklearn.model_selection import train_test_split"
   ]
  },
  {
   "cell_type": "code",
   "execution_count": 4,
   "id": "ed4a9e7a",
   "metadata": {},
   "outputs": [],
   "source": [
    "from sklearn.model_selection import train_test_split"
   ]
  },
  {
   "cell_type": "code",
   "execution_count": 2,
   "id": "d820f4d1",
   "metadata": {},
   "outputs": [],
   "source": [
    "from sklearn.model_selection import train_test_split"
   ]
  },
  {
   "cell_type": "code",
   "execution_count": 28,
   "id": "52a61a7e",
   "metadata": {},
   "outputs": [],
   "source": [
    "from sklearn.model_selection import train_test_split"
   ]
  },
  {
   "cell_type": "code",
   "execution_count": 15,
   "id": "af361d6d",
   "metadata": {},
   "outputs": [],
   "source": [
    "x_train,x_test,y_train,y_test =train_test_split(x,y,test_size=.3, random_state=200)"
   ]
  },
  {
   "cell_type": "code",
   "execution_count": 31,
   "id": "d46b19d6",
   "metadata": {},
   "outputs": [],
   "source": [
    "x_train,x_test,y_train,y_test=train_test_split(x,y,test_size=.3,random_state=100)"
   ]
  },
  {
   "cell_type": "code",
   "execution_count": null,
   "id": "b2bdd6e3",
   "metadata": {},
   "outputs": [],
   "source": [
    "x_train,x_test,y_train,y_test=train_test_split(x,y,test_size=.3,random_state=2)"
   ]
  },
  {
   "cell_type": "code",
   "execution_count": 4,
   "id": "e395d385",
   "metadata": {},
   "outputs": [],
   "source": [
    "x_train,x_rest,y_train,y_test=train_test_split(x,y,test_size=.3,random_state=100)"
   ]
  },
  {
   "cell_type": "code",
   "execution_count": 5,
   "id": "2b501263",
   "metadata": {},
   "outputs": [],
   "source": [
    "x_train,x_test,y_train,y_test=train_test_split(x,y,test_size=.3,random_state=100)"
   ]
  },
  {
   "cell_type": "code",
   "execution_count": null,
   "id": "196ef4d1",
   "metadata": {},
   "outputs": [],
   "source": []
  },
  {
   "cell_type": "code",
   "execution_count": null,
   "id": "c86f9d6f",
   "metadata": {},
   "outputs": [],
   "source": []
  },
  {
   "cell_type": "code",
   "execution_count": null,
   "id": "798bc61d",
   "metadata": {},
   "outputs": [],
   "source": []
  },
  {
   "cell_type": "code",
   "execution_count": 123,
   "id": "017c572b",
   "metadata": {},
   "outputs": [],
   "source": [
    "from sklearn.model_selection import train_test_split"
   ]
  },
  {
   "cell_type": "code",
   "execution_count": 124,
   "id": "5e6046a4",
   "metadata": {},
   "outputs": [],
   "source": [
    "x_train,x_test,y_train,y_test=train_test_split(x,y,test_size=.3,random_state=100)"
   ]
  },
  {
   "cell_type": "code",
   "execution_count": 81,
   "id": "e6f5d1f2",
   "metadata": {},
   "outputs": [],
   "source": [
    "from sklearn.model_selection import train_test_split"
   ]
  },
  {
   "cell_type": "code",
   "execution_count": 36,
   "id": "5de4425e",
   "metadata": {},
   "outputs": [],
   "source": [
    "from sklearn.model_selection import train_test_split"
   ]
  },
  {
   "cell_type": "code",
   "execution_count": 13,
   "id": "3d0fb726",
   "metadata": {},
   "outputs": [],
   "source": [
    "from sklearn.model_selection import train_test_split"
   ]
  },
  {
   "cell_type": "code",
   "execution_count": 96,
   "id": "d2874e2c",
   "metadata": {},
   "outputs": [],
   "source": [
    "from sklearn.model_selection import train_test_split"
   ]
  },
  {
   "cell_type": "code",
   "execution_count": 9,
   "id": "1af13c82",
   "metadata": {},
   "outputs": [],
   "source": [
    "x_train,x_test,y_train,y_test=train_test_split(x,y,test_size=.3,random_state=100)"
   ]
  },
  {
   "cell_type": "code",
   "execution_count": 87,
   "id": "74d2ad14",
   "metadata": {},
   "outputs": [],
   "source": [
    "x_train,x_test,y_train,y_test=train_test_split(x,y,test_size=.3,random_state=100)"
   ]
  },
  {
   "cell_type": "code",
   "execution_count": 91,
   "id": "ba7bba24",
   "metadata": {},
   "outputs": [],
   "source": [
    "x_train,x_test,y_rain,y_test=train_test_split(x,y,test_size=.3,random_state=100)"
   ]
  },
  {
   "cell_type": "code",
   "execution_count": 88,
   "id": "87d2b387",
   "metadata": {},
   "outputs": [],
   "source": [
    "x_train,x_test,y_train,y_test=train_test_split(x,y,test_size=.3,random_state=100)"
   ]
  },
  {
   "cell_type": "code",
   "execution_count": 10,
   "id": "01180686",
   "metadata": {},
   "outputs": [],
   "source": [
    "x_train,x_test,y_train,y_test=train_test_split(x,y,test_size=.3,random_state=100)"
   ]
  },
  {
   "cell_type": "code",
   "execution_count": 38,
   "id": "863fdfda",
   "metadata": {},
   "outputs": [
    {
     "data": {
      "text/plain": [
       "(100, 1)"
      ]
     },
     "execution_count": 38,
     "metadata": {},
     "output_type": "execute_result"
    }
   ],
   "source": [
    "x.shape"
   ]
  },
  {
   "cell_type": "code",
   "execution_count": 39,
   "id": "ecbc67a1",
   "metadata": {},
   "outputs": [
    {
     "data": {
      "text/plain": [
       "(100,)"
      ]
     },
     "execution_count": 39,
     "metadata": {},
     "output_type": "execute_result"
    }
   ],
   "source": [
    "y.shape"
   ]
  },
  {
   "cell_type": "code",
   "execution_count": 11,
   "id": "6c1f27be",
   "metadata": {},
   "outputs": [
    {
     "data": {
      "text/plain": [
       "(100, 1)"
      ]
     },
     "execution_count": 11,
     "metadata": {},
     "output_type": "execute_result"
    }
   ],
   "source": [
    "x.shape"
   ]
  },
  {
   "cell_type": "code",
   "execution_count": 14,
   "id": "1129596b",
   "metadata": {},
   "outputs": [
    {
     "data": {
      "text/plain": [
       "(100, 1)"
      ]
     },
     "execution_count": 14,
     "metadata": {},
     "output_type": "execute_result"
    }
   ],
   "source": [
    "x.shape"
   ]
  },
  {
   "cell_type": "code",
   "execution_count": 15,
   "id": "7a4e9e60",
   "metadata": {},
   "outputs": [
    {
     "data": {
      "text/plain": [
       "(100,)"
      ]
     },
     "execution_count": 15,
     "metadata": {},
     "output_type": "execute_result"
    }
   ],
   "source": [
    "y.shape"
   ]
  },
  {
   "cell_type": "code",
   "execution_count": null,
   "id": "981be7a2",
   "metadata": {},
   "outputs": [],
   "source": []
  },
  {
   "cell_type": "code",
   "execution_count": 12,
   "id": "af7e5054",
   "metadata": {},
   "outputs": [
    {
     "data": {
      "text/plain": [
       "(100,)"
      ]
     },
     "execution_count": 12,
     "metadata": {},
     "output_type": "execute_result"
    }
   ],
   "source": [
    "y.shape"
   ]
  },
  {
   "cell_type": "code",
   "execution_count": null,
   "id": "e70fd3d6",
   "metadata": {},
   "outputs": [],
   "source": []
  },
  {
   "cell_type": "markdown",
   "id": "698e6d2f",
   "metadata": {},
   "source": [
    "1.4: Fit the linear regression model to the dataset (line plot) and visualize it with the data."
   ]
  },
  {
   "cell_type": "code",
   "execution_count": 4,
   "id": "59941bda",
   "metadata": {},
   "outputs": [],
   "source": [
    "from sklearn.model_selection import train_test_split\n",
    "x_train,x_test,y_train,y_test=train_test_split(x,y,test_size=.3,random_state=100)"
   ]
  },
  {
   "cell_type": "code",
   "execution_count": null,
   "id": "aaa28e51",
   "metadata": {},
   "outputs": [],
   "source": [
    "l.score()"
   ]
  },
  {
   "cell_type": "code",
   "execution_count": 5,
   "id": "7c3c9cf3",
   "metadata": {},
   "outputs": [
    {
     "data": {
      "text/plain": [
       "(100, 1)"
      ]
     },
     "execution_count": 5,
     "metadata": {},
     "output_type": "execute_result"
    }
   ],
   "source": [
    "x.shape"
   ]
  },
  {
   "cell_type": "code",
   "execution_count": 6,
   "id": "45d2ae75",
   "metadata": {},
   "outputs": [
    {
     "data": {
      "text/plain": [
       "(100,)"
      ]
     },
     "execution_count": 6,
     "metadata": {},
     "output_type": "execute_result"
    }
   ],
   "source": [
    "y.shape"
   ]
  },
  {
   "cell_type": "code",
   "execution_count": 6,
   "id": "aa14b641",
   "metadata": {},
   "outputs": [
    {
     "ename": "ImportError",
     "evalue": "cannot import name 'LinerRegression' from 'sklearn.linear_model' (C:\\Users\\SHAHID\\anaconda3\\New folder\\lib\\site-packages\\sklearn\\linear_model\\__init__.py)",
     "output_type": "error",
     "traceback": [
      "\u001b[1;31m---------------------------------------------------------------------------\u001b[0m",
      "\u001b[1;31mImportError\u001b[0m                               Traceback (most recent call last)",
      "Cell \u001b[1;32mIn[6], line 1\u001b[0m\n\u001b[1;32m----> 1\u001b[0m \u001b[38;5;28;01mfrom\u001b[39;00m \u001b[38;5;21;01msklearn\u001b[39;00m\u001b[38;5;21;01m.\u001b[39;00m\u001b[38;5;21;01mlinear_model\u001b[39;00m \u001b[38;5;28;01mimport\u001b[39;00m LinerRegression\n",
      "\u001b[1;31mImportError\u001b[0m: cannot import name 'LinerRegression' from 'sklearn.linear_model' (C:\\Users\\SHAHID\\anaconda3\\New folder\\lib\\site-packages\\sklearn\\linear_model\\__init__.py)"
     ]
    }
   ],
   "source": [
    "from sklearn.linear_model import LinerRegression"
   ]
  },
  {
   "cell_type": "code",
   "execution_count": 7,
   "id": "df02fbea",
   "metadata": {},
   "outputs": [],
   "source": [
    "from sklearn.linear_model import LinearRegression"
   ]
  },
  {
   "cell_type": "code",
   "execution_count": null,
   "id": "efd40f01",
   "metadata": {},
   "outputs": [],
   "source": [
    "from sklearn.linear_model import LinearRegression"
   ]
  },
  {
   "cell_type": "code",
   "execution_count": 98,
   "id": "0ea1eacd",
   "metadata": {},
   "outputs": [],
   "source": [
    "from sklearn.linear_model import LinearRegression"
   ]
  },
  {
   "cell_type": "code",
   "execution_count": 125,
   "id": "c2301d2f",
   "metadata": {},
   "outputs": [],
   "source": [
    "from sklearn.linear_model import LinearRegression"
   ]
  },
  {
   "cell_type": "code",
   "execution_count": 7,
   "id": "51fba7ef",
   "metadata": {},
   "outputs": [],
   "source": [
    "from sklearn.linear_model import LinearRegression"
   ]
  },
  {
   "cell_type": "code",
   "execution_count": null,
   "id": "7379c071",
   "metadata": {},
   "outputs": [],
   "source": []
  },
  {
   "cell_type": "code",
   "execution_count": 33,
   "id": "5baecc10",
   "metadata": {},
   "outputs": [],
   "source": [
    "from sklearn.linear_model import LinearRegression"
   ]
  },
  {
   "cell_type": "code",
   "execution_count": 36,
   "id": "50fc5372",
   "metadata": {},
   "outputs": [],
   "source": [
    "b=LinearRegression().fit(x_train,y_train)"
   ]
  },
  {
   "cell_type": "code",
   "execution_count": 10,
   "id": "71c64f8b",
   "metadata": {},
   "outputs": [],
   "source": [
    "b=LinearRegression().fit(x_train,y_train)"
   ]
  },
  {
   "cell_type": "code",
   "execution_count": 8,
   "id": "5f6f2ae2",
   "metadata": {},
   "outputs": [],
   "source": [
    "l=LinearRegression().fit(x_train,y_train)"
   ]
  },
  {
   "cell_type": "code",
   "execution_count": 127,
   "id": "72e612ad",
   "metadata": {},
   "outputs": [],
   "source": [
    "l=LinearRegression().fit(x_train,y_train)"
   ]
  },
  {
   "cell_type": "code",
   "execution_count": 100,
   "id": "063dbd60",
   "metadata": {},
   "outputs": [],
   "source": [
    "l=LinearRegression().fit(x_train,y_train)"
   ]
  },
  {
   "cell_type": "code",
   "execution_count": 101,
   "id": "83c6eeea",
   "metadata": {},
   "outputs": [],
   "source": [
    "l=LinearRegression().fit(x_train,y_train)"
   ]
  },
  {
   "cell_type": "code",
   "execution_count": null,
   "id": "905631e1",
   "metadata": {},
   "outputs": [],
   "source": [
    "from sklearn.linear_model import Linear_Regression"
   ]
  },
  {
   "cell_type": "code",
   "execution_count": 41,
   "id": "3205c0f0",
   "metadata": {},
   "outputs": [],
   "source": [
    "from sklearn.linear_model import LinearRegression"
   ]
  },
  {
   "cell_type": "code",
   "execution_count": 16,
   "id": "50704bad",
   "metadata": {},
   "outputs": [],
   "source": [
    "from sklearn.linear_model import LinearRegression"
   ]
  },
  {
   "cell_type": "code",
   "execution_count": 17,
   "id": "37448dda",
   "metadata": {},
   "outputs": [],
   "source": [
    "from sklearn.linear_model import LinearRegression"
   ]
  },
  {
   "cell_type": "code",
   "execution_count": 21,
   "id": "2a26b3af",
   "metadata": {},
   "outputs": [],
   "source": [
    "from sklearn.linear_model import LinearRegression"
   ]
  },
  {
   "cell_type": "code",
   "execution_count": 37,
   "id": "bc470dfb",
   "metadata": {},
   "outputs": [],
   "source": [
    "from sklearn.linear_model import LinearRegression"
   ]
  },
  {
   "cell_type": "code",
   "execution_count": 50,
   "id": "f48f5012",
   "metadata": {},
   "outputs": [],
   "source": [
    "from sklearn.linear_model import LinearRegression"
   ]
  },
  {
   "cell_type": "code",
   "execution_count": 51,
   "id": "859fdda0",
   "metadata": {},
   "outputs": [],
   "source": [
    "n=LinearRegression().fit(x_train,y_train)"
   ]
  },
  {
   "cell_type": "code",
   "execution_count": 52,
   "id": "7bf05bbe",
   "metadata": {},
   "outputs": [],
   "source": [
    "l=LinearRegression().fit(x_train,y_train)"
   ]
  },
  {
   "cell_type": "code",
   "execution_count": 14,
   "id": "3fdf67e5",
   "metadata": {},
   "outputs": [],
   "source": [
    "b=LinearRegression().fit(x_train,y_train)"
   ]
  },
  {
   "cell_type": "code",
   "execution_count": 43,
   "id": "07eadeca",
   "metadata": {},
   "outputs": [],
   "source": [
    "pred=l.predict(x_test)"
   ]
  },
  {
   "cell_type": "code",
   "execution_count": 103,
   "id": "3be539a9",
   "metadata": {},
   "outputs": [],
   "source": [
    "l=LinearRegression().fit(x_train,y_train)"
   ]
  },
  {
   "cell_type": "code",
   "execution_count": 20,
   "id": "cbbb6b69",
   "metadata": {},
   "outputs": [],
   "source": [
    "l=LinearRegression().fit(x_train,y_train)"
   ]
  },
  {
   "cell_type": "code",
   "execution_count": null,
   "id": "30c105cf",
   "metadata": {},
   "outputs": [],
   "source": []
  },
  {
   "cell_type": "code",
   "execution_count": 10,
   "id": "c0cee080",
   "metadata": {},
   "outputs": [],
   "source": [
    "from sklearn.linear_model import LinearRegression\n",
    "LR=LinearRegression().fit(x_train, y_train)"
   ]
  },
  {
   "cell_type": "code",
   "execution_count": 40,
   "id": "e4cfb293",
   "metadata": {},
   "outputs": [],
   "source": [
    "from sklearn.linear_model import LinearRegression\n",
    "m=LinearRegression().fit(x_train,y_train)\n"
   ]
  },
  {
   "cell_type": "code",
   "execution_count": 38,
   "id": "81e50536",
   "metadata": {},
   "outputs": [],
   "source": [
    "b=LinearRegression().fit(x_train,y_train)\n"
   ]
  },
  {
   "cell_type": "code",
   "execution_count": 41,
   "id": "5b68d849",
   "metadata": {},
   "outputs": [
    {
     "data": {
      "text/plain": [
       "0.9914346858594981"
      ]
     },
     "execution_count": 41,
     "metadata": {},
     "output_type": "execute_result"
    }
   ],
   "source": [
    "m.score(x_train,y_train)"
   ]
  },
  {
   "cell_type": "code",
   "execution_count": 44,
   "id": "e201ea83",
   "metadata": {},
   "outputs": [
    {
     "data": {
      "text/plain": [
       "100.21638801003702"
      ]
     },
     "execution_count": 44,
     "metadata": {},
     "output_type": "execute_result"
    }
   ],
   "source": [
    "m.intercept_"
   ]
  },
  {
   "cell_type": "code",
   "execution_count": 45,
   "id": "040ccfcd",
   "metadata": {},
   "outputs": [
    {
     "data": {
      "text/plain": [
       "array([40.79892754])"
      ]
     },
     "execution_count": 45,
     "metadata": {},
     "output_type": "execute_result"
    }
   ],
   "source": [
    "m.coef_"
   ]
  },
  {
   "cell_type": "code",
   "execution_count": 102,
   "id": "a9f6296d",
   "metadata": {},
   "outputs": [
    {
     "ename": "NameError",
     "evalue": "name 'LR' is not defined",
     "output_type": "error",
     "traceback": [
      "\u001b[1;31m---------------------------------------------------------------------------\u001b[0m",
      "\u001b[1;31mNameError\u001b[0m                                 Traceback (most recent call last)",
      "Cell \u001b[1;32mIn[102], line 1\u001b[0m\n\u001b[1;32m----> 1\u001b[0m \u001b[43mLR\u001b[49m\u001b[38;5;241m.\u001b[39mscore(x_train, y_train)\n",
      "\u001b[1;31mNameError\u001b[0m: name 'LR' is not defined"
     ]
    }
   ],
   "source": [
    "LR.score(x_train, y_train)"
   ]
  },
  {
   "cell_type": "code",
   "execution_count": 12,
   "id": "4363638a",
   "metadata": {},
   "outputs": [
    {
     "name": "stdout",
     "output_type": "stream",
     "text": [
      "Intercept 100.21638801003702\n",
      "Slope [40.79892754]\n"
     ]
    }
   ],
   "source": [
    "print('Intercept',LR.intercept_)\n",
    "print('Slope',LR.coef_)"
   ]
  },
  {
   "cell_type": "code",
   "execution_count": 104,
   "id": "85114025",
   "metadata": {},
   "outputs": [
    {
     "name": "stdout",
     "output_type": "stream",
     "text": [
      "intercept 100.21638801003702\n"
     ]
    }
   ],
   "source": [
    "print('intercept',l.intercept_)"
   ]
  },
  {
   "cell_type": "code",
   "execution_count": 105,
   "id": "316df0c1",
   "metadata": {},
   "outputs": [],
   "source": [
    "p=l.predict(x_test)"
   ]
  },
  {
   "cell_type": "code",
   "execution_count": 48,
   "id": "e4047591",
   "metadata": {},
   "outputs": [],
   "source": [
    "n=m.predict(x_test)\n"
   ]
  },
  {
   "cell_type": "code",
   "execution_count": 49,
   "id": "3870cb25",
   "metadata": {
    "collapsed": true
   },
   "outputs": [
    {
     "ename": "NameError",
     "evalue": "name 'l' is not defined",
     "output_type": "error",
     "traceback": [
      "\u001b[1;31m---------------------------------------------------------------------------\u001b[0m",
      "\u001b[1;31mNameError\u001b[0m                                 Traceback (most recent call last)",
      "Cell \u001b[1;32mIn[49], line 1\u001b[0m\n\u001b[1;32m----> 1\u001b[0m pred\u001b[38;5;241m=\u001b[39m\u001b[43ml\u001b[49m\u001b[38;5;241m.\u001b[39mpredict(x_test)\n",
      "\u001b[1;31mNameError\u001b[0m: name 'l' is not defined"
     ]
    }
   ],
   "source": [
    "pred=l.predict(x_test)"
   ]
  },
  {
   "cell_type": "code",
   "execution_count": 13,
   "id": "4358e7d5",
   "metadata": {},
   "outputs": [],
   "source": [
    "pred_y=LR.predict(x_test)#predicted y"
   ]
  },
  {
   "cell_type": "code",
   "execution_count": 14,
   "id": "79925f47",
   "metadata": {},
   "outputs": [],
   "source": [
    "#model evaluation"
   ]
  },
  {
   "cell_type": "code",
   "execution_count": 53,
   "id": "70475359",
   "metadata": {},
   "outputs": [],
   "source": [
    "pred=l.predict(x_test)"
   ]
  },
  {
   "cell_type": "code",
   "execution_count": 54,
   "id": "a5b8a1b8",
   "metadata": {},
   "outputs": [],
   "source": [
    "pred_y=l.predict(x_test)"
   ]
  },
  {
   "cell_type": "code",
   "execution_count": 56,
   "id": "515b3c7c",
   "metadata": {},
   "outputs": [],
   "source": [
    "\n",
    "msc=mean_absolute_error(pred,y_test)"
   ]
  },
  {
   "cell_type": "code",
   "execution_count": 59,
   "id": "f1b08a10",
   "metadata": {},
   "outputs": [],
   "source": [
    "mae=mean_absolute_error(pred,y_test)"
   ]
  },
  {
   "cell_type": "code",
   "execution_count": 60,
   "id": "b3282166",
   "metadata": {},
   "outputs": [
    {
     "data": {
      "text/plain": [
       "4.557783402118381"
      ]
     },
     "execution_count": 60,
     "metadata": {},
     "output_type": "execute_result"
    }
   ],
   "source": [
    "mae"
   ]
  },
  {
   "cell_type": "code",
   "execution_count": 61,
   "id": "1298866c",
   "metadata": {},
   "outputs": [
    {
     "data": {
      "text/plain": [
       "5.800604116237307"
      ]
     },
     "execution_count": 61,
     "metadata": {},
     "output_type": "execute_result"
    }
   ],
   "source": [
    "msc"
   ]
  },
  {
   "cell_type": "code",
   "execution_count": 58,
   "id": "2f43a145",
   "metadata": {},
   "outputs": [],
   "source": [
    "msc=mean_squared_error(pred,y_test,squared=False)"
   ]
  },
  {
   "cell_type": "code",
   "execution_count": 109,
   "id": "31947a80",
   "metadata": {},
   "outputs": [],
   "source": [
    "mae=mean_absolute_error(pred,y_test)"
   ]
  },
  {
   "cell_type": "code",
   "execution_count": 110,
   "id": "d21bf7a4",
   "metadata": {},
   "outputs": [],
   "source": [
    "mae=mean_absolute_error=(pred,y_test)"
   ]
  },
  {
   "cell_type": "code",
   "execution_count": 113,
   "id": "075e13d4",
   "metadata": {},
   "outputs": [],
   "source": [
    "rmse=mean_squared_error(pred,y_test,squared=False)"
   ]
  },
  {
   "cell_type": "code",
   "execution_count": 114,
   "id": "f179dc23",
   "metadata": {},
   "outputs": [],
   "source": [
    "rmse=mean_squared_error(pred,y_test,squared=False)"
   ]
  },
  {
   "cell_type": "code",
   "execution_count": 62,
   "id": "a1f00253",
   "metadata": {},
   "outputs": [],
   "source": [
    "r_squared=l.score(x_train,y_train)"
   ]
  },
  {
   "cell_type": "code",
   "execution_count": 115,
   "id": "25ec589b",
   "metadata": {},
   "outputs": [],
   "source": [
    "r_square=l.score(x_train,y_train)"
   ]
  },
  {
   "cell_type": "code",
   "execution_count": 120,
   "id": "b57deccc",
   "metadata": {},
   "outputs": [],
   "source": [
    "mse=mean_squared_error=(pred,y_test)"
   ]
  },
  {
   "cell_type": "code",
   "execution_count": 119,
   "id": "94c14d07",
   "metadata": {},
   "outputs": [],
   "source": [
    "mae=mean_absolute_error=(pred,y_test)"
   ]
  },
  {
   "cell_type": "code",
   "execution_count": 121,
   "id": "0596ede9",
   "metadata": {},
   "outputs": [],
   "source": [
    "r=l.score(x_train,y_train)"
   ]
  },
  {
   "cell_type": "code",
   "execution_count": 116,
   "id": "81d68243",
   "metadata": {},
   "outputs": [],
   "source": [
    "r_square=l.score(x_train,y_train)"
   ]
  },
  {
   "cell_type": "code",
   "execution_count": 32,
   "id": "60465a21",
   "metadata": {},
   "outputs": [],
   "source": [
    "MSE=mean_squared_error(pred,y_test)\n",
    "MAE=mean_absolute_error(pred,y_test)\n",
    "RMSE=mean_squared_error(pred,y_test,squared=False)\n",
    "R_Square= l.score(x_train, y_train)"
   ]
  },
  {
   "cell_type": "code",
   "execution_count": 16,
   "id": "0c1649a7",
   "metadata": {},
   "outputs": [
    {
     "name": "stdout",
     "output_type": "stream",
     "text": [
      "R_Square 0.991434685859498\n",
      "MSE 33.64700811330917\n",
      "MAE 4.557783402118379\n",
      "RMSE 5.800604116237305\n"
     ]
    }
   ],
   "source": [
    "print('R_Square',R_Square)\n",
    "print('MSE',MSE)\n",
    "print('MAE',MAE)\n",
    "print('RMSE',RMSE)\n"
   ]
  },
  {
   "cell_type": "code",
   "execution_count": 65,
   "id": "e64f7e28",
   "metadata": {},
   "outputs": [
    {
     "data": {
      "text/plain": [
       "[<matplotlib.lines.Line2D at 0x1d041617460>]"
      ]
     },
     "execution_count": 65,
     "metadata": {},
     "output_type": "execute_result"
    },
    {
     "data": {
      "image/png": "[encoded data removed]",
      "text/plain": [
       "<Figure size 640x480 with 1 Axes>"
      ]
     },
     "metadata": {},
     "output_type": "display_data"
    }
   ],
   "source": [
    "fig,ax=plt.subplots()\n",
    "plt.scatter(x,y)\n",
    "plt.plot(x_test.squeeze(),pred.squeeze(),color='r')"
   ]
  },
  {
   "cell_type": "code",
   "execution_count": 17,
   "id": "353af76c",
   "metadata": {},
   "outputs": [
    {
     "data": {
      "image/png": "[encoded data removed]",
      "text/plain": [
       "<Figure size 640x480 with 1 Axes>"
      ]
     },
     "metadata": {},
     "output_type": "display_data"
    }
   ],
   "source": [
    "fig,ax=plt.subplots()\n",
    "plt.scatter(x,y)\n",
    "plt.plot(x_test.squeeze(),pred_y.squeeze(),color='r')\n",
    "plt.show()"
   ]
  },
  {
   "cell_type": "markdown",
   "id": "54dc7489",
   "metadata": {},
   "source": [
    "# Task 2"
   ]
  },
  {
   "cell_type": "markdown",
   "id": "a725c5c4",
   "metadata": {},
   "source": [
    "2.1: Add some outliers to the fitted toy dataset."
   ]
  },
  {
   "cell_type": "code",
   "execution_count": 18,
   "id": "e142b73d",
   "metadata": {},
   "outputs": [],
   "source": [
    "a=[[300,350]]\n",
    "b=[[7,9]]"
   ]
  },
  {
   "cell_type": "code",
   "execution_count": 46,
   "id": "08531658",
   "metadata": {},
   "outputs": [],
   "source": [
    "a=[[66,78]]\n",
    "b=[[7,9]]"
   ]
  },
  {
   "cell_type": "code",
   "execution_count": 54,
   "id": "4663f719",
   "metadata": {},
   "outputs": [],
   "source": [
    "x=np.append(x,b)\n",
    "y=np.append(y,b)"
   ]
  },
  {
   "cell_type": "code",
   "execution_count": 59,
   "id": "60f05343",
   "metadata": {},
   "outputs": [
    {
     "data": {
      "text/plain": [
       "<matplotlib.collections.PathCollection at 0x28aa2e17070>"
      ]
     },
     "execution_count": 59,
     "metadata": {},
     "output_type": "execute_result"
    },
    {
     "data": {
      "image/png": "[encoded data removed]",
      "text/plain": [
       "<Figure size 640x480 with 1 Axes>"
      ]
     },
     "metadata": {},
     "output_type": "display_data"
    }
   ],
   "source": [
    "fig,ax=plt.subplots()\n",
    "plt.scatter(x,y)\n"
   ]
  },
  {
   "cell_type": "code",
   "execution_count": 19,
   "id": "9caa58d8",
   "metadata": {},
   "outputs": [],
   "source": [
    "x=np.append(x,b)\n",
    "y=np.append(y,a)"
   ]
  },
  {
   "cell_type": "code",
   "execution_count": 20,
   "id": "9449df2c",
   "metadata": {},
   "outputs": [
    {
     "data": {
      "text/plain": [
       "(102,)"
      ]
     },
     "execution_count": 20,
     "metadata": {},
     "output_type": "execute_result"
    }
   ],
   "source": [
    "x.shape"
   ]
  },
  {
   "cell_type": "code",
   "execution_count": 21,
   "id": "e7a5e8c6",
   "metadata": {},
   "outputs": [
    {
     "data": {
      "text/plain": [
       "(102,)"
      ]
     },
     "execution_count": 21,
     "metadata": {},
     "output_type": "execute_result"
    }
   ],
   "source": [
    "y.shape"
   ]
  },
  {
   "cell_type": "markdown",
   "id": "242de308",
   "metadata": {},
   "source": [
    "2.2: Visualise the new dataset using the plot function. "
   ]
  },
  {
   "cell_type": "code",
   "execution_count": 22,
   "id": "746005b7",
   "metadata": {},
   "outputs": [
    {
     "data": {
      "text/plain": [
       "<matplotlib.collections.PathCollection at 0x2155b7f8eb0>"
      ]
     },
     "execution_count": 22,
     "metadata": {},
     "output_type": "execute_result"
    },
    {
     "data": {
      "image/png": "[encoded data removed]",
      "text/plain": [
       "<Figure size 640x480 with 1 Axes>"
      ]
     },
     "metadata": {},
     "output_type": "display_data"
    }
   ],
   "source": [
    "fig,ax=plt.subplots()\n",
    "plt.scatter(x,y)"
   ]
  },
  {
   "cell_type": "markdown",
   "id": "a1c3962d",
   "metadata": {},
   "source": [
    "2.3: Fir Linear regression model to the toy data set that now contain outliers."
   ]
  },
  {
   "cell_type": "code",
   "execution_count": 23,
   "id": "41ca6fab",
   "metadata": {},
   "outputs": [],
   "source": [
    "from sklearn.linear_model import LinearRegression\n",
    "LR=LinearRegression().fit(x_train,y_train)"
   ]
  },
  {
   "cell_type": "code",
   "execution_count": 60,
   "id": "d45a1dde",
   "metadata": {},
   "outputs": [],
   "source": [
    "from sklearn.linear_model import LinearRegression"
   ]
  },
  {
   "cell_type": "code",
   "execution_count": 68,
   "id": "f9433007",
   "metadata": {},
   "outputs": [
    {
     "data": {
      "text/plain": [
       "0.9914346858594981"
      ]
     },
     "execution_count": 68,
     "metadata": {},
     "output_type": "execute_result"
    }
   ],
   "source": [
    "l.score(x_train,y_train)"
   ]
  },
  {
   "cell_type": "code",
   "execution_count": 61,
   "id": "635643ad",
   "metadata": {},
   "outputs": [
    {
     "data": {
      "text/plain": [
       "0.9914346858594981"
      ]
     },
     "execution_count": 61,
     "metadata": {},
     "output_type": "execute_result"
    }
   ],
   "source": [
    "l.score(x_train,y_train)"
   ]
  },
  {
   "cell_type": "code",
   "execution_count": 24,
   "id": "953e980f",
   "metadata": {},
   "outputs": [
    {
     "data": {
      "text/plain": [
       "0.991434685859498"
      ]
     },
     "execution_count": 24,
     "metadata": {},
     "output_type": "execute_result"
    }
   ],
   "source": [
    "LR.score(x_train,y_train)"
   ]
  },
  {
   "cell_type": "code",
   "execution_count": 64,
   "id": "0bad8bc2",
   "metadata": {},
   "outputs": [
    {
     "name": "stdout",
     "output_type": "stream",
     "text": [
      "intercept 100.21638801003702\n",
      "slope [40.79892754]\n"
     ]
    }
   ],
   "source": [
    "print('intercept',l.intercept_)\n",
    "print('slope',l.coef_)"
   ]
  },
  {
   "cell_type": "code",
   "execution_count": 66,
   "id": "ac5061a0",
   "metadata": {},
   "outputs": [
    {
     "data": {
      "text/plain": [
       "array([ 78.0038541 ,  75.20914495,  92.66801071, 166.26910348,\n",
       "       114.80232093, 110.62017346,  66.43763547,  63.91629777,\n",
       "       147.25901217,  95.95652534,  51.74654414,  34.38411559,\n",
       "        86.90622507, 138.44833684, 176.77857129, 130.83407906,\n",
       "       128.37260387, 100.33949608,  72.09703366, 131.99150665,\n",
       "       128.24076605, 115.15259902, 160.21993649,  57.61374487,\n",
       "       104.65790075, 130.25277117,  76.60091512,  41.33468239,\n",
       "       123.90315747,  41.78454704])"
      ]
     },
     "execution_count": 66,
     "metadata": {},
     "output_type": "execute_result"
    }
   ],
   "source": [
    "pred=l.predict(x_test)\n",
    "pred"
   ]
  },
  {
   "cell_type": "code",
   "execution_count": 25,
   "id": "593909bc",
   "metadata": {},
   "outputs": [
    {
     "name": "stdout",
     "output_type": "stream",
     "text": [
      "Intercept 100.21638801003702\n",
      "Slope [40.79892754]\n"
     ]
    }
   ],
   "source": [
    "print('Intercept',LR.intercept_)\n",
    "print('Slope',LR.coef_)"
   ]
  },
  {
   "cell_type": "code",
   "execution_count": 26,
   "id": "7a8a8a94",
   "metadata": {},
   "outputs": [],
   "source": [
    "pred_y=LR.predict(x_test)#predicted y"
   ]
  },
  {
   "cell_type": "code",
   "execution_count": 27,
   "id": "bdd490f0",
   "metadata": {},
   "outputs": [],
   "source": [
    "#model evaluation"
   ]
  },
  {
   "cell_type": "code",
   "execution_count": 28,
   "id": "dfc86912",
   "metadata": {},
   "outputs": [],
   "source": [
    "MSE=mean_squared_error(pred_y,y_test)\n",
    "MAE=mean_absolute_error(pred_y,y_test)"
   ]
  },
  {
   "cell_type": "code",
   "execution_count": 29,
   "id": "f78e167d",
   "metadata": {},
   "outputs": [
    {
     "name": "stdout",
     "output_type": "stream",
     "text": [
      "R_Square 0.991434685859498\n",
      "MSE 33.64700811330917\n",
      "RMSE 5.800604116237305\n",
      "MAE 4.557783402118379\n"
     ]
    }
   ],
   "source": [
    "print('R_Square',LR.score(x_train,y_train))\n",
    "print('MSE',MSE)\n",
    "print('RMSE',mean_squared_error(pred_y,y_test,squared=False))\n",
    "print('MAE',MAE)"
   ]
  },
  {
   "cell_type": "code",
   "execution_count": 30,
   "id": "cfc331af",
   "metadata": {},
   "outputs": [
    {
     "data": {
      "image/png": "[encoded data removed]",
      "text/plain": [
       "<Figure size 640x480 with 1 Axes>"
      ]
     },
     "metadata": {},
     "output_type": "display_data"
    }
   ],
   "source": [
    "fig,ax=plt.subplots()\n",
    "plt.scatter(x,y)\n",
    "plt.plot(x_test.squeeze(),pred_y.squeeze(),color='r')\n",
    "plt.show()"
   ]
  },
  {
   "cell_type": "code",
   "execution_count": null,
   "id": "24b43930",
   "metadata": {},
   "outputs": [],
   "source": []
  },
  {
   "cell_type": "markdown",
   "id": "31921d6f",
   "metadata": {},
   "source": [
    "# Task 3"
   ]
  },
  {
   "cell_type": "markdown",
   "id": "c7dcffd9",
   "metadata": {},
   "source": [
    "3.1: Load the data"
   ]
  },
  {
   "cell_type": "code",
   "execution_count": 69,
   "id": "99aef795",
   "metadata": {},
   "outputs": [
    {
     "data": {
      "text/html": [
       "<div>\n",
       "<style scoped>\n",
       "    .dataframe tbody tr th:only-of-type {\n",
       "        vertical-align: middle;\n",
       "    }\n",
       "\n",
       "    .dataframe tbody tr th {\n",
       "        vertical-align: top;\n",
       "    }\n",
       "\n",
       "    .dataframe thead th {\n",
       "        text-align: right;\n",
       "    }\n",
       "</style>\n",
       "<table border=\"1\" class=\"dataframe\">\n",
       "  <thead>\n",
       "    <tr style=\"text-align: right;\">\n",
       "      <th></th>\n",
       "      <th>8</th>\n",
       "      <th>?</th>\n",
       "      <th>?.1</th>\n",
       "      <th>Lakewoodcity</th>\n",
       "      <th>1</th>\n",
       "      <th>0.19</th>\n",
       "      <th>0.33</th>\n",
       "      <th>0.02</th>\n",
       "      <th>0.9</th>\n",
       "      <th>0.12</th>\n",
       "      <th>...</th>\n",
       "      <th>0.12.2</th>\n",
       "      <th>0.26.1</th>\n",
       "      <th>0.2.1</th>\n",
       "      <th>0.06.3</th>\n",
       "      <th>0.04.2</th>\n",
       "      <th>0.9.1</th>\n",
       "      <th>0.5.2</th>\n",
       "      <th>0.32.2</th>\n",
       "      <th>0.14.3</th>\n",
       "      <th>0.2.2</th>\n",
       "    </tr>\n",
       "  </thead>\n",
       "  <tbody>\n",
       "    <tr>\n",
       "      <th>0</th>\n",
       "      <td>53</td>\n",
       "      <td>?</td>\n",
       "      <td>?</td>\n",
       "      <td>Tukwilacity</td>\n",
       "      <td>1</td>\n",
       "      <td>0.00</td>\n",
       "      <td>0.16</td>\n",
       "      <td>0.12</td>\n",
       "      <td>0.74</td>\n",
       "      <td>0.45</td>\n",
       "      <td>...</td>\n",
       "      <td>0.02</td>\n",
       "      <td>0.12</td>\n",
       "      <td>0.45</td>\n",
       "      <td>?</td>\n",
       "      <td>?</td>\n",
       "      <td>?</td>\n",
       "      <td>?</td>\n",
       "      <td>0.00</td>\n",
       "      <td>?</td>\n",
       "      <td>0.67</td>\n",
       "    </tr>\n",
       "    <tr>\n",
       "      <th>1</th>\n",
       "      <td>24</td>\n",
       "      <td>?</td>\n",
       "      <td>?</td>\n",
       "      <td>Aberdeentown</td>\n",
       "      <td>1</td>\n",
       "      <td>0.00</td>\n",
       "      <td>0.42</td>\n",
       "      <td>0.49</td>\n",
       "      <td>0.56</td>\n",
       "      <td>0.17</td>\n",
       "      <td>...</td>\n",
       "      <td>0.01</td>\n",
       "      <td>0.21</td>\n",
       "      <td>0.02</td>\n",
       "      <td>?</td>\n",
       "      <td>?</td>\n",
       "      <td>?</td>\n",
       "      <td>?</td>\n",
       "      <td>0.00</td>\n",
       "      <td>?</td>\n",
       "      <td>0.43</td>\n",
       "    </tr>\n",
       "    <tr>\n",
       "      <th>2</th>\n",
       "      <td>34</td>\n",
       "      <td>5</td>\n",
       "      <td>81440</td>\n",
       "      <td>Willingborotownship</td>\n",
       "      <td>1</td>\n",
       "      <td>0.04</td>\n",
       "      <td>0.77</td>\n",
       "      <td>1.00</td>\n",
       "      <td>0.08</td>\n",
       "      <td>0.12</td>\n",
       "      <td>...</td>\n",
       "      <td>0.02</td>\n",
       "      <td>0.39</td>\n",
       "      <td>0.28</td>\n",
       "      <td>?</td>\n",
       "      <td>?</td>\n",
       "      <td>?</td>\n",
       "      <td>?</td>\n",
       "      <td>0.00</td>\n",
       "      <td>?</td>\n",
       "      <td>0.12</td>\n",
       "    </tr>\n",
       "    <tr>\n",
       "      <th>3</th>\n",
       "      <td>42</td>\n",
       "      <td>95</td>\n",
       "      <td>6096</td>\n",
       "      <td>Bethlehemtownship</td>\n",
       "      <td>1</td>\n",
       "      <td>0.01</td>\n",
       "      <td>0.55</td>\n",
       "      <td>0.02</td>\n",
       "      <td>0.95</td>\n",
       "      <td>0.09</td>\n",
       "      <td>...</td>\n",
       "      <td>0.04</td>\n",
       "      <td>0.09</td>\n",
       "      <td>0.02</td>\n",
       "      <td>?</td>\n",
       "      <td>?</td>\n",
       "      <td>?</td>\n",
       "      <td>?</td>\n",
       "      <td>0.00</td>\n",
       "      <td>?</td>\n",
       "      <td>0.03</td>\n",
       "    </tr>\n",
       "    <tr>\n",
       "      <th>4</th>\n",
       "      <td>6</td>\n",
       "      <td>?</td>\n",
       "      <td>?</td>\n",
       "      <td>SouthPasadenacity</td>\n",
       "      <td>1</td>\n",
       "      <td>0.02</td>\n",
       "      <td>0.28</td>\n",
       "      <td>0.06</td>\n",
       "      <td>0.54</td>\n",
       "      <td>1.00</td>\n",
       "      <td>...</td>\n",
       "      <td>0.01</td>\n",
       "      <td>0.58</td>\n",
       "      <td>0.10</td>\n",
       "      <td>?</td>\n",
       "      <td>?</td>\n",
       "      <td>?</td>\n",
       "      <td>?</td>\n",
       "      <td>0.00</td>\n",
       "      <td>?</td>\n",
       "      <td>0.14</td>\n",
       "    </tr>\n",
       "    <tr>\n",
       "      <th>...</th>\n",
       "      <td>...</td>\n",
       "      <td>...</td>\n",
       "      <td>...</td>\n",
       "      <td>...</td>\n",
       "      <td>...</td>\n",
       "      <td>...</td>\n",
       "      <td>...</td>\n",
       "      <td>...</td>\n",
       "      <td>...</td>\n",
       "      <td>...</td>\n",
       "      <td>...</td>\n",
       "      <td>...</td>\n",
       "      <td>...</td>\n",
       "      <td>...</td>\n",
       "      <td>...</td>\n",
       "      <td>...</td>\n",
       "      <td>...</td>\n",
       "      <td>...</td>\n",
       "      <td>...</td>\n",
       "      <td>...</td>\n",
       "      <td>...</td>\n",
       "    </tr>\n",
       "    <tr>\n",
       "      <th>1988</th>\n",
       "      <td>12</td>\n",
       "      <td>?</td>\n",
       "      <td>?</td>\n",
       "      <td>TempleTerracecity</td>\n",
       "      <td>10</td>\n",
       "      <td>0.01</td>\n",
       "      <td>0.40</td>\n",
       "      <td>0.10</td>\n",
       "      <td>0.87</td>\n",
       "      <td>0.12</td>\n",
       "      <td>...</td>\n",
       "      <td>0.01</td>\n",
       "      <td>0.28</td>\n",
       "      <td>0.05</td>\n",
       "      <td>?</td>\n",
       "      <td>?</td>\n",
       "      <td>?</td>\n",
       "      <td>?</td>\n",
       "      <td>0.00</td>\n",
       "      <td>?</td>\n",
       "      <td>0.09</td>\n",
       "    </tr>\n",
       "    <tr>\n",
       "      <th>1989</th>\n",
       "      <td>6</td>\n",
       "      <td>?</td>\n",
       "      <td>?</td>\n",
       "      <td>Seasidecity</td>\n",
       "      <td>10</td>\n",
       "      <td>0.05</td>\n",
       "      <td>0.96</td>\n",
       "      <td>0.46</td>\n",
       "      <td>0.28</td>\n",
       "      <td>0.83</td>\n",
       "      <td>...</td>\n",
       "      <td>0.02</td>\n",
       "      <td>0.37</td>\n",
       "      <td>0.20</td>\n",
       "      <td>?</td>\n",
       "      <td>?</td>\n",
       "      <td>?</td>\n",
       "      <td>?</td>\n",
       "      <td>0.00</td>\n",
       "      <td>?</td>\n",
       "      <td>0.45</td>\n",
       "    </tr>\n",
       "    <tr>\n",
       "      <th>1990</th>\n",
       "      <td>9</td>\n",
       "      <td>9</td>\n",
       "      <td>80070</td>\n",
       "      <td>Waterburytown</td>\n",
       "      <td>10</td>\n",
       "      <td>0.16</td>\n",
       "      <td>0.37</td>\n",
       "      <td>0.25</td>\n",
       "      <td>0.69</td>\n",
       "      <td>0.04</td>\n",
       "      <td>...</td>\n",
       "      <td>0.08</td>\n",
       "      <td>0.32</td>\n",
       "      <td>0.18</td>\n",
       "      <td>0.08</td>\n",
       "      <td>0.06</td>\n",
       "      <td>0.78</td>\n",
       "      <td>0</td>\n",
       "      <td>0.91</td>\n",
       "      <td>0.28</td>\n",
       "      <td>0.23</td>\n",
       "    </tr>\n",
       "    <tr>\n",
       "      <th>1991</th>\n",
       "      <td>25</td>\n",
       "      <td>17</td>\n",
       "      <td>72600</td>\n",
       "      <td>Walthamcity</td>\n",
       "      <td>10</td>\n",
       "      <td>0.08</td>\n",
       "      <td>0.51</td>\n",
       "      <td>0.06</td>\n",
       "      <td>0.87</td>\n",
       "      <td>0.22</td>\n",
       "      <td>...</td>\n",
       "      <td>0.03</td>\n",
       "      <td>0.38</td>\n",
       "      <td>0.33</td>\n",
       "      <td>0.02</td>\n",
       "      <td>0.02</td>\n",
       "      <td>0.79</td>\n",
       "      <td>0</td>\n",
       "      <td>0.22</td>\n",
       "      <td>0.18</td>\n",
       "      <td>0.19</td>\n",
       "    </tr>\n",
       "    <tr>\n",
       "      <th>1992</th>\n",
       "      <td>6</td>\n",
       "      <td>?</td>\n",
       "      <td>?</td>\n",
       "      <td>Ontariocity</td>\n",
       "      <td>10</td>\n",
       "      <td>0.20</td>\n",
       "      <td>0.78</td>\n",
       "      <td>0.14</td>\n",
       "      <td>0.46</td>\n",
       "      <td>0.24</td>\n",
       "      <td>...</td>\n",
       "      <td>0.11</td>\n",
       "      <td>0.30</td>\n",
       "      <td>0.05</td>\n",
       "      <td>0.08</td>\n",
       "      <td>0.04</td>\n",
       "      <td>0.73</td>\n",
       "      <td>0.5</td>\n",
       "      <td>1.00</td>\n",
       "      <td>0.13</td>\n",
       "      <td>0.48</td>\n",
       "    </tr>\n",
       "  </tbody>\n",
       "</table>\n",
       "<p>1993 rows × 128 columns</p>\n",
       "</div>"
      ],
      "text/plain": [
       "       8   ?    ?.1         Lakewoodcity   1  0.19  0.33  0.02   0.9  0.12  \\\n",
       "0     53   ?      ?          Tukwilacity   1  0.00  0.16  0.12  0.74  0.45   \n",
       "1     24   ?      ?         Aberdeentown   1  0.00  0.42  0.49  0.56  0.17   \n",
       "2     34   5  81440  Willingborotownship   1  0.04  0.77  1.00  0.08  0.12   \n",
       "3     42  95   6096    Bethlehemtownship   1  0.01  0.55  0.02  0.95  0.09   \n",
       "4      6   ?      ?    SouthPasadenacity   1  0.02  0.28  0.06  0.54  1.00   \n",
       "...   ..  ..    ...                  ...  ..   ...   ...   ...   ...   ...   \n",
       "1988  12   ?      ?    TempleTerracecity  10  0.01  0.40  0.10  0.87  0.12   \n",
       "1989   6   ?      ?          Seasidecity  10  0.05  0.96  0.46  0.28  0.83   \n",
       "1990   9   9  80070        Waterburytown  10  0.16  0.37  0.25  0.69  0.04   \n",
       "1991  25  17  72600          Walthamcity  10  0.08  0.51  0.06  0.87  0.22   \n",
       "1992   6   ?      ?          Ontariocity  10  0.20  0.78  0.14  0.46  0.24   \n",
       "\n",
       "      ...  0.12.2  0.26.1  0.2.1  0.06.3  0.04.2  0.9.1  0.5.2  0.32.2  \\\n",
       "0     ...    0.02    0.12   0.45       ?       ?      ?      ?    0.00   \n",
       "1     ...    0.01    0.21   0.02       ?       ?      ?      ?    0.00   \n",
       "2     ...    0.02    0.39   0.28       ?       ?      ?      ?    0.00   \n",
       "3     ...    0.04    0.09   0.02       ?       ?      ?      ?    0.00   \n",
       "4     ...    0.01    0.58   0.10       ?       ?      ?      ?    0.00   \n",
       "...   ...     ...     ...    ...     ...     ...    ...    ...     ...   \n",
       "1988  ...    0.01    0.28   0.05       ?       ?      ?      ?    0.00   \n",
       "1989  ...    0.02    0.37   0.20       ?       ?      ?      ?    0.00   \n",
       "1990  ...    0.08    0.32   0.18    0.08    0.06   0.78      0    0.91   \n",
       "1991  ...    0.03    0.38   0.33    0.02    0.02   0.79      0    0.22   \n",
       "1992  ...    0.11    0.30   0.05    0.08    0.04   0.73    0.5    1.00   \n",
       "\n",
       "      0.14.3  0.2.2  \n",
       "0          ?   0.67  \n",
       "1          ?   0.43  \n",
       "2          ?   0.12  \n",
       "3          ?   0.03  \n",
       "4          ?   0.14  \n",
       "...      ...    ...  \n",
       "1988       ?   0.09  \n",
       "1989       ?   0.45  \n",
       "1990    0.28   0.23  \n",
       "1991    0.18   0.19  \n",
       "1992    0.13   0.48  \n",
       "\n",
       "[1993 rows x 128 columns]"
      ]
     },
     "execution_count": 69,
     "metadata": {},
     "output_type": "execute_result"
    }
   ],
   "source": [
    "df=pd.read_csv('DS2_C5_S2_Communities_Data_Challenge.data')\n",
    "df"
   ]
  },
  {
   "cell_type": "code",
   "execution_count": 71,
   "id": "1db4634b",
   "metadata": {},
   "outputs": [],
   "source": [
    "df.drop('?',inplace=True,axis=1)"
   ]
  },
  {
   "cell_type": "code",
   "execution_count": 72,
   "id": "1921e26f",
   "metadata": {},
   "outputs": [],
   "source": [
    "\n",
    "df.drop('?',inplace=True,axis=1)"
   ]
  },
  {
   "cell_type": "code",
   "execution_count": 72,
   "id": "01c54988",
   "metadata": {},
   "outputs": [
    {
     "data": {
      "text/plain": [
       "Index(['8', '?.1', 'Lakewoodcity', '1', '0.19', '0.33', '0.02', '0.9', '0.12',\n",
       "       '0.17',\n",
       "       ...\n",
       "       '0.12.2', '0.26.1', '0.2.1', '0.06.3', '0.04.2', '0.9.1', '0.5.2',\n",
       "       '0.32.2', '0.14.3', '0.2.2'],\n",
       "      dtype='object', length=127)"
      ]
     },
     "execution_count": 72,
     "metadata": {},
     "output_type": "execute_result"
    }
   ],
   "source": [
    "df.columns"
   ]
  },
  {
   "cell_type": "code",
   "execution_count": null,
   "id": "acf84f44",
   "metadata": {},
   "outputs": [],
   "source": [
    "3.2 Remove the non-predictive "
   ]
  },
  {
   "cell_type": "code",
   "execution_count": 73,
   "id": "628d109a",
   "metadata": {},
   "outputs": [],
   "source": [
    "df.drop('8',inplace=True,axis=1)"
   ]
  },
  {
   "cell_type": "code",
   "execution_count": 77,
   "id": "3851dc60",
   "metadata": {},
   "outputs": [],
   "source": [
    "\n",
    "\n",
    "df.drop('?.1', inplace=True, axis=1)\n",
    "df.drop('Lakewoodcity', inplace=True, axis=1)"
   ]
  },
  {
   "cell_type": "code",
   "execution_count": null,
   "id": "d669ad4e",
   "metadata": {},
   "outputs": [],
   "source": [
    "#also we can use  'df.drop(df.iloc[:,0:4],axis=1,inplace=True' for removing the columns."
   ]
  },
  {
   "cell_type": "code",
   "execution_count": 69,
   "id": "a303797a",
   "metadata": {},
   "outputs": [
    {
     "data": {
      "text/html": [
       "<div>\n",
       "<style scoped>\n",
       "    .dataframe tbody tr th:only-of-type {\n",
       "        vertical-align: middle;\n",
       "    }\n",
       "\n",
       "    .dataframe tbody tr th {\n",
       "        vertical-align: top;\n",
       "    }\n",
       "\n",
       "    .dataframe thead th {\n",
       "        text-align: right;\n",
       "    }\n",
       "</style>\n",
       "<table border=\"1\" class=\"dataframe\">\n",
       "  <thead>\n",
       "    <tr style=\"text-align: right;\">\n",
       "      <th></th>\n",
       "      <th>0.19</th>\n",
       "      <th>0.33</th>\n",
       "      <th>0.02</th>\n",
       "      <th>0.9</th>\n",
       "      <th>0.12</th>\n",
       "      <th>0.17</th>\n",
       "      <th>0.34</th>\n",
       "      <th>0.47</th>\n",
       "      <th>0.29</th>\n",
       "      <th>0.32</th>\n",
       "      <th>...</th>\n",
       "      <th>0.12.2</th>\n",
       "      <th>0.26.1</th>\n",
       "      <th>0.2.1</th>\n",
       "      <th>0.06.3</th>\n",
       "      <th>0.04.2</th>\n",
       "      <th>0.9.1</th>\n",
       "      <th>0.5.2</th>\n",
       "      <th>0.32.2</th>\n",
       "      <th>0.14.3</th>\n",
       "      <th>0.2.2</th>\n",
       "    </tr>\n",
       "  </thead>\n",
       "  <tbody>\n",
       "    <tr>\n",
       "      <th>0</th>\n",
       "      <td>0.00</td>\n",
       "      <td>0.16</td>\n",
       "      <td>0.12</td>\n",
       "      <td>0.74</td>\n",
       "      <td>0.45</td>\n",
       "      <td>0.07</td>\n",
       "      <td>0.26</td>\n",
       "      <td>0.59</td>\n",
       "      <td>0.35</td>\n",
       "      <td>0.27</td>\n",
       "      <td>...</td>\n",
       "      <td>0.02</td>\n",
       "      <td>0.12</td>\n",
       "      <td>0.45</td>\n",
       "      <td>?</td>\n",
       "      <td>?</td>\n",
       "      <td>?</td>\n",
       "      <td>?</td>\n",
       "      <td>0.00</td>\n",
       "      <td>?</td>\n",
       "      <td>0.67</td>\n",
       "    </tr>\n",
       "    <tr>\n",
       "      <th>1</th>\n",
       "      <td>0.00</td>\n",
       "      <td>0.42</td>\n",
       "      <td>0.49</td>\n",
       "      <td>0.56</td>\n",
       "      <td>0.17</td>\n",
       "      <td>0.04</td>\n",
       "      <td>0.39</td>\n",
       "      <td>0.47</td>\n",
       "      <td>0.28</td>\n",
       "      <td>0.32</td>\n",
       "      <td>...</td>\n",
       "      <td>0.01</td>\n",
       "      <td>0.21</td>\n",
       "      <td>0.02</td>\n",
       "      <td>?</td>\n",
       "      <td>?</td>\n",
       "      <td>?</td>\n",
       "      <td>?</td>\n",
       "      <td>0.00</td>\n",
       "      <td>?</td>\n",
       "      <td>0.43</td>\n",
       "    </tr>\n",
       "    <tr>\n",
       "      <th>2</th>\n",
       "      <td>0.04</td>\n",
       "      <td>0.77</td>\n",
       "      <td>1.00</td>\n",
       "      <td>0.08</td>\n",
       "      <td>0.12</td>\n",
       "      <td>0.10</td>\n",
       "      <td>0.51</td>\n",
       "      <td>0.50</td>\n",
       "      <td>0.34</td>\n",
       "      <td>0.21</td>\n",
       "      <td>...</td>\n",
       "      <td>0.02</td>\n",
       "      <td>0.39</td>\n",
       "      <td>0.28</td>\n",
       "      <td>?</td>\n",
       "      <td>?</td>\n",
       "      <td>?</td>\n",
       "      <td>?</td>\n",
       "      <td>0.00</td>\n",
       "      <td>?</td>\n",
       "      <td>0.12</td>\n",
       "    </tr>\n",
       "    <tr>\n",
       "      <th>3</th>\n",
       "      <td>0.01</td>\n",
       "      <td>0.55</td>\n",
       "      <td>0.02</td>\n",
       "      <td>0.95</td>\n",
       "      <td>0.09</td>\n",
       "      <td>0.05</td>\n",
       "      <td>0.38</td>\n",
       "      <td>0.38</td>\n",
       "      <td>0.23</td>\n",
       "      <td>0.36</td>\n",
       "      <td>...</td>\n",
       "      <td>0.04</td>\n",
       "      <td>0.09</td>\n",
       "      <td>0.02</td>\n",
       "      <td>?</td>\n",
       "      <td>?</td>\n",
       "      <td>?</td>\n",
       "      <td>?</td>\n",
       "      <td>0.00</td>\n",
       "      <td>?</td>\n",
       "      <td>0.03</td>\n",
       "    </tr>\n",
       "    <tr>\n",
       "      <th>4</th>\n",
       "      <td>0.02</td>\n",
       "      <td>0.28</td>\n",
       "      <td>0.06</td>\n",
       "      <td>0.54</td>\n",
       "      <td>1.00</td>\n",
       "      <td>0.25</td>\n",
       "      <td>0.31</td>\n",
       "      <td>0.48</td>\n",
       "      <td>0.27</td>\n",
       "      <td>0.37</td>\n",
       "      <td>...</td>\n",
       "      <td>0.01</td>\n",
       "      <td>0.58</td>\n",
       "      <td>0.10</td>\n",
       "      <td>?</td>\n",
       "      <td>?</td>\n",
       "      <td>?</td>\n",
       "      <td>?</td>\n",
       "      <td>0.00</td>\n",
       "      <td>?</td>\n",
       "      <td>0.14</td>\n",
       "    </tr>\n",
       "    <tr>\n",
       "      <th>...</th>\n",
       "      <td>...</td>\n",
       "      <td>...</td>\n",
       "      <td>...</td>\n",
       "      <td>...</td>\n",
       "      <td>...</td>\n",
       "      <td>...</td>\n",
       "      <td>...</td>\n",
       "      <td>...</td>\n",
       "      <td>...</td>\n",
       "      <td>...</td>\n",
       "      <td>...</td>\n",
       "      <td>...</td>\n",
       "      <td>...</td>\n",
       "      <td>...</td>\n",
       "      <td>...</td>\n",
       "      <td>...</td>\n",
       "      <td>...</td>\n",
       "      <td>...</td>\n",
       "      <td>...</td>\n",
       "      <td>...</td>\n",
       "      <td>...</td>\n",
       "    </tr>\n",
       "    <tr>\n",
       "      <th>1988</th>\n",
       "      <td>0.01</td>\n",
       "      <td>0.40</td>\n",
       "      <td>0.10</td>\n",
       "      <td>0.87</td>\n",
       "      <td>0.12</td>\n",
       "      <td>0.16</td>\n",
       "      <td>0.43</td>\n",
       "      <td>0.51</td>\n",
       "      <td>0.35</td>\n",
       "      <td>0.30</td>\n",
       "      <td>...</td>\n",
       "      <td>0.01</td>\n",
       "      <td>0.28</td>\n",
       "      <td>0.05</td>\n",
       "      <td>?</td>\n",
       "      <td>?</td>\n",
       "      <td>?</td>\n",
       "      <td>?</td>\n",
       "      <td>0.00</td>\n",
       "      <td>?</td>\n",
       "      <td>0.09</td>\n",
       "    </tr>\n",
       "    <tr>\n",
       "      <th>1989</th>\n",
       "      <td>0.05</td>\n",
       "      <td>0.96</td>\n",
       "      <td>0.46</td>\n",
       "      <td>0.28</td>\n",
       "      <td>0.83</td>\n",
       "      <td>0.32</td>\n",
       "      <td>0.69</td>\n",
       "      <td>0.86</td>\n",
       "      <td>0.73</td>\n",
       "      <td>0.14</td>\n",
       "      <td>...</td>\n",
       "      <td>0.02</td>\n",
       "      <td>0.37</td>\n",
       "      <td>0.20</td>\n",
       "      <td>?</td>\n",
       "      <td>?</td>\n",
       "      <td>?</td>\n",
       "      <td>?</td>\n",
       "      <td>0.00</td>\n",
       "      <td>?</td>\n",
       "      <td>0.45</td>\n",
       "    </tr>\n",
       "    <tr>\n",
       "      <th>1990</th>\n",
       "      <td>0.16</td>\n",
       "      <td>0.37</td>\n",
       "      <td>0.25</td>\n",
       "      <td>0.69</td>\n",
       "      <td>0.04</td>\n",
       "      <td>0.25</td>\n",
       "      <td>0.35</td>\n",
       "      <td>0.50</td>\n",
       "      <td>0.31</td>\n",
       "      <td>0.54</td>\n",
       "      <td>...</td>\n",
       "      <td>0.08</td>\n",
       "      <td>0.32</td>\n",
       "      <td>0.18</td>\n",
       "      <td>0.08</td>\n",
       "      <td>0.06</td>\n",
       "      <td>0.78</td>\n",
       "      <td>0</td>\n",
       "      <td>0.91</td>\n",
       "      <td>0.28</td>\n",
       "      <td>0.23</td>\n",
       "    </tr>\n",
       "    <tr>\n",
       "      <th>1991</th>\n",
       "      <td>0.08</td>\n",
       "      <td>0.51</td>\n",
       "      <td>0.06</td>\n",
       "      <td>0.87</td>\n",
       "      <td>0.22</td>\n",
       "      <td>0.10</td>\n",
       "      <td>0.58</td>\n",
       "      <td>0.74</td>\n",
       "      <td>0.63</td>\n",
       "      <td>0.41</td>\n",
       "      <td>...</td>\n",
       "      <td>0.03</td>\n",
       "      <td>0.38</td>\n",
       "      <td>0.33</td>\n",
       "      <td>0.02</td>\n",
       "      <td>0.02</td>\n",
       "      <td>0.79</td>\n",
       "      <td>0</td>\n",
       "      <td>0.22</td>\n",
       "      <td>0.18</td>\n",
       "      <td>0.19</td>\n",
       "    </tr>\n",
       "    <tr>\n",
       "      <th>1992</th>\n",
       "      <td>0.20</td>\n",
       "      <td>0.78</td>\n",
       "      <td>0.14</td>\n",
       "      <td>0.46</td>\n",
       "      <td>0.24</td>\n",
       "      <td>0.77</td>\n",
       "      <td>0.50</td>\n",
       "      <td>0.62</td>\n",
       "      <td>0.40</td>\n",
       "      <td>0.17</td>\n",
       "      <td>...</td>\n",
       "      <td>0.11</td>\n",
       "      <td>0.30</td>\n",
       "      <td>0.05</td>\n",
       "      <td>0.08</td>\n",
       "      <td>0.04</td>\n",
       "      <td>0.73</td>\n",
       "      <td>0.5</td>\n",
       "      <td>1.00</td>\n",
       "      <td>0.13</td>\n",
       "      <td>0.48</td>\n",
       "    </tr>\n",
       "  </tbody>\n",
       "</table>\n",
       "<p>1993 rows × 123 columns</p>\n",
       "</div>"
      ],
      "text/plain": [
       "      0.19  0.33  0.02   0.9  0.12  0.17  0.34  0.47  0.29  0.32  ...  0.12.2  \\\n",
       "0     0.00  0.16  0.12  0.74  0.45  0.07  0.26  0.59  0.35  0.27  ...    0.02   \n",
       "1     0.00  0.42  0.49  0.56  0.17  0.04  0.39  0.47  0.28  0.32  ...    0.01   \n",
       "2     0.04  0.77  1.00  0.08  0.12  0.10  0.51  0.50  0.34  0.21  ...    0.02   \n",
       "3     0.01  0.55  0.02  0.95  0.09  0.05  0.38  0.38  0.23  0.36  ...    0.04   \n",
       "4     0.02  0.28  0.06  0.54  1.00  0.25  0.31  0.48  0.27  0.37  ...    0.01   \n",
       "...    ...   ...   ...   ...   ...   ...   ...   ...   ...   ...  ...     ...   \n",
       "1988  0.01  0.40  0.10  0.87  0.12  0.16  0.43  0.51  0.35  0.30  ...    0.01   \n",
       "1989  0.05  0.96  0.46  0.28  0.83  0.32  0.69  0.86  0.73  0.14  ...    0.02   \n",
       "1990  0.16  0.37  0.25  0.69  0.04  0.25  0.35  0.50  0.31  0.54  ...    0.08   \n",
       "1991  0.08  0.51  0.06  0.87  0.22  0.10  0.58  0.74  0.63  0.41  ...    0.03   \n",
       "1992  0.20  0.78  0.14  0.46  0.24  0.77  0.50  0.62  0.40  0.17  ...    0.11   \n",
       "\n",
       "      0.26.1  0.2.1  0.06.3  0.04.2  0.9.1  0.5.2  0.32.2  0.14.3  0.2.2  \n",
       "0       0.12   0.45       ?       ?      ?      ?    0.00       ?   0.67  \n",
       "1       0.21   0.02       ?       ?      ?      ?    0.00       ?   0.43  \n",
       "2       0.39   0.28       ?       ?      ?      ?    0.00       ?   0.12  \n",
       "3       0.09   0.02       ?       ?      ?      ?    0.00       ?   0.03  \n",
       "4       0.58   0.10       ?       ?      ?      ?    0.00       ?   0.14  \n",
       "...      ...    ...     ...     ...    ...    ...     ...     ...    ...  \n",
       "1988    0.28   0.05       ?       ?      ?      ?    0.00       ?   0.09  \n",
       "1989    0.37   0.20       ?       ?      ?      ?    0.00       ?   0.45  \n",
       "1990    0.32   0.18    0.08    0.06   0.78      0    0.91    0.28   0.23  \n",
       "1991    0.38   0.33    0.02    0.02   0.79      0    0.22    0.18   0.19  \n",
       "1992    0.30   0.05    0.08    0.04   0.73    0.5    1.00    0.13   0.48  \n",
       "\n",
       "[1993 rows x 123 columns]"
      ]
     },
     "execution_count": 69,
     "metadata": {},
     "output_type": "execute_result"
    }
   ],
   "source": [
    "df"
   ]
  },
  {
   "cell_type": "code",
   "execution_count": 107,
   "id": "94625b0c",
   "metadata": {},
   "outputs": [],
   "source": [
    "df.replace('?',np.nan,inplace=True)\n",
    "df.dropna(how='any',inplace=True)"
   ]
  },
  {
   "cell_type": "code",
   "execution_count": 108,
   "id": "818c044d",
   "metadata": {},
   "outputs": [
    {
     "data": {
      "text/html": [
       "<div>\n",
       "<style scoped>\n",
       "    .dataframe tbody tr th:only-of-type {\n",
       "        vertical-align: middle;\n",
       "    }\n",
       "\n",
       "    .dataframe tbody tr th {\n",
       "        vertical-align: top;\n",
       "    }\n",
       "\n",
       "    .dataframe thead th {\n",
       "        text-align: right;\n",
       "    }\n",
       "</style>\n",
       "<table border=\"1\" class=\"dataframe\">\n",
       "  <thead>\n",
       "    <tr style=\"text-align: right;\">\n",
       "      <th></th>\n",
       "      <th>1</th>\n",
       "      <th>0.19</th>\n",
       "      <th>0.33</th>\n",
       "      <th>0.02</th>\n",
       "      <th>0.9</th>\n",
       "      <th>0.12</th>\n",
       "      <th>0.17</th>\n",
       "      <th>0.34</th>\n",
       "      <th>0.47</th>\n",
       "      <th>0.29</th>\n",
       "      <th>...</th>\n",
       "      <th>0.12.2</th>\n",
       "      <th>0.26.1</th>\n",
       "      <th>0.2.1</th>\n",
       "      <th>0.06.3</th>\n",
       "      <th>0.04.2</th>\n",
       "      <th>0.9.1</th>\n",
       "      <th>0.5.2</th>\n",
       "      <th>0.32.2</th>\n",
       "      <th>0.14.3</th>\n",
       "      <th>0.2.2</th>\n",
       "    </tr>\n",
       "  </thead>\n",
       "  <tbody>\n",
       "    <tr>\n",
       "      <th>15</th>\n",
       "      <td>1</td>\n",
       "      <td>0.15</td>\n",
       "      <td>0.31</td>\n",
       "      <td>0.40</td>\n",
       "      <td>0.63</td>\n",
       "      <td>0.14</td>\n",
       "      <td>0.06</td>\n",
       "      <td>0.58</td>\n",
       "      <td>0.72</td>\n",
       "      <td>0.65</td>\n",
       "      <td>...</td>\n",
       "      <td>0.06</td>\n",
       "      <td>0.39</td>\n",
       "      <td>0.84</td>\n",
       "      <td>0.06</td>\n",
       "      <td>0.06</td>\n",
       "      <td>0.91</td>\n",
       "      <td>0.5</td>\n",
       "      <td>0.88</td>\n",
       "      <td>0.26</td>\n",
       "      <td>0.49</td>\n",
       "    </tr>\n",
       "    <tr>\n",
       "      <th>19</th>\n",
       "      <td>1</td>\n",
       "      <td>0.25</td>\n",
       "      <td>0.54</td>\n",
       "      <td>0.05</td>\n",
       "      <td>0.71</td>\n",
       "      <td>0.48</td>\n",
       "      <td>0.30</td>\n",
       "      <td>0.42</td>\n",
       "      <td>0.48</td>\n",
       "      <td>0.28</td>\n",
       "      <td>...</td>\n",
       "      <td>0.09</td>\n",
       "      <td>0.46</td>\n",
       "      <td>0.05</td>\n",
       "      <td>0.09</td>\n",
       "      <td>0.05</td>\n",
       "      <td>0.88</td>\n",
       "      <td>0.5</td>\n",
       "      <td>0.76</td>\n",
       "      <td>0.13</td>\n",
       "      <td>0.34</td>\n",
       "    </tr>\n",
       "    <tr>\n",
       "      <th>20</th>\n",
       "      <td>1</td>\n",
       "      <td>1.00</td>\n",
       "      <td>0.42</td>\n",
       "      <td>0.47</td>\n",
       "      <td>0.59</td>\n",
       "      <td>0.12</td>\n",
       "      <td>0.05</td>\n",
       "      <td>0.41</td>\n",
       "      <td>0.53</td>\n",
       "      <td>0.34</td>\n",
       "      <td>...</td>\n",
       "      <td>1.00</td>\n",
       "      <td>0.07</td>\n",
       "      <td>0.15</td>\n",
       "      <td>1</td>\n",
       "      <td>0.35</td>\n",
       "      <td>0.73</td>\n",
       "      <td>0</td>\n",
       "      <td>0.31</td>\n",
       "      <td>0.21</td>\n",
       "      <td>0.69</td>\n",
       "    </tr>\n",
       "    <tr>\n",
       "      <th>22</th>\n",
       "      <td>1</td>\n",
       "      <td>0.11</td>\n",
       "      <td>0.43</td>\n",
       "      <td>0.04</td>\n",
       "      <td>0.89</td>\n",
       "      <td>0.09</td>\n",
       "      <td>0.06</td>\n",
       "      <td>0.45</td>\n",
       "      <td>0.48</td>\n",
       "      <td>0.31</td>\n",
       "      <td>...</td>\n",
       "      <td>0.16</td>\n",
       "      <td>0.12</td>\n",
       "      <td>0.07</td>\n",
       "      <td>0.04</td>\n",
       "      <td>0.01</td>\n",
       "      <td>0.81</td>\n",
       "      <td>1</td>\n",
       "      <td>0.56</td>\n",
       "      <td>0.09</td>\n",
       "      <td>0.63</td>\n",
       "    </tr>\n",
       "    <tr>\n",
       "      <th>32</th>\n",
       "      <td>1</td>\n",
       "      <td>0.09</td>\n",
       "      <td>0.43</td>\n",
       "      <td>0.51</td>\n",
       "      <td>0.58</td>\n",
       "      <td>0.04</td>\n",
       "      <td>0.01</td>\n",
       "      <td>0.58</td>\n",
       "      <td>0.56</td>\n",
       "      <td>0.50</td>\n",
       "      <td>...</td>\n",
       "      <td>0.14</td>\n",
       "      <td>0.11</td>\n",
       "      <td>0.19</td>\n",
       "      <td>0.05</td>\n",
       "      <td>0.01</td>\n",
       "      <td>0.75</td>\n",
       "      <td>0</td>\n",
       "      <td>0.60</td>\n",
       "      <td>0.1</td>\n",
       "      <td>0.31</td>\n",
       "    </tr>\n",
       "    <tr>\n",
       "      <th>...</th>\n",
       "      <td>...</td>\n",
       "      <td>...</td>\n",
       "      <td>...</td>\n",
       "      <td>...</td>\n",
       "      <td>...</td>\n",
       "      <td>...</td>\n",
       "      <td>...</td>\n",
       "      <td>...</td>\n",
       "      <td>...</td>\n",
       "      <td>...</td>\n",
       "      <td>...</td>\n",
       "      <td>...</td>\n",
       "      <td>...</td>\n",
       "      <td>...</td>\n",
       "      <td>...</td>\n",
       "      <td>...</td>\n",
       "      <td>...</td>\n",
       "      <td>...</td>\n",
       "      <td>...</td>\n",
       "      <td>...</td>\n",
       "      <td>...</td>\n",
       "    </tr>\n",
       "    <tr>\n",
       "      <th>1968</th>\n",
       "      <td>10</td>\n",
       "      <td>1.00</td>\n",
       "      <td>0.29</td>\n",
       "      <td>0.21</td>\n",
       "      <td>0.29</td>\n",
       "      <td>1.00</td>\n",
       "      <td>0.26</td>\n",
       "      <td>0.24</td>\n",
       "      <td>0.47</td>\n",
       "      <td>0.28</td>\n",
       "      <td>...</td>\n",
       "      <td>0.13</td>\n",
       "      <td>1.00</td>\n",
       "      <td>1.00</td>\n",
       "      <td>0.53</td>\n",
       "      <td>0.62</td>\n",
       "      <td>0.64</td>\n",
       "      <td>0.5</td>\n",
       "      <td>0.64</td>\n",
       "      <td>0.35</td>\n",
       "      <td>0.75</td>\n",
       "    </tr>\n",
       "    <tr>\n",
       "      <th>1980</th>\n",
       "      <td>10</td>\n",
       "      <td>0.07</td>\n",
       "      <td>0.38</td>\n",
       "      <td>0.17</td>\n",
       "      <td>0.84</td>\n",
       "      <td>0.11</td>\n",
       "      <td>0.04</td>\n",
       "      <td>0.35</td>\n",
       "      <td>0.41</td>\n",
       "      <td>0.30</td>\n",
       "      <td>...</td>\n",
       "      <td>0.09</td>\n",
       "      <td>0.13</td>\n",
       "      <td>0.17</td>\n",
       "      <td>0.02</td>\n",
       "      <td>0.01</td>\n",
       "      <td>0.72</td>\n",
       "      <td>0</td>\n",
       "      <td>0.62</td>\n",
       "      <td>0.15</td>\n",
       "      <td>0.07</td>\n",
       "    </tr>\n",
       "    <tr>\n",
       "      <th>1990</th>\n",
       "      <td>10</td>\n",
       "      <td>0.16</td>\n",
       "      <td>0.37</td>\n",
       "      <td>0.25</td>\n",
       "      <td>0.69</td>\n",
       "      <td>0.04</td>\n",
       "      <td>0.25</td>\n",
       "      <td>0.35</td>\n",
       "      <td>0.50</td>\n",
       "      <td>0.31</td>\n",
       "      <td>...</td>\n",
       "      <td>0.08</td>\n",
       "      <td>0.32</td>\n",
       "      <td>0.18</td>\n",
       "      <td>0.08</td>\n",
       "      <td>0.06</td>\n",
       "      <td>0.78</td>\n",
       "      <td>0</td>\n",
       "      <td>0.91</td>\n",
       "      <td>0.28</td>\n",
       "      <td>0.23</td>\n",
       "    </tr>\n",
       "    <tr>\n",
       "      <th>1991</th>\n",
       "      <td>10</td>\n",
       "      <td>0.08</td>\n",
       "      <td>0.51</td>\n",
       "      <td>0.06</td>\n",
       "      <td>0.87</td>\n",
       "      <td>0.22</td>\n",
       "      <td>0.10</td>\n",
       "      <td>0.58</td>\n",
       "      <td>0.74</td>\n",
       "      <td>0.63</td>\n",
       "      <td>...</td>\n",
       "      <td>0.03</td>\n",
       "      <td>0.38</td>\n",
       "      <td>0.33</td>\n",
       "      <td>0.02</td>\n",
       "      <td>0.02</td>\n",
       "      <td>0.79</td>\n",
       "      <td>0</td>\n",
       "      <td>0.22</td>\n",
       "      <td>0.18</td>\n",
       "      <td>0.19</td>\n",
       "    </tr>\n",
       "    <tr>\n",
       "      <th>1992</th>\n",
       "      <td>10</td>\n",
       "      <td>0.20</td>\n",
       "      <td>0.78</td>\n",
       "      <td>0.14</td>\n",
       "      <td>0.46</td>\n",
       "      <td>0.24</td>\n",
       "      <td>0.77</td>\n",
       "      <td>0.50</td>\n",
       "      <td>0.62</td>\n",
       "      <td>0.40</td>\n",
       "      <td>...</td>\n",
       "      <td>0.11</td>\n",
       "      <td>0.30</td>\n",
       "      <td>0.05</td>\n",
       "      <td>0.08</td>\n",
       "      <td>0.04</td>\n",
       "      <td>0.73</td>\n",
       "      <td>0.5</td>\n",
       "      <td>1.00</td>\n",
       "      <td>0.13</td>\n",
       "      <td>0.48</td>\n",
       "    </tr>\n",
       "  </tbody>\n",
       "</table>\n",
       "<p>318 rows × 124 columns</p>\n",
       "</div>"
      ],
      "text/plain": [
       "       1  0.19  0.33  0.02   0.9  0.12  0.17  0.34  0.47  0.29  ...  0.12.2  \\\n",
       "15     1  0.15  0.31  0.40  0.63  0.14  0.06  0.58  0.72  0.65  ...    0.06   \n",
       "19     1  0.25  0.54  0.05  0.71  0.48  0.30  0.42  0.48  0.28  ...    0.09   \n",
       "20     1  1.00  0.42  0.47  0.59  0.12  0.05  0.41  0.53  0.34  ...    1.00   \n",
       "22     1  0.11  0.43  0.04  0.89  0.09  0.06  0.45  0.48  0.31  ...    0.16   \n",
       "32     1  0.09  0.43  0.51  0.58  0.04  0.01  0.58  0.56  0.50  ...    0.14   \n",
       "...   ..   ...   ...   ...   ...   ...   ...   ...   ...   ...  ...     ...   \n",
       "1968  10  1.00  0.29  0.21  0.29  1.00  0.26  0.24  0.47  0.28  ...    0.13   \n",
       "1980  10  0.07  0.38  0.17  0.84  0.11  0.04  0.35  0.41  0.30  ...    0.09   \n",
       "1990  10  0.16  0.37  0.25  0.69  0.04  0.25  0.35  0.50  0.31  ...    0.08   \n",
       "1991  10  0.08  0.51  0.06  0.87  0.22  0.10  0.58  0.74  0.63  ...    0.03   \n",
       "1992  10  0.20  0.78  0.14  0.46  0.24  0.77  0.50  0.62  0.40  ...    0.11   \n",
       "\n",
       "      0.26.1  0.2.1  0.06.3  0.04.2  0.9.1  0.5.2  0.32.2  0.14.3  0.2.2  \n",
       "15      0.39   0.84    0.06    0.06   0.91    0.5    0.88    0.26   0.49  \n",
       "19      0.46   0.05    0.09    0.05   0.88    0.5    0.76    0.13   0.34  \n",
       "20      0.07   0.15       1    0.35   0.73      0    0.31    0.21   0.69  \n",
       "22      0.12   0.07    0.04    0.01   0.81      1    0.56    0.09   0.63  \n",
       "32      0.11   0.19    0.05    0.01   0.75      0    0.60     0.1   0.31  \n",
       "...      ...    ...     ...     ...    ...    ...     ...     ...    ...  \n",
       "1968    1.00   1.00    0.53    0.62   0.64    0.5    0.64    0.35   0.75  \n",
       "1980    0.13   0.17    0.02    0.01   0.72      0    0.62    0.15   0.07  \n",
       "1990    0.32   0.18    0.08    0.06   0.78      0    0.91    0.28   0.23  \n",
       "1991    0.38   0.33    0.02    0.02   0.79      0    0.22    0.18   0.19  \n",
       "1992    0.30   0.05    0.08    0.04   0.73    0.5    1.00    0.13   0.48  \n",
       "\n",
       "[318 rows x 124 columns]"
      ]
     },
     "execution_count": 108,
     "metadata": {},
     "output_type": "execute_result"
    }
   ],
   "source": [
    "df"
   ]
  },
  {
   "cell_type": "code",
   "execution_count": 109,
   "id": "121f93cf",
   "metadata": {},
   "outputs": [
    {
     "data": {
      "text/plain": [
       "1         0\n",
       "0.19      0\n",
       "0.33      0\n",
       "0.02      0\n",
       "0.9       0\n",
       "         ..\n",
       "0.9.1     0\n",
       "0.5.2     0\n",
       "0.32.2    0\n",
       "0.14.3    0\n",
       "0.2.2     0\n",
       "Length: 124, dtype: int64"
      ]
     },
     "execution_count": 109,
     "metadata": {},
     "output_type": "execute_result"
    }
   ],
   "source": [
    "df.isnull().sum()"
   ]
  },
  {
   "cell_type": "code",
   "execution_count": 111,
   "id": "c03c4f5c",
   "metadata": {},
   "outputs": [],
   "source": [
    "x=df.drop(columns='1',axis=1)\n",
    "y=df['1']"
   ]
  },
  {
   "cell_type": "code",
   "execution_count": 112,
   "id": "bcbdddd4",
   "metadata": {},
   "outputs": [
    {
     "data": {
      "text/plain": [
       "(318, 123)"
      ]
     },
     "execution_count": 112,
     "metadata": {},
     "output_type": "execute_result"
    }
   ],
   "source": [
    "x.shape"
   ]
  },
  {
   "cell_type": "code",
   "execution_count": 113,
   "id": "9ef619dd",
   "metadata": {},
   "outputs": [
    {
     "data": {
      "text/plain": [
       "(318,)"
      ]
     },
     "execution_count": 113,
     "metadata": {},
     "output_type": "execute_result"
    }
   ],
   "source": [
    "y.shape"
   ]
  },
  {
   "cell_type": "code",
   "execution_count": 114,
   "id": "78fd4827",
   "metadata": {},
   "outputs": [],
   "source": [
    "from sklearn.model_selection import train_test_split\n",
    "x_train, x_test, y_train, y_test = train_test_split(x, y, test_size = 0.30, random_state =100)"
   ]
  },
  {
   "cell_type": "code",
   "execution_count": 115,
   "id": "0b344df3",
   "metadata": {},
   "outputs": [
    {
     "name": "stdout",
     "output_type": "stream",
     "text": [
      "<class 'pandas.core.frame.DataFrame'>\n",
      "Int64Index: 318 entries, 15 to 1992\n",
      "Columns: 124 entries, 1 to 0.2.2\n",
      "dtypes: float64(100), int64(1), object(23)\n",
      "memory usage: 310.5+ KB\n"
     ]
    }
   ],
   "source": [
    "df.info()"
   ]
  },
  {
   "cell_type": "code",
   "execution_count": 116,
   "id": "bfc66b7c",
   "metadata": {},
   "outputs": [
    {
     "data": {
      "text/plain": [
       "(96, 123)"
      ]
     },
     "execution_count": 116,
     "metadata": {},
     "output_type": "execute_result"
    }
   ],
   "source": [
    "x_test.shape"
   ]
  },
  {
   "cell_type": "code",
   "execution_count": 117,
   "id": "f54f87d6",
   "metadata": {},
   "outputs": [
    {
     "data": {
      "text/plain": [
       "(96,)"
      ]
     },
     "execution_count": 117,
     "metadata": {},
     "output_type": "execute_result"
    }
   ],
   "source": [
    "y_test.shape"
   ]
  },
  {
   "cell_type": "code",
   "execution_count": 118,
   "id": "a857cce8",
   "metadata": {},
   "outputs": [
    {
     "data": {
      "text/plain": [
       "(222, 123)"
      ]
     },
     "execution_count": 118,
     "metadata": {},
     "output_type": "execute_result"
    }
   ],
   "source": [
    "x_train.shape"
   ]
  },
  {
   "cell_type": "code",
   "execution_count": 119,
   "id": "76d8213b",
   "metadata": {},
   "outputs": [
    {
     "data": {
      "text/plain": [
       "(222,)"
      ]
     },
     "execution_count": 119,
     "metadata": {},
     "output_type": "execute_result"
    }
   ],
   "source": [
    "y_train.shape"
   ]
  },
  {
   "cell_type": "code",
   "execution_count": 75,
   "id": "e992789b",
   "metadata": {},
   "outputs": [
    {
     "ename": "AttributeError",
     "evalue": "'numpy.ndarray' object has no attribute 'y_train'",
     "output_type": "error",
     "traceback": [
      "\u001b[1;31m---------------------------------------------------------------------------\u001b[0m",
      "\u001b[1;31mAttributeError\u001b[0m                            Traceback (most recent call last)",
      "Cell \u001b[1;32mIn[75], line 1\u001b[0m\n\u001b[1;32m----> 1\u001b[0m l\u001b[38;5;241m=\u001b[39mLinearRegression()\u001b[38;5;241m.\u001b[39mfit(\u001b[43mx_train\u001b[49m\u001b[38;5;241;43m.\u001b[39;49m\u001b[43my_train\u001b[49m)\n",
      "\u001b[1;31mAttributeError\u001b[0m: 'numpy.ndarray' object has no attribute 'y_train'"
     ]
    }
   ],
   "source": [
    "l=LinearRegression().fit(x_train.y_train)"
   ]
  },
  {
   "cell_type": "code",
   "execution_count": 120,
   "id": "185015e9",
   "metadata": {},
   "outputs": [],
   "source": [
    "from sklearn.linear_model import LinearRegression\n",
    "LR=LinearRegression().fit(x_train,y_train)"
   ]
  },
  {
   "cell_type": "code",
   "execution_count": 121,
   "id": "9f9c24a3",
   "metadata": {},
   "outputs": [
    {
     "data": {
      "text/plain": [
       "0.557657535965604"
      ]
     },
     "execution_count": 121,
     "metadata": {},
     "output_type": "execute_result"
    }
   ],
   "source": [
    "LR.score(x_train,y_train)"
   ]
  },
  {
   "cell_type": "code",
   "execution_count": 122,
   "id": "705116d9",
   "metadata": {},
   "outputs": [
    {
     "name": "stdout",
     "output_type": "stream",
     "text": [
      "Intercept 66.65077155354238\n",
      "Slope [-8.61454006e+00  1.47119669e+01 -6.80848520e-01 -5.75124855e+00\n",
      "  3.50364116e+00 -4.29015400e-01 -2.98388344e+00 -5.92309942e+00\n",
      " -1.03262903e+01 -2.09635565e+01 -1.81327479e-01 -5.38552620e+00\n",
      " -7.35486796e+00 -1.26601095e+01 -2.24238772e+00 -9.44060924e+00\n",
      "  9.55001348e+00 -3.43844523e+00  2.08354934e+00  1.25980451e+01\n",
      "  1.10687926e+01 -2.35686311e+01  1.11602797e+00  4.79568392e-01\n",
      "  7.33857348e+00 -1.25380213e-01  5.49335855e+00 -5.22442893e-01\n",
      "  5.75435090e+00  1.41813895e+01 -1.95643029e+01  1.27371257e+01\n",
      " -6.96704325e+00  5.00428144e+00  6.19197971e-01  1.48951181e+00\n",
      " -5.43785764e+00 -2.04090113e+01  1.68526559e+01  8.29365226e+00\n",
      "  1.85370157e+01 -4.10300964e+01 -1.77076091e+01  3.14047506e+01\n",
      " -2.17820591e+01 -2.75966472e+00 -4.67437755e+00 -5.67542339e+00\n",
      "  5.29266338e+00  6.24280960e+00 -1.51973547e-01  5.78850887e+00\n",
      "  7.42279576e+00 -2.30247944e+01  1.12627992e+01  1.07459242e+00\n",
      " -8.38141633e+00  6.00628134e+01 -7.09257847e+01  1.08327716e+01\n",
      " -4.98194045e+00  7.19606727e+00  2.41121688e+01 -1.10068737e+01\n",
      " -3.79178648e+01  2.31067979e+00  2.44742710e+01  7.12681472e+01\n",
      " -1.00432318e+00 -1.03604379e+01  6.30860620e-01  3.11361781e+00\n",
      "  1.65512962e-01 -8.44094133e+01  5.59053828e+00 -8.47432977e+00\n",
      "  6.22839155e-01  2.77514685e+00 -1.76541376e+00 -2.35352816e+01\n",
      " -6.37635974e+00  2.43496892e+01 -5.38049961e+00  1.56977710e+01\n",
      " -5.96408942e+00  1.18244889e+00 -4.51572396e-01  1.14567339e+00\n",
      "  2.75397520e+00  1.64040468e+00 -5.22099814e-01 -2.47029588e+00\n",
      " -8.46682885e+00  4.19227635e+00 -9.72458577e-01  5.89565026e+00\n",
      " -4.51597142e-02 -5.01905815e+02  7.68143681e+00  1.01083331e+01\n",
      "  7.35525216e+00 -1.40527268e+01  6.17882944e+00  4.98758481e+02\n",
      "  3.47108845e+00 -1.04256855e+01  1.83591656e+00 -6.03513010e+00\n",
      "  1.53389137e+00 -1.54022898e+01  1.50866423e+01  1.54360358e+00\n",
      "  8.25054460e-01 -3.37056593e+00 -4.06566066e+00 -2.25684583e+00\n",
      "  6.36123911e-01 -9.29484419e+00 -6.03388166e-01 -7.55077127e-01\n",
      " -1.51248680e+00 -2.31663778e+00 -3.51614351e+00]\n"
     ]
    }
   ],
   "source": [
    "print('Intercept',LR.intercept_)\n",
    "print('Slope',LR.coef_)"
   ]
  },
  {
   "cell_type": "code",
   "execution_count": 123,
   "id": "a714a96b",
   "metadata": {},
   "outputs": [
    {
     "data": {
      "text/plain": [
       "<AxesSubplot:xlabel='0.19', ylabel='0.19'>"
      ]
     },
     "execution_count": 123,
     "metadata": {},
     "output_type": "execute_result"
    },
    {
     "data": {
      "image/png": "[encoded data removed]",
      "text/plain": [
       "<Figure size 640x480 with 1 Axes>"
      ]
     },
     "metadata": {},
     "output_type": "display_data"
    }
   ],
   "source": [
    "sb.lineplot(x=df.iloc[:,1],y=((-8.61454006e+00*df.iloc[:,1])+66.65077155354238)) # slop * intercept\n",
    "sb.lineplot(x=df.iloc[:,2],y=((1.47119669e+01*df.iloc[:,2])+66.65077155354238))\n",
    "sb.lineplot(x=df.iloc[:,3],y=((-6.80848520e-01*df.iloc[:,3])+66.65077155354238))"
   ]
  },
  {
   "cell_type": "code",
   "execution_count": 124,
   "id": "d954921b",
   "metadata": {},
   "outputs": [
    {
     "data": {
      "text/plain": [
       "array([ 3.63428352e+00,  1.31625100e+00,  2.80818934e+00, -1.42433488e-01,\n",
       "        1.33978462e+00,  7.43224925e+00,  1.30068681e+01, -1.04706857e+00,\n",
       "        3.80357982e+00,  9.98511107e+00,  3.98167860e+00,  1.73167292e+00,\n",
       "        7.00814639e+00,  8.09542896e+00,  1.13222061e+01,  1.55138204e+01,\n",
       "       -1.01456147e+00,  8.09278007e+00,  1.22108328e+01,  7.92706746e+00,\n",
       "        4.72685564e+00,  4.24253044e+00,  2.64941636e+00,  2.65018765e+00,\n",
       "        1.04928739e+01,  5.02056082e+00,  7.19493627e+00,  3.08574037e+00,\n",
       "        1.11752717e+01,  5.53489111e+00,  4.04352886e+00,  7.16506622e+00,\n",
       "        6.14786445e+00,  1.59338924e-01,  8.96238330e+00,  1.12791302e+01,\n",
       "        6.68216795e+00, -4.91969983e-01,  5.02197278e+00,  4.07893848e+00,\n",
       "        3.05435759e+00,  2.66480564e+00, -3.28428814e+00,  3.84501799e+00,\n",
       "        6.09478677e-01,  5.34929561e+00,  5.04905709e+00,  2.73873379e+00,\n",
       "        4.72676745e+00,  1.29424158e+01,  1.74719099e+00,  1.14215248e+01,\n",
       "        1.11010394e-01,  2.25639492e+00,  3.73476705e+00,  3.75194176e+00,\n",
       "       -1.40571427e-01,  9.12632641e+00,  4.26462268e+00,  1.27748959e+01,\n",
       "        1.68686548e+01, -3.47481453e-01,  3.70831100e+00,  1.23531253e+01,\n",
       "        7.86816643e+00,  2.20337340e+00, -2.37536896e+00,  2.69954461e+00,\n",
       "        1.06092779e+00,  6.19474224e+00,  3.67384216e+00,  7.26172546e+00,\n",
       "        1.53583706e+01,  8.36503038e-01,  9.79459264e+00,  8.99328225e+00,\n",
       "        1.17807088e-03,  4.54187789e+00,  9.93940525e+00,  2.32779979e+00,\n",
       "        7.32518195e+00,  3.08892123e+00,  5.68542141e+00,  1.71076212e+00,\n",
       "        2.71594426e+00,  9.06889379e+00,  8.38333541e+00,  2.34229786e+00,\n",
       "        5.38339799e+00,  8.80622113e+00,  3.40279926e+00,  5.83230211e+00,\n",
       "        1.18336519e+01,  5.59294734e+00,  1.60809859e+00,  8.01184246e+00])"
      ]
     },
     "execution_count": 124,
     "metadata": {},
     "output_type": "execute_result"
    }
   ],
   "source": [
    "pred_y=LR.predict(x_test) #predicted y\n",
    "pred_y"
   ]
  },
  {
   "cell_type": "code",
   "execution_count": null,
   "id": "7104eb6f",
   "metadata": {},
   "outputs": [],
   "source": [
    "l="
   ]
  },
  {
   "cell_type": "markdown",
   "id": "c40a1d64",
   "metadata": {},
   "source": [
    "# Task 4"
   ]
  },
  {
   "cell_type": "code",
   "execution_count": 102,
   "id": "cb3216f7",
   "metadata": {},
   "outputs": [],
   "source": [
    "#model evaluation\n",
    "from sklearn.metrics import mean_squared_error\n",
    "from sklearn.metrics import mean_absolute_error\n",
    "\n",
    "MSE=mean_squared_error(pred_y,y_test)\n",
    "MAE=mean_absolute_error(pred_y,y_test)"
   ]
  },
  {
   "cell_type": "code",
   "execution_count": 103,
   "id": "a878a4dc",
   "metadata": {},
   "outputs": [
    {
     "name": "stdout",
     "output_type": "stream",
     "text": [
      "R_Square 0.8977646858436497\n",
      "MSE 0.07599820478203619\n",
      "RMSE 0.27567771905258537\n",
      "MAE 0.22397385913016996\n"
     ]
    }
   ],
   "source": [
    "print('R_Square',LR.score(x_train,y_train))\n",
    "print('MSE',MSE)\n",
    "print('RMSE',mean_squared_error(pred_y,y_test,squared=False))\n",
    "print('MAE',MAE)"
   ]
  },
  {
   "cell_type": "code",
   "execution_count": 125,
   "id": "96931c46",
   "metadata": {},
   "outputs": [
    {
     "data": {
      "image/png": "[encoded data removed]",
      "text/plain": [
       "<Figure size 640x480 with 1 Axes>"
      ]
     },
     "metadata": {},
     "output_type": "display_data"
    }
   ],
   "source": [
    "plt.scatter(y_test,pred_y)\n",
    "plt.show()"
   ]
  },
  {
   "cell_type": "code",
   "execution_count": null,
   "id": "664280ae",
   "metadata": {},
   "outputs": [],
   "source": []
  }
 ],
 "metadata": {
  "kernelspec": {
   "display_name": "Python 3 (ipykernel)",
   "language": "python",
   "name": "python3"
  },
  "language_info": {
   "codemirror_mode": {
    "name": "ipython",
    "version": 3
   },
   "file_extension": ".py",
   "mimetype": "text/x-python",
   "name": "python",
   "nbconvert_exporter": "python",
   "pygments_lexer": "ipython3",
   "version": "3.10.9"
  }
 },
 "nbformat": 4,
 "nbformat_minor": 5
}
